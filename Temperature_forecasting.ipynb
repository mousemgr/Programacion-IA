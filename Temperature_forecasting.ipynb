{
  "nbformat": 4,
  "nbformat_minor": 0,
  "metadata": {
    "colab": {
      "name": "Temperature_forecasting.ipynb",
      "provenance": [],
      "collapsed_sections": []
    },
    "kernelspec": {
      "name": "python3",
      "display_name": "Python 3"
    },
    "accelerator": "GPU"
  },
  "cells": [
    {
      "cell_type": "code",
      "metadata": {
        "colab": {
          "base_uri": "https://localhost:8080/"
        },
        "id": "TUgQI1KRHpFF",
        "outputId": "0f1c36a6-861e-44ef-a11b-3265f1d0d791"
      },
      "source": [
        "from google.colab import drive\n",
        "drive.mount('/content/drive')"
      ],
      "execution_count": 1,
      "outputs": [
        {
          "output_type": "stream",
          "text": [
            "Mounted at /content/drive\n"
          ],
          "name": "stdout"
        }
      ]
    },
    {
      "cell_type": "markdown",
      "metadata": {
        "id": "PEK3k4h8vpT3"
      },
      "source": [
        "En la presente implementación, estaremos trabajando con una base de datos de series de tiempo recolectada en el Weather Station del Instituto Max Planck para Biogeoquímica, ubicando en Jena, Alemania (http://www.bgc-jena.mpg.de/wetter/) <br>\r\n",
        "\r\n",
        "En esta base de datos, 14 cantidades diferentes (incluyendo temperatura del aire, presión atmosférica, humedad y dirección del aire) se registraron cada 10 minutos a los largo de mucho años. La base de datos original comenzó a construirse en el 2003, pero en nuestro caso, usaremos sólo la información del período 2009-2016. Nuestra intención al usar esta base de datos es tomar cierta información atmosférica del pasado reciente para predecir la temperatura del aire 24 horas después. Específicamente, se estarán tomando como datos de entrada, la información atmosférica de algunos días en el pasada."
      ]
    },
    {
      "cell_type": "markdown",
      "metadata": {
        "id": "k4gRLDEEJO0z"
      },
      "source": [
        "# **Descomprimimos la base de datos**"
      ]
    },
    {
      "cell_type": "code",
      "metadata": {
        "colab": {
          "base_uri": "https://localhost:8080/"
        },
        "id": "6eQqpxPsJQxB",
        "outputId": "bf4e7708-858b-47f3-992d-385a061b1f21"
      },
      "source": [
        "!mkdir jena_climate\n",
        "!cd jena_climate\n",
        "!wget https://s3.amazonaws.com/keras-datasets/jena_climate_2009_2016.csv.zip\n",
        "!unzip jena_climate_2009_2016.csv.zip"
      ],
      "execution_count": 2,
      "outputs": [
        {
          "output_type": "stream",
          "text": [
            "--2021-01-09 16:11:54--  https://s3.amazonaws.com/keras-datasets/jena_climate_2009_2016.csv.zip\n",
            "Resolving s3.amazonaws.com (s3.amazonaws.com)... 52.217.70.166\n",
            "Connecting to s3.amazonaws.com (s3.amazonaws.com)|52.217.70.166|:443... connected.\n",
            "HTTP request sent, awaiting response... 200 OK\n",
            "Length: 13565642 (13M) [application/zip]\n",
            "Saving to: ‘jena_climate_2009_2016.csv.zip’\n",
            "\n",
            "jena_climate_2009_2 100%[===================>]  12.94M  18.5MB/s    in 0.7s    \n",
            "\n",
            "2021-01-09 16:11:55 (18.5 MB/s) - ‘jena_climate_2009_2016.csv.zip’ saved [13565642/13565642]\n",
            "\n",
            "Archive:  jena_climate_2009_2016.csv.zip\n",
            "  inflating: jena_climate_2009_2016.csv  \n",
            "  inflating: __MACOSX/._jena_climate_2009_2016.csv  \n"
          ],
          "name": "stdout"
        }
      ]
    },
    {
      "cell_type": "code",
      "metadata": {
        "colab": {
          "base_uri": "https://localhost:8080/"
        },
        "id": "xe9smbN1Lntb",
        "outputId": "b6309963-adcb-4428-db71-4a1d220ad877"
      },
      "source": [
        "import os\n",
        "\n",
        "fname = 'jena_climate_2009_2016.csv'\n",
        "\n",
        "f = open(fname)\n",
        "data = f.read()\n",
        "f.close()\n",
        "\n",
        "lines = data.split('\\n')\n",
        "header = lines[0].split(',')\n",
        "lines = lines[1:]\n",
        "\n",
        "print(header)\n",
        "print(len(lines))"
      ],
      "execution_count": 3,
      "outputs": [
        {
          "output_type": "stream",
          "text": [
            "['\"Date Time\"', '\"p (mbar)\"', '\"T (degC)\"', '\"Tpot (K)\"', '\"Tdew (degC)\"', '\"rh (%)\"', '\"VPmax (mbar)\"', '\"VPact (mbar)\"', '\"VPdef (mbar)\"', '\"sh (g/kg)\"', '\"H2OC (mmol/mol)\"', '\"rho (g/m**3)\"', '\"wv (m/s)\"', '\"max. wv (m/s)\"', '\"wd (deg)\"']\n",
            "420451\n"
          ],
          "name": "stdout"
        }
      ]
    },
    {
      "cell_type": "code",
      "metadata": {
        "colab": {
          "base_uri": "https://localhost:8080/",
          "height": 35
        },
        "id": "1XAZEda3L2DD",
        "outputId": "6c883cbe-196c-41a9-8828-533c6fa3c97c"
      },
      "source": [
        "lines[0]"
      ],
      "execution_count": 4,
      "outputs": [
        {
          "output_type": "execute_result",
          "data": {
            "application/vnd.google.colaboratory.intrinsic+json": {
              "type": "string"
            },
            "text/plain": [
              "'01.01.2009 00:10:00,996.52,-8.02,265.40,-8.90,93.30,3.33,3.11,0.22,1.94,3.12,1307.75,1.03,1.75,152.30'"
            ]
          },
          "metadata": {
            "tags": []
          },
          "execution_count": 4
        }
      ]
    },
    {
      "cell_type": "code",
      "metadata": {
        "id": "QK2tOPckMqQx"
      },
      "source": [
        "#Convertimos las líneas (timesteps) en un numpy array\n",
        "import numpy as np\n",
        "\n",
        "float_data = np.zeros((len(lines), len(header) - 1))\n",
        "for i, line in enumerate(lines):\n",
        "    values = [float(x) for x in line.split(',')[1:]]\n",
        "    float_data[i, :] = values"
      ],
      "execution_count": 5,
      "outputs": []
    },
    {
      "cell_type": "code",
      "metadata": {
        "colab": {
          "base_uri": "https://localhost:8080/",
          "height": 268
        },
        "id": "hCkW-yeMNVLS",
        "outputId": "09cebb95-4e57-47fa-e5d3-5b1e11d3d142"
      },
      "source": [
        "#Temperatura registrada en todo el rango temporal de la base de datos\n",
        "from matplotlib import pyplot as plt\n",
        "\n",
        "temp = float_data[:, 1]  # temperatura (en grados Celsius)\n",
        "plt.plot(range(len(temp)), temp)\n",
        "plt.show()"
      ],
      "execution_count": 6,
      "outputs": [
        {
          "output_type": "display_data",
          "data": {
            "image/png": "[encoded data removed]",
            "text/plain": [
              "<Figure size 432x288 with 1 Axes>"
            ]
          },
          "metadata": {
            "tags": [],
            "needs_background": "light"
          }
        }
      ]
    },
    {
      "cell_type": "code",
      "metadata": {
        "colab": {
          "base_uri": "https://localhost:8080/",
          "height": 265
        },
        "id": "dZgRwT1dNrlq",
        "outputId": "59430cf8-6f29-4163-80a5-f5bca414f853"
      },
      "source": [
        "#Temperatura registrada en los primeros 10 días\n",
        "plt.plot(range(1440), temp[:1440])\n",
        "plt.show()"
      ],
      "execution_count": 7,
      "outputs": [
        {
          "output_type": "display_data",
          "data": {
            "image/png": "[encoded data removed]",
            "text/plain": [
              "<Figure size 432x288 with 1 Axes>"
            ]
          },
          "metadata": {
            "tags": [],
            "needs_background": "light"
          }
        }
      ]
    },
    {
      "cell_type": "markdown",
      "metadata": {
        "id": "vHtSU1zNx0Uw"
      },
      "source": [
        "# **Preparación de los datos**"
      ]
    },
    {
      "cell_type": "markdown",
      "metadata": {
        "id": "F2utBKcOx9zV"
      },
      "source": [
        "La formulación exacta del problema será la siguiente: considerando datos que provienen de *looback* timesteps (recuerda que un timesteps son 10 minutos) y muestreados cada *steps* timesteps, ¿podremos predecir la temperatura en *delay* timesteps?\r\n",
        "Para afrontar este problema, usaremos los siguientes parámetros:\r\n",
        "\r\n",
        "lookback = 1440, i.e. usaremos datos de hace 10 días. <br>\r\n",
        "steps = 6, i.e. los datos serán muestreados cada hora. <br>\r\n",
        "delay = 144, i.e. las etiquetas corresponderán a la temperatura del aire 24 horas en el futuro. <br>"
      ]
    },
    {
      "cell_type": "markdown",
      "metadata": {
        "id": "E7Cr4OU1zjdP"
      },
      "source": [
        "**Normalizamos la base de datos**"
      ]
    },
    {
      "cell_type": "code",
      "metadata": {
        "id": "-iJWmgKBzlQV"
      },
      "source": [
        "mean = float_data[:200000].mean(axis=0)\r\n",
        "float_data -= mean\r\n",
        "std = float_data[:200000].std(axis=0)\r\n",
        "float_data /= std"
      ],
      "execution_count": 8,
      "outputs": []
    },
    {
      "cell_type": "markdown",
      "metadata": {
        "id": "17nXmNP6zwD9"
      },
      "source": [
        "**Construcción de un generador de datos**"
      ]
    },
    {
      "cell_type": "markdown",
      "metadata": {
        "id": "LRloI_uSz1lF"
      },
      "source": [
        "Con el objetivo de extraer los datos temporales de la base de datos y emplearlos para entrenar nuestro modelo, se recomienda diseñar un generador de datos. Este generador producirá una tupla *(samples, targets)*, donde *samples* es un batch de datos de entrada y *targets* es un arreglo que almacena la temperatura 24 horas después. El generador requiere que se especifiquen los siguientes argumentos:<br> <br>\r\n",
        "data: Los datos originales en punto flotante, los cuales normalizamos previamente. <br>\r\n",
        "lookback: Cuantos timesteps en el pasado debemos considerar como datos de entrada. <br>\r\n",
        "delay: Cuantos timesteps en el futuro debemos considerar para las etiquetas. <br>\r\n",
        "min_index y max_index: Útiles para particionar la base de datos en conjuntos de entrenamiento, validación y prueba. <br>\r\n",
        "shuffle: Aplicar shuffling en las muestras o extraerlas cronológicamente. <br>\r\n",
        "step: El período, en timesteps, en el que muestreamos los datos. Su valor será de 6, para indicar que estaremos muestreando datos cada hora."
      ]
    },
    {
      "cell_type": "code",
      "metadata": {
        "id": "JfJUeY7N1tdY"
      },
      "source": [
        "def generator(data, lookback, delay, min_index, max_index,\r\n",
        "              shuffle=False, batch_size=128, step=6):\r\n",
        "    if max_index is None:\r\n",
        "        max_index = len(data) - delay - 1\r\n",
        "    i = min_index + lookback\r\n",
        "    while 1:\r\n",
        "        if shuffle:\r\n",
        "            rows = np.random.randint(\r\n",
        "                min_index + lookback, max_index, size=batch_size)\r\n",
        "        else:\r\n",
        "            if i + batch_size >= max_index:\r\n",
        "                i = min_index + lookback\r\n",
        "            rows = np.arange(i, min(i + batch_size, max_index))\r\n",
        "            i += len(rows)\r\n",
        "\r\n",
        "        samples = np.zeros((len(rows),\r\n",
        "                           lookback // step,\r\n",
        "                           data.shape[-1]))\r\n",
        "        targets = np.zeros((len(rows),))\r\n",
        "        for j, row in enumerate(rows):\r\n",
        "            indices = range(rows[j] - lookback, rows[j], step)\r\n",
        "            samples[j] = data[indices]\r\n",
        "            targets[j] = data[rows[j] + delay][1]\r\n",
        "        yield samples, targets"
      ],
      "execution_count": 9,
      "outputs": []
    },
    {
      "cell_type": "markdown",
      "metadata": {
        "id": "DLC89U9g16a1"
      },
      "source": [
        "Ahora, vamos a usar la función generator para crear tres generador: uno para el conjunto de entrenamiento, otro para el conjunto de validación y el último para el conjunto de prueba. Cada generador tomará información de diferentes segmentos temporales de la base de datos: el generador de entrenamiento usará los primeros 200,00 timesteps, mientras que el generador de validación empleará los siguientes 100,000 timesteps. Por su parte, el generador de prueba extraerá los timesteps restantes."
      ]
    },
    {
      "cell_type": "code",
      "metadata": {
        "id": "HSNHa9dH15jM"
      },
      "source": [
        "lookback = 1440\r\n",
        "step = 6\r\n",
        "delay = 144\r\n",
        "batch_size = 128\r\n",
        "\r\n",
        "train_gen = generator(float_data,\r\n",
        "                      lookback=lookback,\r\n",
        "                      delay=delay,\r\n",
        "                      min_index=0,\r\n",
        "                      max_index=200000,\r\n",
        "                      shuffle=True,\r\n",
        "                      step=step, \r\n",
        "                      batch_size=batch_size)\r\n",
        "val_gen = generator(float_data,\r\n",
        "                    lookback=lookback,\r\n",
        "                    delay=delay,\r\n",
        "                    min_index=200001,\r\n",
        "                    max_index=300000,\r\n",
        "                    step=step,\r\n",
        "                    batch_size=batch_size)\r\n",
        "test_gen = generator(float_data,\r\n",
        "                     lookback=lookback,\r\n",
        "                     delay=delay,\r\n",
        "                     min_index=300001,\r\n",
        "                     max_index=None,\r\n",
        "                     step=step,\r\n",
        "                     batch_size=batch_size)\r\n",
        "\r\n",
        "# Esta variable nos permite definir cuantas veces se tiene\r\n",
        "# que iterar en \"validation_gen\" para procesar todo el conjunto de validación.\r\n",
        "val_steps = (300000 - 200001 - lookback) // batch_size\r\n",
        "\r\n",
        "# Esta variable nos permite definir cuantas veces se tiene\r\n",
        "# que iterar en \"test_gen\" para procesar todo el conjunto de prueba.\r\n",
        "test_steps = (len(float_data) - 300001 - lookback) // batch_size"
      ],
      "execution_count": 10,
      "outputs": []
    },
    {
      "cell_type": "markdown",
      "metadata": {
        "id": "8SPBibOG3mMv"
      },
      "source": [
        "# **Definimos la arquitectura recurrente GRU**"
      ]
    },
    {
      "cell_type": "code",
      "metadata": {
        "colab": {
          "base_uri": "https://localhost:8080/"
        },
        "id": "spD879T73pF8",
        "outputId": "4cfe0a3a-0426-4acf-ef4a-8b87f7c375dc"
      },
      "source": [
        "from tensorflow.keras.models import Sequential\r\n",
        "from tensorflow.keras import layers\r\n",
        "from tensorflow.keras.optimizers import RMSprop\r\n",
        "from tensorflow.keras.callbacks import EarlyStopping\r\n",
        "from tensorflow.keras.callbacks import ModelCheckpoint\r\n",
        "\r\n",
        "model = Sequential()\r\n",
        "model.add(layers.GRU(32, input_shape=(None, float_data.shape[-1])))\r\n",
        "model.add(layers.Dense(1))\r\n",
        "\r\n",
        "model.compile(optimizer=RMSprop(), loss='mae')\r\n",
        "\r\n",
        "es = EarlyStopping(monitor= 'val_loss', mode='min', patience = 10, verbose=1)\r\n",
        "mc = ModelCheckpoint('/content/model_gru.h5', monitor='val_loss', mode='min', verbose=1, save_best_only=True)\r\n",
        "\r\n",
        "history = model.fit(train_gen,\r\n",
        "                              steps_per_epoch=500,\r\n",
        "                              epochs=20,\r\n",
        "                              validation_data=val_gen,\r\n",
        "                              validation_steps=val_steps,\r\n",
        "                              callbacks = [es, mc])"
      ],
      "execution_count": 11,
      "outputs": [
        {
          "output_type": "stream",
          "text": [
            "/usr/local/lib/python3.6/dist-packages/tensorflow/python/keras/engine/training.py:1844: UserWarning: `Model.fit_generator` is deprecated and will be removed in a future version. Please use `Model.fit`, which supports generators.\n",
            "  warnings.warn('`Model.fit_generator` is deprecated and '\n"
          ],
          "name": "stderr"
        },
        {
          "output_type": "stream",
          "text": [
            "Epoch 1/20\n",
            "500/500 [==============================] - 23s 32ms/step - loss: 0.3457 - val_loss: 0.2729\n",
            "\n",
            "Epoch 00001: val_loss improved from inf to 0.27287, saving model to /content/model_gru.h5\n",
            "Epoch 2/20\n",
            "500/500 [==============================] - 15s 30ms/step - loss: 0.2892 - val_loss: 0.2690\n",
            "\n",
            "Epoch 00002: val_loss improved from 0.27287 to 0.26900, saving model to /content/model_gru.h5\n",
            "Epoch 3/20\n",
            "500/500 [==============================] - 15s 30ms/step - loss: 0.2798 - val_loss: 0.2649\n",
            "\n",
            "Epoch 00003: val_loss improved from 0.26900 to 0.26494, saving model to /content/model_gru.h5\n",
            "Epoch 4/20\n",
            "500/500 [==============================] - 15s 31ms/step - loss: 0.2747 - val_loss: 0.2615\n",
            "\n",
            "Epoch 00004: val_loss improved from 0.26494 to 0.26149, saving model to /content/model_gru.h5\n",
            "Epoch 5/20\n",
            "500/500 [==============================] - 15s 31ms/step - loss: 0.2736 - val_loss: 0.2683\n",
            "\n",
            "Epoch 00005: val_loss did not improve from 0.26149\n",
            "Epoch 6/20\n",
            "500/500 [==============================] - 15s 31ms/step - loss: 0.2686 - val_loss: 0.2609\n",
            "\n",
            "Epoch 00006: val_loss improved from 0.26149 to 0.26095, saving model to /content/model_gru.h5\n",
            "Epoch 7/20\n",
            "500/500 [==============================] - 15s 31ms/step - loss: 0.2624 - val_loss: 0.2626\n",
            "\n",
            "Epoch 00007: val_loss did not improve from 0.26095\n",
            "Epoch 8/20\n",
            "500/500 [==============================] - 15s 31ms/step - loss: 0.2579 - val_loss: 0.2647\n",
            "\n",
            "Epoch 00008: val_loss did not improve from 0.26095\n",
            "Epoch 9/20\n",
            "500/500 [==============================] - 15s 31ms/step - loss: 0.2522 - val_loss: 0.2664\n",
            "\n",
            "Epoch 00009: val_loss did not improve from 0.26095\n",
            "Epoch 10/20\n",
            "500/500 [==============================] - 15s 31ms/step - loss: 0.2466 - val_loss: 0.2708\n",
            "\n",
            "Epoch 00010: val_loss did not improve from 0.26095\n",
            "Epoch 11/20\n",
            "500/500 [==============================] - 15s 31ms/step - loss: 0.2430 - val_loss: 0.2708\n",
            "\n",
            "Epoch 00011: val_loss did not improve from 0.26095\n",
            "Epoch 12/20\n",
            "500/500 [==============================] - 15s 30ms/step - loss: 0.2401 - val_loss: 0.2765\n",
            "\n",
            "Epoch 00012: val_loss did not improve from 0.26095\n",
            "Epoch 13/20\n",
            "500/500 [==============================] - 15s 31ms/step - loss: 0.2331 - val_loss: 0.2750\n",
            "\n",
            "Epoch 00013: val_loss did not improve from 0.26095\n",
            "Epoch 14/20\n",
            "500/500 [==============================] - 15s 30ms/step - loss: 0.2307 - val_loss: 0.2770\n",
            "\n",
            "Epoch 00014: val_loss did not improve from 0.26095\n",
            "Epoch 15/20\n",
            "500/500 [==============================] - 16s 31ms/step - loss: 0.2272 - val_loss: 0.2817\n",
            "\n",
            "Epoch 00015: val_loss did not improve from 0.26095\n",
            "Epoch 16/20\n",
            "500/500 [==============================] - 15s 30ms/step - loss: 0.2255 - val_loss: 0.2839\n",
            "\n",
            "Epoch 00016: val_loss did not improve from 0.26095\n",
            "Epoch 00016: early stopping\n"
          ],
          "name": "stdout"
        }
      ]
    },
    {
      "cell_type": "markdown",
      "metadata": {
        "id": "f4AIfeaS8xcN"
      },
      "source": [
        "# **Curva de pérdida**"
      ]
    },
    {
      "cell_type": "code",
      "metadata": {
        "colab": {
          "base_uri": "https://localhost:8080/",
          "height": 298
        },
        "id": "wESm2N-fRfaw",
        "outputId": "2baeff56-e5f5-4957-e59b-06a3bca1fff5"
      },
      "source": [
        "import matplotlib.pyplot as plt\n",
        "\n",
        "loss = history.history['loss']\n",
        "val_loss = history.history['val_loss']\n",
        "min_val_loss = min(val_loss)\n",
        "min_val_loss_epoch= val_loss.index(min(val_loss)) + 1\n",
        "\n",
        "epochs = range(len(loss))\n",
        "\n",
        "plt.plot(epochs, loss, 'go', label='Pérdida en el entrenamiento')\n",
        "plt.plot(epochs, val_loss, 'r', label='Pérdida en la validación')\n",
        "plt.plot(min_val_loss_epoch, min_val_loss, 'bo', label='Minimum loss')\n",
        "plt.title('Pérdida durante el entrenamiento y la validación')\n",
        "plt.legend()\n",
        "print(\"Best loss epoch : % d, Value : % .10f\" %(min_val_loss_epoch, min_val_loss))\n",
        "\n",
        "plt.show()"
      ],
      "execution_count": 13,
      "outputs": [
        {
          "output_type": "stream",
          "text": [
            "Best loss epoch :  6, Value :  0.2609483600\n"
          ],
          "name": "stdout"
        },
        {
          "output_type": "display_data",
          "data": {
            "image/png": "[encoded data removed]",
            "text/plain": [
              "<Figure size 432x288 with 1 Axes>"
            ]
          },
          "metadata": {
            "tags": [],
            "needs_background": "light"
          }
        }
      ]
    },
    {
      "cell_type": "markdown",
      "metadata": {
        "id": "42qDb2T84OYc"
      },
      "source": [
        "# **Uso de recurrent dropout como regularizador**"
      ]
    },
    {
      "cell_type": "code",
      "metadata": {
        "colab": {
          "base_uri": "https://localhost:8080/",
          "height": 479
        },
        "id": "jkqN-wrP4RVv",
        "outputId": "2582e248-79aa-41b2-9a6f-04389e89f4a6"
      },
      "source": [
        "from tensorflow.keras.models import Sequential\r\n",
        "from tensorflow.keras import layers\r\n",
        "from tensorflow.keras.optimizers import RMSprop\r\n",
        "\r\n",
        "model = Sequential()\r\n",
        "model.add(layers.GRU(32,\r\n",
        "                     dropout=0.2,\r\n",
        "                     recurrent_dropout=0.2,\r\n",
        "                     input_shape=(None, float_data.shape[-1])))\r\n",
        "model.add(layers.Dense(1))\r\n",
        "\r\n",
        "model.compile(optimizer=RMSprop(), loss='mae')\r\n",
        "\r\n",
        "es = EarlyStopping(monitor= 'val_loss', mode='min', patience = 10, verbose=1)\r\n",
        "mc = ModelCheckpoint('/content/model_gru1.h5', monitor='val_loss', mode='min', verbose=1, save_best_only=True)\r\n",
        "\r\n",
        "history = model.fit(train_gen,\r\n",
        "                              steps_per_epoch=500,\r\n",
        "                              epochs=40,\r\n",
        "                              validation_data=val_gen,\r\n",
        "                              validation_steps=val_steps,\r\n",
        "                              callbacks = [es, mc])"
      ],
      "execution_count": 16,
      "outputs": [
        {
          "output_type": "stream",
          "text": [
            "WARNING:tensorflow:Layer gru_3 will not use cuDNN kernel since it doesn't meet the cuDNN kernel criteria. It will use generic GPU kernel as fallback when running on GPU\n",
            "Epoch 1/40\n",
            "500/500 [==============================] - 422s 842ms/step - loss: 0.3524 - val_loss: 0.2819\n",
            "\n",
            "Epoch 00001: val_loss improved from inf to 0.28194, saving model to /content/model_gru1.h5\n",
            "Epoch 2/40\n",
            "315/500 [=================>............] - ETA: 2:15 - loss: 0.3095"
          ],
          "name": "stdout"
        },
        {
          "output_type": "error",
          "ename": "KeyboardInterrupt",
          "evalue": "ignored",
          "traceback": [
            "\u001b[0;31m---------------------------------------------------------------------------\u001b[0m",
            "\u001b[0;31mKeyboardInterrupt\u001b[0m                         Traceback (most recent call last)",
            "\u001b[0;32m<ipython-input-16-998005015d83>\u001b[0m in \u001b[0;36m<module>\u001b[0;34m()\u001b[0m\n\u001b[1;32m     20\u001b[0m                               \u001b[0mvalidation_data\u001b[0m\u001b[0;34m=\u001b[0m\u001b[0mval_gen\u001b[0m\u001b[0;34m,\u001b[0m\u001b[0;34m\u001b[0m\u001b[0;34m\u001b[0m\u001b[0m\n\u001b[1;32m     21\u001b[0m                               \u001b[0mvalidation_steps\u001b[0m\u001b[0;34m=\u001b[0m\u001b[0mval_steps\u001b[0m\u001b[0;34m,\u001b[0m\u001b[0;34m\u001b[0m\u001b[0;34m\u001b[0m\u001b[0m\n\u001b[0;32m---> 22\u001b[0;31m                               callbacks = [es, mc])\n\u001b[0m",
            "\u001b[0;32m/usr/local/lib/python3.6/dist-packages/tensorflow/python/keras/engine/training.py\u001b[0m in \u001b[0;36mfit\u001b[0;34m(self, x, y, batch_size, epochs, verbose, callbacks, validation_split, validation_data, shuffle, class_weight, sample_weight, initial_epoch, steps_per_epoch, validation_steps, validation_batch_size, validation_freq, max_queue_size, workers, use_multiprocessing)\u001b[0m\n\u001b[1;32m   1098\u001b[0m                 _r=1):\n\u001b[1;32m   1099\u001b[0m               \u001b[0mcallbacks\u001b[0m\u001b[0;34m.\u001b[0m\u001b[0mon_train_batch_begin\u001b[0m\u001b[0;34m(\u001b[0m\u001b[0mstep\u001b[0m\u001b[0;34m)\u001b[0m\u001b[0;34m\u001b[0m\u001b[0;34m\u001b[0m\u001b[0m\n\u001b[0;32m-> 1100\u001b[0;31m               \u001b[0mtmp_logs\u001b[0m \u001b[0;34m=\u001b[0m \u001b[0mself\u001b[0m\u001b[0;34m.\u001b[0m\u001b[0mtrain_function\u001b[0m\u001b[0;34m(\u001b[0m\u001b[0miterator\u001b[0m\u001b[0;34m)\u001b[0m\u001b[0;34m\u001b[0m\u001b[0;34m\u001b[0m\u001b[0m\n\u001b[0m\u001b[1;32m   1101\u001b[0m               \u001b[0;32mif\u001b[0m \u001b[0mdata_handler\u001b[0m\u001b[0;34m.\u001b[0m\u001b[0mshould_sync\u001b[0m\u001b[0;34m:\u001b[0m\u001b[0;34m\u001b[0m\u001b[0;34m\u001b[0m\u001b[0m\n\u001b[1;32m   1102\u001b[0m                 \u001b[0mcontext\u001b[0m\u001b[0;34m.\u001b[0m\u001b[0masync_wait\u001b[0m\u001b[0;34m(\u001b[0m\u001b[0;34m)\u001b[0m\u001b[0;34m\u001b[0m\u001b[0;34m\u001b[0m\u001b[0m\n",
            "\u001b[0;32m/usr/local/lib/python3.6/dist-packages/tensorflow/python/eager/def_function.py\u001b[0m in \u001b[0;36m__call__\u001b[0;34m(self, *args, **kwds)\u001b[0m\n\u001b[1;32m    826\u001b[0m     \u001b[0mtracing_count\u001b[0m \u001b[0;34m=\u001b[0m \u001b[0mself\u001b[0m\u001b[0;34m.\u001b[0m\u001b[0mexperimental_get_tracing_count\u001b[0m\u001b[0;34m(\u001b[0m\u001b[0;34m)\u001b[0m\u001b[0;34m\u001b[0m\u001b[0;34m\u001b[0m\u001b[0m\n\u001b[1;32m    827\u001b[0m     \u001b[0;32mwith\u001b[0m \u001b[0mtrace\u001b[0m\u001b[0;34m.\u001b[0m\u001b[0mTrace\u001b[0m\u001b[0;34m(\u001b[0m\u001b[0mself\u001b[0m\u001b[0;34m.\u001b[0m\u001b[0m_name\u001b[0m\u001b[0;34m)\u001b[0m \u001b[0;32mas\u001b[0m \u001b[0mtm\u001b[0m\u001b[0;34m:\u001b[0m\u001b[0;34m\u001b[0m\u001b[0;34m\u001b[0m\u001b[0m\n\u001b[0;32m--> 828\u001b[0;31m       \u001b[0mresult\u001b[0m \u001b[0;34m=\u001b[0m \u001b[0mself\u001b[0m\u001b[0;34m.\u001b[0m\u001b[0m_call\u001b[0m\u001b[0;34m(\u001b[0m\u001b[0;34m*\u001b[0m\u001b[0margs\u001b[0m\u001b[0;34m,\u001b[0m \u001b[0;34m**\u001b[0m\u001b[0mkwds\u001b[0m\u001b[0;34m)\u001b[0m\u001b[0;34m\u001b[0m\u001b[0;34m\u001b[0m\u001b[0m\n\u001b[0m\u001b[1;32m    829\u001b[0m       \u001b[0mcompiler\u001b[0m \u001b[0;34m=\u001b[0m \u001b[0;34m\"xla\"\u001b[0m \u001b[0;32mif\u001b[0m \u001b[0mself\u001b[0m\u001b[0;34m.\u001b[0m\u001b[0m_experimental_compile\u001b[0m \u001b[0;32melse\u001b[0m \u001b[0;34m\"nonXla\"\u001b[0m\u001b[0;34m\u001b[0m\u001b[0;34m\u001b[0m\u001b[0m\n\u001b[1;32m    830\u001b[0m       \u001b[0mnew_tracing_count\u001b[0m \u001b[0;34m=\u001b[0m \u001b[0mself\u001b[0m\u001b[0;34m.\u001b[0m\u001b[0mexperimental_get_tracing_count\u001b[0m\u001b[0;34m(\u001b[0m\u001b[0;34m)\u001b[0m\u001b[0;34m\u001b[0m\u001b[0;34m\u001b[0m\u001b[0m\n",
            "\u001b[0;32m/usr/local/lib/python3.6/dist-packages/tensorflow/python/eager/def_function.py\u001b[0m in \u001b[0;36m_call\u001b[0;34m(self, *args, **kwds)\u001b[0m\n\u001b[1;32m    853\u001b[0m       \u001b[0;31m# In this case we have created variables on the first call, so we run the\u001b[0m\u001b[0;34m\u001b[0m\u001b[0;34m\u001b[0m\u001b[0;34m\u001b[0m\u001b[0m\n\u001b[1;32m    854\u001b[0m       \u001b[0;31m# defunned version which is guaranteed to never create variables.\u001b[0m\u001b[0;34m\u001b[0m\u001b[0;34m\u001b[0m\u001b[0;34m\u001b[0m\u001b[0m\n\u001b[0;32m--> 855\u001b[0;31m       \u001b[0;32mreturn\u001b[0m \u001b[0mself\u001b[0m\u001b[0;34m.\u001b[0m\u001b[0m_stateless_fn\u001b[0m\u001b[0;34m(\u001b[0m\u001b[0;34m*\u001b[0m\u001b[0margs\u001b[0m\u001b[0;34m,\u001b[0m \u001b[0;34m**\u001b[0m\u001b[0mkwds\u001b[0m\u001b[0;34m)\u001b[0m  \u001b[0;31m# pylint: disable=not-callable\u001b[0m\u001b[0;34m\u001b[0m\u001b[0;34m\u001b[0m\u001b[0m\n\u001b[0m\u001b[1;32m    856\u001b[0m     \u001b[0;32melif\u001b[0m \u001b[0mself\u001b[0m\u001b[0;34m.\u001b[0m\u001b[0m_stateful_fn\u001b[0m \u001b[0;32mis\u001b[0m \u001b[0;32mnot\u001b[0m \u001b[0;32mNone\u001b[0m\u001b[0;34m:\u001b[0m\u001b[0;34m\u001b[0m\u001b[0;34m\u001b[0m\u001b[0m\n\u001b[1;32m    857\u001b[0m       \u001b[0;31m# Release the lock early so that multiple threads can perform the call\u001b[0m\u001b[0;34m\u001b[0m\u001b[0;34m\u001b[0m\u001b[0;34m\u001b[0m\u001b[0m\n",
            "\u001b[0;32m/usr/local/lib/python3.6/dist-packages/tensorflow/python/eager/function.py\u001b[0m in \u001b[0;36m__call__\u001b[0;34m(self, *args, **kwargs)\u001b[0m\n\u001b[1;32m   2941\u001b[0m        filtered_flat_args) = self._maybe_define_function(args, kwargs)\n\u001b[1;32m   2942\u001b[0m     return graph_function._call_flat(\n\u001b[0;32m-> 2943\u001b[0;31m         filtered_flat_args, captured_inputs=graph_function.captured_inputs)  # pylint: disable=protected-access\n\u001b[0m\u001b[1;32m   2944\u001b[0m \u001b[0;34m\u001b[0m\u001b[0m\n\u001b[1;32m   2945\u001b[0m   \u001b[0;34m@\u001b[0m\u001b[0mproperty\u001b[0m\u001b[0;34m\u001b[0m\u001b[0;34m\u001b[0m\u001b[0m\n",
            "\u001b[0;32m/usr/local/lib/python3.6/dist-packages/tensorflow/python/eager/function.py\u001b[0m in \u001b[0;36m_call_flat\u001b[0;34m(self, args, captured_inputs, cancellation_manager)\u001b[0m\n\u001b[1;32m   1917\u001b[0m       \u001b[0;31m# No tape is watching; skip to running the function.\u001b[0m\u001b[0;34m\u001b[0m\u001b[0;34m\u001b[0m\u001b[0;34m\u001b[0m\u001b[0m\n\u001b[1;32m   1918\u001b[0m       return self._build_call_outputs(self._inference_function.call(\n\u001b[0;32m-> 1919\u001b[0;31m           ctx, args, cancellation_manager=cancellation_manager))\n\u001b[0m\u001b[1;32m   1920\u001b[0m     forward_backward = self._select_forward_and_backward_functions(\n\u001b[1;32m   1921\u001b[0m         \u001b[0margs\u001b[0m\u001b[0;34m,\u001b[0m\u001b[0;34m\u001b[0m\u001b[0;34m\u001b[0m\u001b[0m\n",
            "\u001b[0;32m/usr/local/lib/python3.6/dist-packages/tensorflow/python/eager/function.py\u001b[0m in \u001b[0;36mcall\u001b[0;34m(self, ctx, args, cancellation_manager)\u001b[0m\n\u001b[1;32m    558\u001b[0m               \u001b[0minputs\u001b[0m\u001b[0;34m=\u001b[0m\u001b[0margs\u001b[0m\u001b[0;34m,\u001b[0m\u001b[0;34m\u001b[0m\u001b[0;34m\u001b[0m\u001b[0m\n\u001b[1;32m    559\u001b[0m               \u001b[0mattrs\u001b[0m\u001b[0;34m=\u001b[0m\u001b[0mattrs\u001b[0m\u001b[0;34m,\u001b[0m\u001b[0;34m\u001b[0m\u001b[0;34m\u001b[0m\u001b[0m\n\u001b[0;32m--> 560\u001b[0;31m               ctx=ctx)\n\u001b[0m\u001b[1;32m    561\u001b[0m         \u001b[0;32melse\u001b[0m\u001b[0;34m:\u001b[0m\u001b[0;34m\u001b[0m\u001b[0;34m\u001b[0m\u001b[0m\n\u001b[1;32m    562\u001b[0m           outputs = execute.execute_with_cancellation(\n",
            "\u001b[0;32m/usr/local/lib/python3.6/dist-packages/tensorflow/python/eager/execute.py\u001b[0m in \u001b[0;36mquick_execute\u001b[0;34m(op_name, num_outputs, inputs, attrs, ctx, name)\u001b[0m\n\u001b[1;32m     58\u001b[0m     \u001b[0mctx\u001b[0m\u001b[0;34m.\u001b[0m\u001b[0mensure_initialized\u001b[0m\u001b[0;34m(\u001b[0m\u001b[0;34m)\u001b[0m\u001b[0;34m\u001b[0m\u001b[0;34m\u001b[0m\u001b[0m\n\u001b[1;32m     59\u001b[0m     tensors = pywrap_tfe.TFE_Py_Execute(ctx._handle, device_name, op_name,\n\u001b[0;32m---> 60\u001b[0;31m                                         inputs, attrs, num_outputs)\n\u001b[0m\u001b[1;32m     61\u001b[0m   \u001b[0;32mexcept\u001b[0m \u001b[0mcore\u001b[0m\u001b[0;34m.\u001b[0m\u001b[0m_NotOkStatusException\u001b[0m \u001b[0;32mas\u001b[0m \u001b[0me\u001b[0m\u001b[0;34m:\u001b[0m\u001b[0;34m\u001b[0m\u001b[0;34m\u001b[0m\u001b[0m\n\u001b[1;32m     62\u001b[0m     \u001b[0;32mif\u001b[0m \u001b[0mname\u001b[0m \u001b[0;32mis\u001b[0m \u001b[0;32mnot\u001b[0m \u001b[0;32mNone\u001b[0m\u001b[0;34m:\u001b[0m\u001b[0;34m\u001b[0m\u001b[0;34m\u001b[0m\u001b[0m\n",
            "\u001b[0;31mKeyboardInterrupt\u001b[0m: "
          ]
        }
      ]
    },
    {
      "cell_type": "markdown",
      "metadata": {
        "id": "IAS_9n-G4j95"
      },
      "source": [
        "# **Curva de pérdida**"
      ]
    },
    {
      "cell_type": "code",
      "metadata": {
        "colab": {
          "base_uri": "https://localhost:8080/",
          "height": 579
        },
        "id": "ERLweap_4j96",
        "outputId": "399a129c-5717-4745-8154-7f7e8a13c322"
      },
      "source": [
        "import matplotlib.pyplot as plt\n",
        "\n",
        "loss = history.history['loss']\n",
        "val_loss = history.history['val_loss']\n",
        "min_val_loss = min(val_loss)\n",
        "min_val_loss_epoch= val_loss.index(min(val_loss)) + 1\n",
        "\n",
        "epochs = range(len(loss))\n",
        "\n",
        "plt.plot(epochs, loss, 'go', label='Pérdida en el entrenamiento')\n",
        "plt.plot(epochs, val_loss, 'r', label='Pérdida en la validación')\n",
        "plt.plot(min_val_loss_epoch, min_val_loss, 'bo', label='Minimum loss')\n",
        "plt.title('Pérdida durante el entrenamiento y la validación')\n",
        "plt.legend()\n",
        "print(\"Best loss epoch : % d, Value : % .10f\" %(min_val_loss_epoch, min_val_loss))\n",
        "\n",
        "plt.show()"
      ],
      "execution_count": null,
      "outputs": [
        {
          "output_type": "stream",
          "text": [
            "Best accuracy epoch :  4, Value :  0.8709999919\n",
            "Best loss epoch :  4, Value :  0.3455053568\n"
          ],
          "name": "stdout"
        },
        {
          "output_type": "display_data",
          "data": {
            "image/png": "[encoded data removed]",
            "text/plain": [
              "<Figure size 432x288 with 1 Axes>"
            ]
          },
          "metadata": {
            "tags": [],
            "needs_background": "light"
          }
        },
        {
          "output_type": "display_data",
          "data": {
            "image/png": "[encoded data removed]",
            "text/plain": [
              "<Figure size 432x288 with 1 Axes>"
            ]
          },
          "metadata": {
            "tags": [],
            "needs_background": "light"
          }
        }
      ]
    },
    {
      "cell_type": "markdown",
      "metadata": {
        "id": "zFAX3PzZ4qK_"
      },
      "source": [
        "# **Red neuronal recurrente profunda**"
      ]
    },
    {
      "cell_type": "code",
      "metadata": {
        "id": "Z5aE-yFw4v7d"
      },
      "source": [
        "from tensorflow.keras.models import Sequential\r\n",
        "from tensorflow.keras import layers\r\n",
        "from tensorflow.keras.optimizers import RMSprop\r\n",
        "\r\n",
        "model = Sequential()\r\n",
        "model.add(layers.GRU(32,\r\n",
        "                     dropout=0.1,\r\n",
        "                     recurrent_dropout=0.5,\r\n",
        "                     return_sequences=True,\r\n",
        "                     input_shape=(None, float_data.shape[-1])))\r\n",
        "model.add(layers.GRU(64, activation='relu',\r\n",
        "                     dropout=0.1, \r\n",
        "                     recurrent_dropout=0.5))\r\n",
        "model.add(layers.Dense(1))\r\n",
        "\r\n",
        "model.compile(optimizer=RMSprop(), loss='mae')\r\n",
        "\r\n",
        "es = EarlyStopping(monitor= 'val_loss', mode='min', patience = 10, verbose=1)\r\n",
        "mc = ModelCheckpoint('/content/model_gru2.h5', monitor='val_loss', mode='min', verbose=1, save_best_only=True)\r\n",
        "\r\n",
        "history = model.fit(train_gen,\r\n",
        "                    steps_per_epoch=500,\r\n",
        "                    epochs=40,\r\n",
        "                    validation_data=val_gen,\r\n",
        "                    validation_steps=val_steps,\r\n",
        "                    callbacks = [es, mc])"
      ],
      "execution_count": null,
      "outputs": []
    },
    {
      "cell_type": "markdown",
      "metadata": {
        "id": "T9gHRI354_v0"
      },
      "source": [
        "# **Curva de pérdida**"
      ]
    },
    {
      "cell_type": "code",
      "metadata": {
        "colab": {
          "base_uri": "https://localhost:8080/",
          "height": 579
        },
        "id": "XDLLtSWX4_v2",
        "outputId": "399a129c-5717-4745-8154-7f7e8a13c322"
      },
      "source": [
        "import matplotlib.pyplot as plt\n",
        "\n",
        "loss = history.history['loss']\n",
        "val_loss = history.history['val_loss']\n",
        "min_val_loss = min(val_loss)\n",
        "min_val_loss_epoch= val_loss.index(min(val_loss)) + 1\n",
        "\n",
        "epochs = range(len(loss))\n",
        "\n",
        "plt.plot(epochs, loss, 'go', label='Pérdida en el entrenamiento')\n",
        "plt.plot(epochs, val_loss, 'r', label='Pérdida en la validación')\n",
        "plt.plot(min_val_loss_epoch, min_val_loss, 'bo', label='Minimum loss')\n",
        "plt.title('Pérdida durante el entrenamiento y la validación')\n",
        "plt.legend()\n",
        "print(\"Best loss epoch : % d, Value : % .10f\" %(min_val_loss_epoch, min_val_loss))\n",
        "\n",
        "plt.show()"
      ],
      "execution_count": null,
      "outputs": [
        {
          "output_type": "stream",
          "text": [
            "Best accuracy epoch :  4, Value :  0.8709999919\n",
            "Best loss epoch :  4, Value :  0.3455053568\n"
          ],
          "name": "stdout"
        },
        {
          "output_type": "display_data",
          "data": {
            "image/png": "[encoded data removed]",
            "text/plain": [
              "<Figure size 432x288 with 1 Axes>"
            ]
          },
          "metadata": {
            "tags": [],
            "needs_background": "light"
          }
        },
        {
          "output_type": "display_data",
          "data": {
            "image/png": "[encoded data removed]",
            "text/plain": [
              "<Figure size 432x288 with 1 Axes>"
            ]
          },
          "metadata": {
            "tags": [],
            "needs_background": "light"
          }
        }
      ]
    },
    {
      "cell_type": "markdown",
      "metadata": {
        "id": "GBYBeTwi5jTO"
      },
      "source": [
        "# **Redes neuronales recurrentes bidireccionales**"
      ]
    },
    {
      "cell_type": "code",
      "metadata": {
        "id": "jrpcZkL-5msU"
      },
      "source": [
        "def reverse_order_generator(data, lookback, delay, min_index, max_index,\r\n",
        "                            shuffle=False, batch_size=128, step=6):\r\n",
        "    if max_index is None:\r\n",
        "        max_index = len(data) - delay - 1\r\n",
        "    i = min_index + lookback\r\n",
        "    while 1:\r\n",
        "        if shuffle:\r\n",
        "            rows = np.random.randint(\r\n",
        "                min_index + lookback, max_index, size=batch_size)\r\n",
        "        else:\r\n",
        "            if i + batch_size >= max_index:\r\n",
        "                i = min_index + lookback\r\n",
        "            rows = np.arange(i, min(i + batch_size, max_index))\r\n",
        "            i += len(rows)\r\n",
        "\r\n",
        "        samples = np.zeros((len(rows),\r\n",
        "                           lookback // step,\r\n",
        "                           data.shape[-1]))\r\n",
        "        targets = np.zeros((len(rows),))\r\n",
        "        for j, row in enumerate(rows):\r\n",
        "            indices = range(rows[j] - lookback, rows[j], step)\r\n",
        "            samples[j] = data[indices]\r\n",
        "            targets[j] = data[rows[j] + delay][1]\r\n",
        "        yield samples[:, ::-1, :], targets\r\n",
        "        \r\n",
        "train_gen_reverse = reverse_order_generator(\r\n",
        "    float_data,\r\n",
        "    lookback=lookback,\r\n",
        "    delay=delay,\r\n",
        "    min_index=0,\r\n",
        "    max_index=200000,\r\n",
        "    shuffle=True,\r\n",
        "    step=step, \r\n",
        "    batch_size=batch_size)\r\n",
        "val_gen_reverse = reverse_order_generator(\r\n",
        "    float_data,\r\n",
        "    lookback=lookback,\r\n",
        "    delay=delay,\r\n",
        "    min_index=200001,\r\n",
        "    max_index=300000,\r\n",
        "    step=step,\r\n",
        "    batch_size=batch_size)"
      ],
      "execution_count": 17,
      "outputs": []
    },
    {
      "cell_type": "code",
      "metadata": {
        "id": "-p9NSYPg59KL",
        "colab": {
          "base_uri": "https://localhost:8080/"
        },
        "outputId": "8b76f50c-d4c4-4b40-f456-f3495ed66794"
      },
      "source": [
        "model = Sequential()\r\n",
        "model.add(layers.GRU(32, input_shape=(None, float_data.shape[-1])))\r\n",
        "model.add(layers.Dense(1))\r\n",
        "\r\n",
        "model.compile(optimizer=RMSprop(), loss='mae')\r\n",
        "\r\n",
        "es = EarlyStopping(monitor= 'val_loss', mode='min', patience = 10, verbose=1)\r\n",
        "mc = ModelCheckpoint('/content/model_gru3.h5', monitor='val_loss', mode='min', verbose=1, save_best_only=True)\r\n",
        "\r\n",
        "history = model.fit(train_gen_reverse,\r\n",
        "                    steps_per_epoch=500,\r\n",
        "                    epochs=20,\r\n",
        "                    validation_data=val_gen_reverse,\r\n",
        "                    validation_steps=val_steps,\r\n",
        "                    callbacks = [es, mc])"
      ],
      "execution_count": 18,
      "outputs": [
        {
          "output_type": "stream",
          "text": [
            "Epoch 1/20\n",
            "500/500 [==============================] - 17s 32ms/step - loss: 0.4982 - val_loss: 0.4772\n",
            "\n",
            "Epoch 00001: val_loss improved from inf to 0.47718, saving model to /content/model_gru3.h5\n",
            "Epoch 2/20\n",
            "500/500 [==============================] - 16s 31ms/step - loss: 0.4429 - val_loss: 0.4645\n",
            "\n",
            "Epoch 00002: val_loss improved from 0.47718 to 0.46447, saving model to /content/model_gru3.h5\n",
            "Epoch 3/20\n",
            "500/500 [==============================] - 16s 31ms/step - loss: 0.4119 - val_loss: 0.4478\n",
            "\n",
            "Epoch 00003: val_loss improved from 0.46447 to 0.44780, saving model to /content/model_gru3.h5\n",
            "Epoch 4/20\n",
            "500/500 [==============================] - 16s 32ms/step - loss: 0.3854 - val_loss: 0.4357\n",
            "\n",
            "Epoch 00004: val_loss improved from 0.44780 to 0.43568, saving model to /content/model_gru3.h5\n",
            "Epoch 5/20\n",
            "500/500 [==============================] - 15s 30ms/step - loss: 0.3655 - val_loss: 0.4491\n",
            "\n",
            "Epoch 00005: val_loss did not improve from 0.43568\n",
            "Epoch 6/20\n",
            "500/500 [==============================] - 15s 30ms/step - loss: 0.3402 - val_loss: 0.4228\n",
            "\n",
            "Epoch 00006: val_loss improved from 0.43568 to 0.42284, saving model to /content/model_gru3.h5\n",
            "Epoch 7/20\n",
            "500/500 [==============================] - 15s 31ms/step - loss: 0.3191 - val_loss: 0.4041\n",
            "\n",
            "Epoch 00007: val_loss improved from 0.42284 to 0.40408, saving model to /content/model_gru3.h5\n",
            "Epoch 8/20\n",
            "500/500 [==============================] - 16s 31ms/step - loss: 0.3061 - val_loss: 0.4143\n",
            "\n",
            "Epoch 00008: val_loss did not improve from 0.40408\n",
            "Epoch 9/20\n",
            "500/500 [==============================] - 15s 30ms/step - loss: 0.2926 - val_loss: 0.4050\n",
            "\n",
            "Epoch 00009: val_loss did not improve from 0.40408\n",
            "Epoch 10/20\n",
            "500/500 [==============================] - 15s 31ms/step - loss: 0.2847 - val_loss: 0.4106\n",
            "\n",
            "Epoch 00010: val_loss did not improve from 0.40408\n",
            "Epoch 11/20\n",
            "500/500 [==============================] - 15s 30ms/step - loss: 0.2745 - val_loss: 0.3989\n",
            "\n",
            "Epoch 00011: val_loss improved from 0.40408 to 0.39887, saving model to /content/model_gru3.h5\n",
            "Epoch 12/20\n",
            "500/500 [==============================] - 15s 30ms/step - loss: 0.2665 - val_loss: 0.4001\n",
            "\n",
            "Epoch 00012: val_loss did not improve from 0.39887\n",
            "Epoch 13/20\n",
            "500/500 [==============================] - 15s 31ms/step - loss: 0.2575 - val_loss: 0.4009\n",
            "\n",
            "Epoch 00013: val_loss did not improve from 0.39887\n",
            "Epoch 14/20\n",
            "500/500 [==============================] - 15s 31ms/step - loss: 0.2562 - val_loss: 0.4107\n",
            "\n",
            "Epoch 00014: val_loss did not improve from 0.39887\n",
            "Epoch 15/20\n",
            "500/500 [==============================] - 16s 32ms/step - loss: 0.2457 - val_loss: 0.4100\n",
            "\n",
            "Epoch 00015: val_loss did not improve from 0.39887\n",
            "Epoch 16/20\n",
            "500/500 [==============================] - 15s 30ms/step - loss: 0.2433 - val_loss: 0.4179\n",
            "\n",
            "Epoch 00016: val_loss did not improve from 0.39887\n",
            "Epoch 17/20\n",
            "500/500 [==============================] - 16s 31ms/step - loss: 0.2381 - val_loss: 0.4303\n",
            "\n",
            "Epoch 00017: val_loss did not improve from 0.39887\n",
            "Epoch 18/20\n",
            "500/500 [==============================] - 16s 32ms/step - loss: 0.2341 - val_loss: 0.4176\n",
            "\n",
            "Epoch 00018: val_loss did not improve from 0.39887\n",
            "Epoch 19/20\n",
            "500/500 [==============================] - 15s 31ms/step - loss: 0.2303 - val_loss: 0.4138\n",
            "\n",
            "Epoch 00019: val_loss did not improve from 0.39887\n",
            "Epoch 20/20\n",
            "500/500 [==============================] - 15s 31ms/step - loss: 0.2258 - val_loss: 0.4190\n",
            "\n",
            "Epoch 00020: val_loss did not improve from 0.39887\n"
          ],
          "name": "stdout"
        }
      ]
    },
    {
      "cell_type": "markdown",
      "metadata": {
        "id": "ofvyaZOT6Vxg"
      },
      "source": [
        "# **Curva de pérdida**"
      ]
    },
    {
      "cell_type": "code",
      "metadata": {
        "colab": {
          "base_uri": "https://localhost:8080/",
          "height": 298
        },
        "id": "MTkyFGPI6Vxi",
        "outputId": "d66fe014-1b63-4cf7-e6a2-1297c0a7ec65"
      },
      "source": [
        "import matplotlib.pyplot as plt\n",
        "\n",
        "loss = history.history['loss']\n",
        "val_loss = history.history['val_loss']\n",
        "min_val_loss = min(val_loss)\n",
        "min_val_loss_epoch= val_loss.index(min(val_loss)) + 1\n",
        "\n",
        "epochs = range(len(loss))\n",
        "\n",
        "plt.plot(epochs, loss, 'go', label='Pérdida en el entrenamiento')\n",
        "plt.plot(epochs, val_loss, 'r', label='Pérdida en la validación')\n",
        "plt.plot(min_val_loss_epoch, min_val_loss, 'bo', label='Minimum loss')\n",
        "plt.title('Pérdida durante el entrenamiento y la validación')\n",
        "plt.legend()\n",
        "print(\"Best loss epoch : % d, Value : % .10f\" %(min_val_loss_epoch, min_val_loss))\n",
        "\n",
        "plt.show()"
      ],
      "execution_count": 19,
      "outputs": [
        {
          "output_type": "stream",
          "text": [
            "Best loss epoch :  11, Value :  0.3988719285\n"
          ],
          "name": "stdout"
        },
        {
          "output_type": "display_data",
          "data": {
            "image/png": "[encoded data removed]",
            "text/plain": [
              "<Figure size 432x288 with 1 Axes>"
            ]
          },
          "metadata": {
            "tags": [],
            "needs_background": "light"
          }
        }
      ]
    },
    {
      "cell_type": "markdown",
      "metadata": {
        "id": "hntMPJJA7Fre"
      },
      "source": [
        "# **Aplicación del enfoque bidireccional en la base de datos IMDB**"
      ]
    },
    {
      "cell_type": "code",
      "metadata": {
        "colab": {
          "base_uri": "https://localhost:8080/",
          "height": 129
        },
        "id": "DPvHGTHm7Jc0",
        "outputId": "d304352a-1b64-421f-aea1-2a7588c1ddf5"
      },
      "source": [
        "from tensorflow.keras.datasets import imdb\r\n",
        "from tensorflow.keras.preprocessing import sequence\r\n",
        "from tensorflow.keras import layers\r\n",
        "from tensorflow.keras.models import Sequential\r\n",
        "\r\n",
        "# Number of words to consider as features\r\n",
        "max_features = 10000\r\n",
        "# Cut texts after this number of words (among top max_features most common words)\r\n",
        "maxlen = 500\r\n",
        "\r\n",
        "# Load data\r\n",
        "(x_train, y_train), (x_test, y_test) = imdb.load_data(num_words=max_features)\r\n",
        "\r\n",
        "# Reverse sequences\r\n",
        "x_train = [x[::-1] for x in x_train]\r\n",
        "x_test = [x[::-1] for x in x_test]\r\n",
        "\r\n",
        "# Pad sequences\r\n",
        "x_train = sequence.pad_sequences(x_train, maxlen=maxlen)\r\n",
        "x_test = sequence.pad_sequences(x_test, maxlen=maxlen)\r\n",
        "\r\n",
        "model = Sequential()\r\n",
        "model.add(layers.Embedding(max_features, 128))\r\n",
        "model.add(layers.LSTM(32))\r\n",
        "model.add(layers.Dense(1, activation='sigmoid'))\r\n",
        "\r\n",
        "model.compile(optimizer='rmsprop',\r\n",
        "              loss='binary_crossentropy',\r\n",
        "              metrics=['acc'])\r\n",
        "\r\n",
        "es = EarlyStopping(monitor= 'val_acc', mode='max', patience = 10, verbose=1)\r\n",
        "mc = ModelCheckpoint('/content/model_gru4.h5', monitor='val_acc', mode='max', verbose=1, save_best_only=True)\r\n",
        "\r\n",
        "history = model.fit(x_train, y_train,\r\n",
        "                    epochs=10,\r\n",
        "                    batch_size=128,\r\n",
        "                    validation_split=0.2,\r\n",
        "                    callbacks = [es, mc])"
      ],
      "execution_count": 20,
      "outputs": [
        {
          "output_type": "error",
          "ename": "SyntaxError",
          "evalue": "ignored",
          "traceback": [
            "\u001b[0;36m  File \u001b[0;32m\"<ipython-input-20-f6ff2fea9d78>\"\u001b[0;36m, line \u001b[0;32m38\u001b[0m\n\u001b[0;31m    callbacks 0 [es, mc])\u001b[0m\n\u001b[0m              ^\u001b[0m\n\u001b[0;31mSyntaxError\u001b[0m\u001b[0;31m:\u001b[0m invalid syntax\n"
          ]
        }
      ]
    },
    {
      "cell_type": "markdown",
      "metadata": {
        "id": "arP8dNv18-Uj"
      },
      "source": [
        "# **Curvas de precisión y pérdida**"
      ]
    },
    {
      "cell_type": "code",
      "metadata": {
        "id": "38TDXPYR8-Uk"
      },
      "source": [
        "import matplotlib.pyplot as plt\n",
        "\n",
        "acc = history.history['acc']\n",
        "val_acc = history.history['val_acc']\n",
        "max_val_acc = max(val_acc)\n",
        "max_val_acc_epoch= val_acc.index(max(val_acc)) + 1\n",
        "loss = history.history['loss']\n",
        "val_loss = history.history['val_loss']\n",
        "min_val_loss = min(val_loss)\n",
        "min_val_loss_epoch= val_loss.index(min(val_loss)) + 1\n",
        "\n",
        "epochs = range(len(acc))\n",
        "\n",
        "plt.plot(epochs, acc, 'go', label='Precisión en el entrenamiento')\n",
        "plt.plot(epochs, val_acc, 'r', label='Precisión en la validación')\n",
        "plt.plot(max_val_acc_epoch, max_val_acc, 'bo', label='Maximum accuracy')\n",
        "plt.title('Precisión durante el entrenamiento y la validación')\n",
        "plt.legend()\n",
        "print(\"Best accuracy epoch : % d, Value : % .1f\" %(max_val_acc_epoch, max_val_acc)) \n",
        "plt.figure()\n",
        "\n",
        "plt.plot(epochs, loss, 'go', label='Pérdida en el entrenamiento')\n",
        "plt.plot(epochs, val_loss, 'r', label='Pérdida en la validación')\n",
        "plt.plot(min_val_loss_epoch, min_val_loss, 'bo', label='Minimum loss')\n",
        "plt.title('Pérdida durante el entrenamiento y la validación')\n",
        "plt.legend()\n",
        "print(\"Best loss epoch : % d, Value : % .10f\" %(min_val_loss_epoch, min_val_loss))\n",
        "\n",
        "plt.show()"
      ],
      "execution_count": null,
      "outputs": []
    },
    {
      "cell_type": "markdown",
      "metadata": {
        "id": "KMUirb8L72aV"
      },
      "source": [
        "# **Implementamos una RNN bidireccional para la base de datos IMDB**"
      ]
    },
    {
      "cell_type": "code",
      "metadata": {
        "id": "SAoFAP6A79eV"
      },
      "source": [
        "model = Sequential()\r\n",
        "model.add(layers.Embedding(max_features, 32))\r\n",
        "model.add(layers.Bidirectional(layers.LSTM(32)))\r\n",
        "model.add(layers.Dense(1, activation='sigmoid'))\r\n",
        "\r\n",
        "model.compile(optimizer='rmsprop', loss='binary_crossentropy', metrics=['acc'])\r\n",
        "\r\n",
        "es = EarlyStopping(monitor= 'val_acc', mode='max', patience = 10, verbose=1)\r\n",
        "mc = ModelCheckpoint('/content/model_gru5.h5', monitor='val_acc', mode='max', verbose=1, save_best_only=True)\r\n",
        "\r\n",
        "history = model.fit(x_train, y_train, epochs=10, batch_size=128, validation_split=0.2, callbacks = [es, mc])"
      ],
      "execution_count": null,
      "outputs": []
    },
    {
      "cell_type": "markdown",
      "metadata": {
        "id": "vLy60aifun_S"
      },
      "source": [
        "# **Curvas de precisión y pérdida**"
      ]
    },
    {
      "cell_type": "code",
      "metadata": {
        "id": "rzJzF_Idun_U"
      },
      "source": [
        "import matplotlib.pyplot as plt\n",
        "\n",
        "acc = history.history['acc']\n",
        "val_acc = history.history['val_acc']\n",
        "max_val_acc = max(val_acc)\n",
        "max_val_acc_epoch= val_acc.index(max(val_acc)) + 1\n",
        "loss = history.history['loss']\n",
        "val_loss = history.history['val_loss']\n",
        "min_val_loss = min(val_loss)\n",
        "min_val_loss_epoch= val_loss.index(min(val_loss)) + 1\n",
        "\n",
        "epochs = range(len(acc))\n",
        "\n",
        "plt.plot(epochs, acc, 'go', label='Precisión en el entrenamiento')\n",
        "plt.plot(epochs, val_acc, 'r', label='Precisión en la validación')\n",
        "plt.plot(max_val_acc_epoch, max_val_acc, 'bo', label='Maximum accuracy')\n",
        "plt.title('Precisión durante el entrenamiento y la validación')\n",
        "plt.legend()\n",
        "print(\"Best accuracy epoch : % d, Value : % .1f\" %(max_val_acc_epoch, max_val_acc)) \n",
        "plt.figure()\n",
        "\n",
        "plt.plot(epochs, loss, 'go', label='Pérdida en el entrenamiento')\n",
        "plt.plot(epochs, val_loss, 'r', label='Pérdida en la validación')\n",
        "plt.plot(min_val_loss_epoch, min_val_loss, 'bo', label='Minimum loss')\n",
        "plt.title('Pérdida durante el entrenamiento y la validación')\n",
        "plt.legend()\n",
        "print(\"Best loss epoch : % d, Value : % .10f\" %(min_val_loss_epoch, min_val_loss))\n",
        "\n",
        "plt.show()"
      ],
      "execution_count": null,
      "outputs": []
    },
    {
      "cell_type": "markdown",
      "metadata": {
        "id": "mx-rLEdt8SeP"
      },
      "source": [
        "# **Implementamos una RNN bidireccional para la base de datos de series de tiempo**"
      ]
    },
    {
      "cell_type": "code",
      "metadata": {
        "id": "O1-63sZa8QMI"
      },
      "source": [
        "from tensorflow.keras.models import Sequential\r\n",
        "from tensorflow.keras import layers\r\n",
        "from tensorflow.keras.optimizers import RMSprop\r\n",
        "\r\n",
        "model = Sequential()\r\n",
        "model.add(layers.Bidirectional(\r\n",
        "    layers.GRU(32), input_shape=(None, float_data.shape[-1])))\r\n",
        "model.add(layers.Dense(1))\r\n",
        "\r\n",
        "model.compile(optimizer=RMSprop(), loss='mae')\r\n",
        "\r\n",
        "es = EarlyStopping(monitor= 'val_loss', mode='min', patience = 10, verbose=1)\r\n",
        "mc = ModelCheckpoint('/content/model_gru6.h5', monitor='val_loss', mode='min', verbose=1, save_best_only=True)\r\n",
        "\r\n",
        "history = model.fit(train_gen,\r\n",
        "                    steps_per_epoch=500,\r\n",
        "                    epochs=40,\r\n",
        "                    validation_data=val_gen,\r\n",
        "                    validation_steps=val_steps,\r\n",
        "                    callbacks = [es, mc])"
      ],
      "execution_count": null,
      "outputs": []
    },
    {
      "cell_type": "markdown",
      "metadata": {
        "id": "y61V-pXh9ORi"
      },
      "source": [
        "# **Curva de pérdida**"
      ]
    },
    {
      "cell_type": "code",
      "metadata": {
        "colab": {
          "base_uri": "https://localhost:8080/",
          "height": 579
        },
        "id": "FxIN3Pou9ORu",
        "outputId": "399a129c-5717-4745-8154-7f7e8a13c322"
      },
      "source": [
        "import matplotlib.pyplot as plt\n",
        "\n",
        "loss = history.history['loss']\n",
        "val_loss = history.history['val_loss']\n",
        "min_val_loss = min(val_loss)\n",
        "min_val_loss_epoch= val_loss.index(min(val_loss)) + 1\n",
        "\n",
        "epochs = range(len(acc))\n",
        "\n",
        "plt.plot(epochs, loss, 'go', label='Pérdida en el entrenamiento')\n",
        "plt.plot(epochs, val_loss, 'r', label='Pérdida en la validación')\n",
        "plt.plot(min_val_loss_epoch, min_val_loss, 'bo', label='Minimum loss')\n",
        "plt.title('Pérdida durante el entrenamiento y la validación')\n",
        "plt.legend()\n",
        "print(\"Best loss epoch : % d, Value : % .10f\" %(min_val_loss_epoch, min_val_loss))\n",
        "\n",
        "plt.show()"
      ],
      "execution_count": null,
      "outputs": [
        {
          "output_type": "stream",
          "text": [
            "Best accuracy epoch :  4, Value :  0.8709999919\n",
            "Best loss epoch :  4, Value :  0.3455053568\n"
          ],
          "name": "stdout"
        },
        {
          "output_type": "display_data",
          "data": {
            "image/png": "[encoded data removed]",
            "text/plain": [
              "<Figure size 432x288 with 1 Axes>"
            ]
          },
          "metadata": {
            "tags": [],
            "needs_background": "light"
          }
        },
        {
          "output_type": "display_data",
          "data": {
            "image/png": "[encoded data removed]",
            "text/plain": [
              "<Figure size 432x288 with 1 Axes>"
            ]
          },
          "metadata": {
            "tags": [],
            "needs_background": "light"
          }
        }
      ]
    }
  ]
}