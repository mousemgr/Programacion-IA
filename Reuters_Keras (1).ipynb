{
  "nbformat": 4,
  "nbformat_minor": 0,
  "metadata": {
    "colab": {
      "name": "Reuters_Keras.ipynb",
      "provenance": [],
      "collapsed_sections": []
    },
    "kernelspec": {
      "name": "python3",
      "display_name": "Python 3"
    }
  },
  "cells": [
    {
      "cell_type": "markdown",
      "metadata": {
        "id": "rRMnesuLHRY7"
      },
      "source": [
        "# **Reuters dataset**"
      ]
    },
    {
      "cell_type": "markdown",
      "metadata": {
        "id": "INNNlP2_HmQC"
      },
      "source": [
        "La base de datos Reuters, se compone de 11,228 cables de noticias, los cuales pueden pertenecer a uno de 46 temas. Esta base de datos viene precargada en Keras:"
      ]
    },
    {
      "cell_type": "code",
      "metadata": {
        "id": "EbiSS656HOZU",
        "colab": {
          "base_uri": "https://localhost:8080/"
        },
        "outputId": "8e4e86dc-5bbb-462e-c04c-00e65790e111"
      },
      "source": [
        "from tensorflow.keras.datasets import reuters\n",
        "\n",
        "(train_data, train_labels), (test_data, test_labels) = reuters.load_data(num_words=10000)"
      ],
      "execution_count": 1,
      "outputs": [
        {
          "output_type": "stream",
          "text": [
            "Downloading data from https://storage.googleapis.com/tensorflow/tf-keras-datasets/reuters.npz\n",
            "2113536/2110848 [==============================] - 0s 0us/step\n"
          ],
          "name": "stdout"
        }
      ]
    },
    {
      "cell_type": "markdown",
      "metadata": {
        "id": "3miz7Ef-JDcq"
      },
      "source": [
        "El argumento num_words=10000 indica que sólo se tomarán en cuenta las 10,000 palabras más frecuentes de la base de datos, esto con la finalidad de reducir el tamaño de los vectores de entrada."
      ]
    },
    {
      "cell_type": "code",
      "metadata": {
        "id": "Zx1velFJy7WD",
        "colab": {
          "base_uri": "https://localhost:8080/"
        },
        "outputId": "7997e841-ae41-4e4c-e778-d20a68abc767"
      },
      "source": [
        "train_data[5012] #Noticia 101 del conjunto de entrenamiento"
      ],
      "execution_count": 4,
      "outputs": [
        {
          "output_type": "execute_result",
          "data": {
            "text/plain": [
              "[1,\n",
              " 8877,\n",
              " 2789,\n",
              " 23,\n",
              " 2863,\n",
              " 10,\n",
              " 1126,\n",
              " 50,\n",
              " 114,\n",
              " 447,\n",
              " 7,\n",
              " 10,\n",
              " 396,\n",
              " 67,\n",
              " 116,\n",
              " 5,\n",
              " 84,\n",
              " 6,\n",
              " 648,\n",
              " 20,\n",
              " 5,\n",
              " 25,\n",
              " 599,\n",
              " 304,\n",
              " 294,\n",
              " 283,\n",
              " 778,\n",
              " 9,\n",
              " 114,\n",
              " 679,\n",
              " 228,\n",
              " 628,\n",
              " 11,\n",
              " 15,\n",
              " 2789,\n",
              " 265,\n",
              " 2,\n",
              " 8232,\n",
              " 8,\n",
              " 8232,\n",
              " 118,\n",
              " 371,\n",
              " 4,\n",
              " 1005,\n",
              " 136,\n",
              " 1680,\n",
              " 34,\n",
              " 1161,\n",
              " 28,\n",
              " 141,\n",
              " 236,\n",
              " 9,\n",
              " 24,\n",
              " 4,\n",
              " 784,\n",
              " 5,\n",
              " 628,\n",
              " 11,\n",
              " 15,\n",
              " 630,\n",
              " 7,\n",
              " 126,\n",
              " 882,\n",
              " 1122,\n",
              " 34,\n",
              " 768,\n",
              " 69,\n",
              " 866,\n",
              " 294,\n",
              " 283,\n",
              " 1348,\n",
              " 324,\n",
              " 27,\n",
              " 2789,\n",
              " 304,\n",
              " 2,\n",
              " 2,\n",
              " 2,\n",
              " 2907,\n",
              " 23,\n",
              " 133,\n",
              " 6,\n",
              " 5782,\n",
              " 4,\n",
              " 294,\n",
              " 399,\n",
              " 3903,\n",
              " 4811,\n",
              " 218,\n",
              " 5,\n",
              " 2253,\n",
              " 141,\n",
              " 71,\n",
              " 50,\n",
              " 2789,\n",
              " 759,\n",
              " 200,\n",
              " 6,\n",
              " 264,\n",
              " 2789,\n",
              " 292,\n",
              " 54,\n",
              " 121,\n",
              " 16,\n",
              " 64,\n",
              " 200,\n",
              " 7,\n",
              " 1186,\n",
              " 6,\n",
              " 264,\n",
              " 4,\n",
              " 2253,\n",
              " 1005,\n",
              " 13,\n",
              " 4153,\n",
              " 11,\n",
              " 15,\n",
              " 10,\n",
              " 2789,\n",
              " 176,\n",
              " 565,\n",
              " 1613,\n",
              " 24,\n",
              " 4,\n",
              " 103,\n",
              " 34,\n",
              " 2863,\n",
              " 4,\n",
              " 1695,\n",
              " 5,\n",
              " 4,\n",
              " 2253,\n",
              " 218,\n",
              " 6,\n",
              " 294,\n",
              " 283,\n",
              " 1401,\n",
              " 31,\n",
              " 10,\n",
              " 477,\n",
              " 67,\n",
              " 770,\n",
              " 7,\n",
              " 4,\n",
              " 521,\n",
              " 304,\n",
              " 51,\n",
              " 855,\n",
              " 129,\n",
              " 783,\n",
              " 4,\n",
              " 5550,\n",
              " 300,\n",
              " 40,\n",
              " 85,\n",
              " 6769,\n",
              " 27,\n",
              " 231,\n",
              " 215,\n",
              " 43,\n",
              " 10,\n",
              " 1078,\n",
              " 5,\n",
              " 4177,\n",
              " 313,\n",
              " 4,\n",
              " 270,\n",
              " 5,\n",
              " 4,\n",
              " 2253,\n",
              " 218,\n",
              " 17,\n",
              " 12]"
            ]
          },
          "metadata": {
            "tags": []
          },
          "execution_count": 4
        }
      ]
    },
    {
      "cell_type": "code",
      "metadata": {
        "id": "fd_uYAdHIKQa",
        "colab": {
          "base_uri": "https://localhost:8080/"
        },
        "outputId": "d159c195-a8fa-4bb9-e5ac-62aee34a8a21"
      },
      "source": [
        "len(train_data[5012]) #Número de palabras en la crítica 101 del conjunto de entrenamiento"
      ],
      "execution_count": 5,
      "outputs": [
        {
          "output_type": "execute_result",
          "data": {
            "text/plain": [
              "173"
            ]
          },
          "metadata": {
            "tags": []
          },
          "execution_count": 5
        }
      ]
    },
    {
      "cell_type": "code",
      "metadata": {
        "colab": {
          "base_uri": "https://localhost:8080/"
        },
        "id": "CKhhNlJlMBLx",
        "outputId": "22868a54-f96b-45fe-da49-b3e87d8d7a0f"
      },
      "source": [
        "len(train_data)"
      ],
      "execution_count": 6,
      "outputs": [
        {
          "output_type": "execute_result",
          "data": {
            "text/plain": [
              "8982"
            ]
          },
          "metadata": {
            "tags": []
          },
          "execution_count": 6
        }
      ]
    },
    {
      "cell_type": "code",
      "metadata": {
        "colab": {
          "base_uri": "https://localhost:8080/"
        },
        "id": "DoGuIu6wMTtw",
        "outputId": "ad701ffe-99b6-4880-de4e-8bdda3915bc4"
      },
      "source": [
        "len(train_labels)"
      ],
      "execution_count": 7,
      "outputs": [
        {
          "output_type": "execute_result",
          "data": {
            "text/plain": [
              "8982"
            ]
          },
          "metadata": {
            "tags": []
          },
          "execution_count": 7
        }
      ]
    },
    {
      "cell_type": "code",
      "metadata": {
        "id": "yGbcjBhiILML",
        "colab": {
          "base_uri": "https://localhost:8080/"
        },
        "outputId": "cf1576ef-73af-42d8-a71c-774c531a8f94"
      },
      "source": [
        "train_labels[123] #La crítica 101 del conjunto de entrenamiento pertenece al tema 21."
      ],
      "execution_count": 20,
      "outputs": [
        {
          "output_type": "execute_result",
          "data": {
            "text/plain": [
              "1"
            ]
          },
          "metadata": {
            "tags": []
          },
          "execution_count": 20
        }
      ]
    },
    {
      "cell_type": "code",
      "metadata": {
        "colab": {
          "base_uri": "https://localhost:8080/"
        },
        "id": "fXX1_jmcMg66",
        "outputId": "e2398d1a-243a-452d-86cb-db9bae5e246b"
      },
      "source": [
        "train_data.shape"
      ],
      "execution_count": 10,
      "outputs": [
        {
          "output_type": "execute_result",
          "data": {
            "text/plain": [
              "(8982,)"
            ]
          },
          "metadata": {
            "tags": []
          },
          "execution_count": 10
        }
      ]
    },
    {
      "cell_type": "markdown",
      "metadata": {
        "id": "SK1moFKVI2wZ"
      },
      "source": [
        "Cada una de las instancias de la base de datos Reuters puede decodificarse fácilmente:"
      ]
    },
    {
      "cell_type": "code",
      "metadata": {
        "id": "Qlj8kPJJJX1x"
      },
      "source": [
        "#word_index es un diccionario que permite mapear cada palabra a su respectivo índice\n",
        "word_index = reuters.get_word_index()\n",
        "# Aplicamos la operación inversa, es decir, mapeamos de índices a palabras.\n",
        "reverse_word_index = dict([(value, key) for (key, value) in word_index.items()])\n",
        "# Procedemos a decodificar la crítica. La razón por la que a cada índice le restamos 3, es\n",
        "#porque 0, 1 y 2 son índices reservados para los valores de \"padding\", \"comienzo de la secuencia\" y \"desconocido\".\n",
        "# El argumento \"?\" se regresa en caso de que el índice en cuestión no tenga ninguna palabra asociada.\n",
        "decoded_newswire = ' '.join([reverse_word_index.get(i - 3, '?') for i in train_data[7673]])"
      ],
      "execution_count": 13,
      "outputs": []
    },
    {
      "cell_type": "code",
      "metadata": {
        "id": "s2UWUztpJkoo",
        "colab": {
          "base_uri": "https://localhost:8080/",
          "height": 120
        },
        "outputId": "6e272b6a-cfc4-49f3-b5f1-5be0484b9436"
      },
      "source": [
        "decoded_newswire"
      ],
      "execution_count": 14,
      "outputs": [
        {
          "output_type": "execute_result",
          "data": {
            "application/vnd.google.colaboratory.intrinsic+json": {
              "type": "string"
            },
            "text/plain": [
              "'? lt nippon telegraph and telephone corp ntt expects its profits to fall to 328 billion yen in the year ending march 31 1988 from a projected 348 billion this year the company said total sales for the same period are expected to rise to 5 506 billion yen from a projected 5 328 billion this year ntt said in a business operations plan submitted to the post and telecommunications ministry ntt said it plans to make capital investments of 1 770 billion yen in 1987 88 including 109 billion for research and development as against a total of 1 600 billion this year an ntt spokesman said increased competition from new ? to the telecommunications field and the effect of a sales tax scheduled to be introduced next january were the major factors behind the projected decrease in profits the japanese telecommunications industry was ? in 1985 reuter 3'"
            ]
          },
          "metadata": {
            "tags": []
          },
          "execution_count": 14
        }
      ]
    },
    {
      "cell_type": "markdown",
      "metadata": {
        "id": "LQHqoLy5KBWq"
      },
      "source": [
        "# **Preprocesamiento de los datos**"
      ]
    },
    {
      "cell_type": "markdown",
      "metadata": {
        "id": "K7QkSNNOKEmC"
      },
      "source": [
        "Aplicamos el enfoque de one-hot encoding a los datos de entrada. Por ejemplo, si una de nuestras instancias se representa por la lista [2, 7, 15], al aplicar one-hot encoding, dicha lista se convertirá en un vector de 10,000 elementos, donde a los índices 2, 7 y 15, se les asignará el valor de 1. La razón por la que se aplica esta operación en los datos de entrada, es porque las redes neuronales convolucionales no reciben como entrada listas de valores, sino tensores. <br>\n",
        "**Noticia 1 -> [2, 7, 15]** <br>\n",
        "**One-hot encoding de la crítica -> [0, 0, 1, 0, 0, 0, 0, 1, 0, 0, 0, 0, 0, 0, 0, 1, 0, 0, ... , 0]** <br>\n",
        "**Noticia 2-> [9, 7, 1, 2, 7]** <br>\n",
        "**One-hot encoding de la crítica -> [0, 1, 1, 0, 0, 0, 0, 1, 0, 1, 0, 0, 0, 0, 0, 0, 0, 0, ... , 0]**"
      ]
    },
    {
      "cell_type": "code",
      "metadata": {
        "id": "KJ4CfYWjKD2J"
      },
      "source": [
        "import numpy as np\n",
        "\n",
        "def vectorize_sequences(sequences, dimension=10000):\n",
        "    # Creamos matrices de ceros con dimensiones (len(sequences), dimension)\n",
        "    results = np.zeros((len(sequences), dimension))\n",
        "    for i, sequence in enumerate(sequences): #i = 0\n",
        "        results[i, sequence] = 1.  # le asignamos el valor de uno al índice correspondiente\n",
        "    return results\n",
        "\n",
        "# Conjunto de entrenamiento vectorizado\n",
        "x_train = vectorize_sequences(train_data)\n",
        "# Conjunto de prueba vectorizado\n",
        "x_test = vectorize_sequences(test_data)"
      ],
      "execution_count": 15,
      "outputs": []
    },
    {
      "cell_type": "code",
      "metadata": {
        "colab": {
          "base_uri": "https://localhost:8080/"
        },
        "id": "l5Ce2wvlQgzD",
        "outputId": "d3bf618b-c020-461d-beb5-f671342d4925"
      },
      "source": [
        "x_train"
      ],
      "execution_count": 16,
      "outputs": [
        {
          "output_type": "execute_result",
          "data": {
            "text/plain": [
              "array([[0., 1., 1., ..., 0., 0., 0.],\n",
              "       [0., 1., 1., ..., 0., 0., 0.],\n",
              "       [0., 1., 1., ..., 0., 0., 0.],\n",
              "       ...,\n",
              "       [0., 1., 1., ..., 0., 0., 0.],\n",
              "       [0., 1., 1., ..., 0., 0., 0.],\n",
              "       [0., 1., 1., ..., 0., 0., 0.]])"
            ]
          },
          "metadata": {
            "tags": []
          },
          "execution_count": 16
        }
      ]
    },
    {
      "cell_type": "code",
      "metadata": {
        "colab": {
          "base_uri": "https://localhost:8080/"
        },
        "id": "a3Fh8GQnQq0Z",
        "outputId": "b8b67d25-3694-4108-bae4-d10269af1e06"
      },
      "source": [
        "x_train[3457]"
      ],
      "execution_count": 19,
      "outputs": [
        {
          "output_type": "execute_result",
          "data": {
            "text/plain": [
              "array([0., 1., 1., ..., 0., 0., 0.])"
            ]
          },
          "metadata": {
            "tags": []
          },
          "execution_count": 19
        }
      ]
    },
    {
      "cell_type": "code",
      "metadata": {
        "colab": {
          "base_uri": "https://localhost:8080/"
        },
        "id": "lsAznzrxQogV",
        "outputId": "9b2859d4-9ab3-4914-b141-977094a87d56"
      },
      "source": [
        "x_test"
      ],
      "execution_count": 17,
      "outputs": [
        {
          "output_type": "execute_result",
          "data": {
            "text/plain": [
              "array([[0., 1., 1., ..., 0., 0., 0.],\n",
              "       [0., 1., 1., ..., 0., 0., 0.],\n",
              "       [0., 1., 1., ..., 0., 0., 0.],\n",
              "       ...,\n",
              "       [0., 1., 0., ..., 0., 0., 0.],\n",
              "       [0., 1., 1., ..., 0., 0., 0.],\n",
              "       [0., 1., 1., ..., 0., 0., 0.]])"
            ]
          },
          "metadata": {
            "tags": []
          },
          "execution_count": 17
        }
      ]
    },
    {
      "cell_type": "markdown",
      "metadata": {
        "id": "n5TJRFvSKbAB"
      },
      "source": [
        "Asimismo, aplicamos one-hot encoding a las etiquetas de los conjuntos de entrenamiento y prueba. Esto genera que cada etiqueta se convierta en un vector de 0's de 46 dimensiones, con un 1 asignado al índice asociado a la etiqueta."
      ]
    },
    {
      "cell_type": "code",
      "metadata": {
        "id": "4OYz_20wLHVg"
      },
      "source": [
        "def to_one_hot(labels, dimension=46):\n",
        "    results = np.zeros((len(labels), dimension))\n",
        "    for i, label in enumerate(labels):\n",
        "        results[i, label] = 1.\n",
        "    return results\n",
        "\n",
        "# Etiquetas de entrenamiento vectorizadas\n",
        "one_hot_train_labels = to_one_hot(train_labels)\n",
        "# Etiquetas de prueba vectorizadas\n",
        "one_hot_test_labels = to_one_hot(test_labels)"
      ],
      "execution_count": 21,
      "outputs": []
    },
    {
      "cell_type": "code",
      "metadata": {
        "id": "q1ghEMgelNj2",
        "colab": {
          "base_uri": "https://localhost:8080/"
        },
        "outputId": "7127bef1-c35b-4033-d402-22110d233153"
      },
      "source": [
        "one_hot_train_labels[400]"
      ],
      "execution_count": 23,
      "outputs": [
        {
          "output_type": "execute_result",
          "data": {
            "text/plain": [
              "array([0., 0., 0., 1., 0., 0., 0., 0., 0., 0., 0., 0., 0., 0., 0., 0., 0.,\n",
              "       0., 0., 0., 0., 0., 0., 0., 0., 0., 0., 0., 0., 0., 0., 0., 0., 0.,\n",
              "       0., 0., 0., 0., 0., 0., 0., 0., 0., 0., 0., 0.])"
            ]
          },
          "metadata": {
            "tags": []
          },
          "execution_count": 23
        }
      ]
    },
    {
      "cell_type": "markdown",
      "metadata": {
        "id": "oKX571-wLQTJ"
      },
      "source": [
        "Keras posee una función que permite realizar one-hot encoding de forma automática:"
      ]
    },
    {
      "cell_type": "code",
      "metadata": {
        "id": "KWCp2th1LYfa"
      },
      "source": [
        "from keras.utils import to_categorical\n",
        "\n",
        "one_hot_train_labels = to_categorical(train_labels)\n",
        "one_hot_test_labels = to_categorical(test_labels)"
      ],
      "execution_count": 24,
      "outputs": []
    },
    {
      "cell_type": "code",
      "metadata": {
        "colab": {
          "base_uri": "https://localhost:8080/"
        },
        "id": "oWgxbJdRRzeT",
        "outputId": "992b9c31-5f9b-422e-cc0b-65f7d51e9ba1"
      },
      "source": [
        "one_hot_train_labels[400]"
      ],
      "execution_count": 25,
      "outputs": [
        {
          "output_type": "execute_result",
          "data": {
            "text/plain": [
              "array([0., 0., 0., 1., 0., 0., 0., 0., 0., 0., 0., 0., 0., 0., 0., 0., 0.,\n",
              "       0., 0., 0., 0., 0., 0., 0., 0., 0., 0., 0., 0., 0., 0., 0., 0., 0.,\n",
              "       0., 0., 0., 0., 0., 0., 0., 0., 0., 0., 0., 0.], dtype=float32)"
            ]
          },
          "metadata": {
            "tags": []
          },
          "execution_count": 25
        }
      ]
    },
    {
      "cell_type": "markdown",
      "metadata": {
        "id": "56SGiguVLtV5"
      },
      "source": [
        "# **Construcción de la red neuronal**"
      ]
    },
    {
      "cell_type": "code",
      "metadata": {
        "id": "MtE2najsLvdC"
      },
      "source": [
        "from tensorflow.keras import models\n",
        "from tensorflow.keras import layers\n",
        "\n",
        "model = models.Sequential()\n",
        "model.add(layers.Dense(64, activation='relu', input_shape=(10000,)))\n",
        "model.add(layers.Dense(64, activation='relu'))\n",
        "model.add(layers.Dense(46, activation='softmax'))"
      ],
      "execution_count": 26,
      "outputs": []
    },
    {
      "cell_type": "markdown",
      "metadata": {
        "id": "xY04xdUYAFeE"
      },
      "source": [
        "# **Compilación**"
      ]
    },
    {
      "cell_type": "code",
      "metadata": {
        "id": "8_T3TRHTAEIV"
      },
      "source": [
        "model.compile(optimizer='rmsprop',# lr=1e-4    #Forma parte del entrenamiento\n",
        "              loss='categorical_crossentropy',  #Forma parte del entrenamiento -> loss / error\n",
        "              metrics=['accuracy'])       #NO forma parte del entrenamiento"
      ],
      "execution_count": 27,
      "outputs": []
    },
    {
      "cell_type": "markdown",
      "metadata": {
        "id": "k35EAUeHAtc_"
      },
      "source": [
        "# **Validación**"
      ]
    },
    {
      "cell_type": "markdown",
      "metadata": {
        "id": "9NBURPE3Axt2"
      },
      "source": [
        "Buscando evaluar el rendimiento del modelo durante la fase de entrenamiento, construimos el conjunto de validación a partir del conjunto de entrenamiento."
      ]
    },
    {
      "cell_type": "code",
      "metadata": {
        "id": "hEWPTE0eAwIF"
      },
      "source": [
        "x_val = x_train[:1000]\n",
        "partial_x_train = x_train[1000:]\n",
        "\n",
        "y_val = one_hot_train_labels[:1000]\n",
        "partial_y_train = one_hot_train_labels[1000:]"
      ],
      "execution_count": 29,
      "outputs": []
    },
    {
      "cell_type": "code",
      "metadata": {
        "id": "oNnKPIV6nuv8",
        "colab": {
          "base_uri": "https://localhost:8080/"
        },
        "outputId": "8bfe3d9a-8c4c-4f53-b4a8-4100a5baa54f"
      },
      "source": [
        "#Conjunto de validación\n",
        "len(x_val)"
      ],
      "execution_count": 30,
      "outputs": [
        {
          "output_type": "execute_result",
          "data": {
            "text/plain": [
              "1000"
            ]
          },
          "metadata": {
            "tags": []
          },
          "execution_count": 30
        }
      ]
    },
    {
      "cell_type": "code",
      "metadata": {
        "id": "ewIa26Oun-eL",
        "colab": {
          "base_uri": "https://localhost:8080/"
        },
        "outputId": "140bd516-b393-4989-8357-f6e7af35944c"
      },
      "source": [
        "#Conjunto de train\n",
        "len(partial_x_train)"
      ],
      "execution_count": 35,
      "outputs": [
        {
          "output_type": "execute_result",
          "data": {
            "text/plain": [
              "7982"
            ]
          },
          "metadata": {
            "tags": []
          },
          "execution_count": 35
        }
      ]
    },
    {
      "cell_type": "markdown",
      "metadata": {
        "id": "ZqDUTm1dMWdR"
      },
      "source": [
        "# **Entrenamiento**"
      ]
    },
    {
      "cell_type": "code",
      "metadata": {
        "id": "U0wSR95qMX7K",
        "colab": {
          "base_uri": "https://localhost:8080/"
        },
        "outputId": "ae2c1a30-a30c-4823-888e-14587a86f508"
      },
      "source": [
        "history = model.fit(partial_x_train,\n",
        "                    partial_y_train,\n",
        "                    epochs=20,\n",
        "                    batch_size=512,\n",
        "                    validation_data=(x_val, y_val))"
      ],
      "execution_count": 32,
      "outputs": [
        {
          "output_type": "stream",
          "text": [
            "Epoch 1/20\n",
            "16/16 [==============================] - 1s 56ms/step - loss: 2.5928 - accuracy: 0.5165 - val_loss: 1.7060 - val_accuracy: 0.6530\n",
            "Epoch 2/20\n",
            "16/16 [==============================] - 1s 46ms/step - loss: 1.4063 - accuracy: 0.7144 - val_loss: 1.2949 - val_accuracy: 0.7080\n",
            "Epoch 3/20\n",
            "16/16 [==============================] - 1s 44ms/step - loss: 1.0470 - accuracy: 0.7770 - val_loss: 1.1175 - val_accuracy: 0.7550\n",
            "Epoch 4/20\n",
            "16/16 [==============================] - 1s 46ms/step - loss: 0.8182 - accuracy: 0.8250 - val_loss: 1.0116 - val_accuracy: 0.7830\n",
            "Epoch 5/20\n",
            "16/16 [==============================] - 1s 46ms/step - loss: 0.6478 - accuracy: 0.8647 - val_loss: 0.9473 - val_accuracy: 0.7980\n",
            "Epoch 6/20\n",
            "16/16 [==============================] - 1s 44ms/step - loss: 0.5144 - accuracy: 0.8955 - val_loss: 0.9127 - val_accuracy: 0.8070\n",
            "Epoch 7/20\n",
            "16/16 [==============================] - 1s 42ms/step - loss: 0.4102 - accuracy: 0.9177 - val_loss: 0.8917 - val_accuracy: 0.8170\n",
            "Epoch 8/20\n",
            "16/16 [==============================] - 1s 43ms/step - loss: 0.3351 - accuracy: 0.9267 - val_loss: 0.8687 - val_accuracy: 0.8190\n",
            "Epoch 9/20\n",
            "16/16 [==============================] - 1s 43ms/step - loss: 0.2751 - accuracy: 0.9395 - val_loss: 0.8753 - val_accuracy: 0.8230\n",
            "Epoch 10/20\n",
            "16/16 [==============================] - 1s 43ms/step - loss: 0.2321 - accuracy: 0.9446 - val_loss: 0.9389 - val_accuracy: 0.7990\n",
            "Epoch 11/20\n",
            "16/16 [==============================] - 1s 42ms/step - loss: 0.1983 - accuracy: 0.9483 - val_loss: 0.9109 - val_accuracy: 0.8190\n",
            "Epoch 12/20\n",
            "16/16 [==============================] - 1s 44ms/step - loss: 0.1760 - accuracy: 0.9533 - val_loss: 0.9255 - val_accuracy: 0.8140\n",
            "Epoch 13/20\n",
            "16/16 [==============================] - 1s 45ms/step - loss: 0.1641 - accuracy: 0.9523 - val_loss: 0.9746 - val_accuracy: 0.8080\n",
            "Epoch 14/20\n",
            "16/16 [==============================] - 1s 47ms/step - loss: 0.1464 - accuracy: 0.9548 - val_loss: 0.9493 - val_accuracy: 0.8170\n",
            "Epoch 15/20\n",
            "16/16 [==============================] - 1s 50ms/step - loss: 0.1364 - accuracy: 0.9567 - val_loss: 1.0071 - val_accuracy: 0.8080\n",
            "Epoch 16/20\n",
            "16/16 [==============================] - 1s 47ms/step - loss: 0.1279 - accuracy: 0.9555 - val_loss: 0.9907 - val_accuracy: 0.8110\n",
            "Epoch 17/20\n",
            "16/16 [==============================] - 1s 47ms/step - loss: 0.1250 - accuracy: 0.9578 - val_loss: 1.0387 - val_accuracy: 0.8100\n",
            "Epoch 18/20\n",
            "16/16 [==============================] - 1s 44ms/step - loss: 0.1173 - accuracy: 0.9568 - val_loss: 1.0352 - val_accuracy: 0.8120\n",
            "Epoch 19/20\n",
            "16/16 [==============================] - 1s 44ms/step - loss: 0.1143 - accuracy: 0.9577 - val_loss: 1.0905 - val_accuracy: 0.7980\n",
            "Epoch 20/20\n",
            "16/16 [==============================] - 1s 42ms/step - loss: 0.1106 - accuracy: 0.9577 - val_loss: 1.1065 - val_accuracy: 0.8100\n"
          ],
          "name": "stdout"
        }
      ]
    },
    {
      "cell_type": "markdown",
      "metadata": {
        "id": "oeCNHrZgMbYR"
      },
      "source": [
        "# **Curva de pérdida**"
      ]
    },
    {
      "cell_type": "code",
      "metadata": {
        "id": "uBtIoB3WMdjT",
        "colab": {
          "base_uri": "https://localhost:8080/",
          "height": 295
        },
        "outputId": "3a45e559-2a7f-4766-cadc-e8fcfb77709c"
      },
      "source": [
        "import matplotlib.pyplot as plt\n",
        "\n",
        "loss = history.history['loss']\n",
        "val_loss = history.history['val_loss']\n",
        "\n",
        "epochs = range(1, len(loss) + 1)\n",
        "\n",
        "plt.plot(epochs, loss, 'ro', label='Training loss')\n",
        "plt.plot(epochs, val_loss, 'g', label='Validation loss')\n",
        "plt.title('Training and validation loss')\n",
        "plt.xlabel('Epochs')\n",
        "plt.ylabel('Loss')\n",
        "plt.legend()\n",
        "\n",
        "plt.show()"
      ],
      "execution_count": 34,
      "outputs": [
        {
          "output_type": "display_data",
          "data": {
            "image/png": "[encoded data removed]",
            "text/plain": [
              "<Figure size 432x288 with 1 Axes>"
            ]
          },
          "metadata": {
            "tags": [],
            "needs_background": "light"
          }
        }
      ]
    },
    {
      "cell_type": "markdown",
      "metadata": {
        "id": "9LMzNwytMeTq"
      },
      "source": [
        "# **Curva de precisión**"
      ]
    },
    {
      "cell_type": "code",
      "metadata": {
        "id": "qE5UKlqgMjvE",
        "colab": {
          "base_uri": "https://localhost:8080/",
          "height": 295
        },
        "outputId": "d42c6265-8ca0-40d8-c390-44b2bf0de7cd"
      },
      "source": [
        "plt.clf()   # clear figure\n",
        "\n",
        "acc = history.history['accuracy']\n",
        "val_acc = history.history['val_accuracy']\n",
        "\n",
        "plt.plot(epochs, acc, 'ro', label='Training accuracy')\n",
        "plt.plot(epochs, val_acc, 'g', label='Validation accuracy')\n",
        "plt.title('Training and validation accuracy')\n",
        "plt.xlabel('Epochs')\n",
        "plt.ylabel('Accuracy')\n",
        "plt.legend()\n",
        "\n",
        "plt.show()"
      ],
      "execution_count": 36,
      "outputs": [
        {
          "output_type": "display_data",
          "data": {
            "image/png": "[encoded data removed]",
            "text/plain": [
              "<Figure size 432x288 with 1 Axes>"
            ]
          },
          "metadata": {
            "tags": [],
            "needs_background": "light"
          }
        }
      ]
    },
    {
      "cell_type": "markdown",
      "metadata": {
        "id": "v73e3DFtRYOZ"
      },
      "source": [
        "Con base a las gráficas previas, podemos observar que, aproximadamente a partir de la época 10, el modelo deja de mejorar y comienza a presentarse una disminución en su rendimiento."
      ]
    },
    {
      "cell_type": "markdown",
      "metadata": {
        "id": "9RPxfbOoM4J6"
      },
      "source": [
        "# **Re-entrenamiento y evaluación del modelo final**"
      ]
    },
    {
      "cell_type": "markdown",
      "metadata": {
        "id": "49Rc9awt0gPY"
      },
      "source": [
        "Una vez que se seleccionó el modelo tomando como base el rendimiento de este en el conjunto de validación, una práctica recomendada es volver a entrar la arquitectura con los mismos parámetros con los que se generó el modelo seleccionado y con el conjunto de entrenamiento original, es decir, integrado el conjunto de validación al conjunto de entrenamiento \"parcial\". "
      ]
    },
    {
      "cell_type": "code",
      "metadata": {
        "id": "FJEwfM0mM2Ia",
        "colab": {
          "base_uri": "https://localhost:8080/"
        },
        "outputId": "8ebb7d70-29d3-45fb-f75b-da81f07a001b"
      },
      "source": [
        "model = models.Sequential()\n",
        "model.add(layers.Dense(64, activation='relu', input_shape=(10000,)))\n",
        "model.add(layers.Dense(64, activation='relu'))\n",
        "model.add(layers.Dense(46, activation='softmax'))\n",
        "\n",
        "model.compile(optimizer='rmsprop',\n",
        "              loss='categorical_crossentropy',\n",
        "              metrics=['accuracy'])\n",
        "# Entrenamos el modelo en el conjunto de entrenamiento original\n",
        "model.fit(x_train, one_hot_train_labels, epochs=9, batch_size=512)"
      ],
      "execution_count": 37,
      "outputs": [
        {
          "output_type": "stream",
          "text": [
            "Epoch 1/9\n",
            "18/18 [==============================] - 1s 40ms/step - loss: 2.6395 - accuracy: 0.5135\n",
            "Epoch 2/9\n",
            "18/18 [==============================] - 1s 40ms/step - loss: 1.3992 - accuracy: 0.7189\n",
            "Epoch 3/9\n",
            "18/18 [==============================] - 1s 39ms/step - loss: 1.0204 - accuracy: 0.7836\n",
            "Epoch 4/9\n",
            "18/18 [==============================] - 1s 39ms/step - loss: 0.7869 - accuracy: 0.8349\n",
            "Epoch 5/9\n",
            "18/18 [==============================] - 1s 39ms/step - loss: 0.6193 - accuracy: 0.8707\n",
            "Epoch 6/9\n",
            "18/18 [==============================] - 1s 40ms/step - loss: 0.4878 - accuracy: 0.9002\n",
            "Epoch 7/9\n",
            "18/18 [==============================] - 1s 43ms/step - loss: 0.3933 - accuracy: 0.9161\n",
            "Epoch 8/9\n",
            "18/18 [==============================] - 1s 48ms/step - loss: 0.3191 - accuracy: 0.9283\n",
            "Epoch 9/9\n",
            "18/18 [==============================] - 1s 41ms/step - loss: 0.2639 - accuracy: 0.9400\n"
          ],
          "name": "stdout"
        },
        {
          "output_type": "execute_result",
          "data": {
            "text/plain": [
              "<tensorflow.python.keras.callbacks.History at 0x7fac70416e10>"
            ]
          },
          "metadata": {
            "tags": []
          },
          "execution_count": 37
        }
      ]
    },
    {
      "cell_type": "code",
      "metadata": {
        "colab": {
          "base_uri": "https://localhost:8080/"
        },
        "id": "0KWJ6a3JYurh",
        "outputId": "b31089a0-ed19-48fc-f5c4-84489ca405b6"
      },
      "source": [
        "#Evaluamos el modelo final\n",
        "test_loss, test_acc = model.evaluate(x_test, one_hot_test_labels)"
      ],
      "execution_count": 40,
      "outputs": [
        {
          "output_type": "stream",
          "text": [
            "71/71 [==============================] - 0s 3ms/step - loss: 0.9493 - accuracy: 0.7979\n"
          ],
          "name": "stdout"
        }
      ]
    },
    {
      "cell_type": "code",
      "metadata": {
        "id": "NsDw2z32NKRD",
        "colab": {
          "base_uri": "https://localhost:8080/"
        },
        "outputId": "2a624bba-d6bd-43e2-d22b-4fdf989d3767"
      },
      "source": [
        "test_acc"
      ],
      "execution_count": 41,
      "outputs": [
        {
          "output_type": "execute_result",
          "data": {
            "text/plain": [
              "0.7978628873825073"
            ]
          },
          "metadata": {
            "tags": []
          },
          "execution_count": 41
        }
      ]
    },
    {
      "cell_type": "markdown",
      "metadata": {
        "id": "4v58mbPDEqC1"
      },
      "source": [
        "# **Predicciones del modelo final**"
      ]
    },
    {
      "cell_type": "markdown",
      "metadata": {
        "id": "Vyah_Qp1EvVV"
      },
      "source": [
        "Luego de generar un modelo apropiado para clasificar cables de noticias, podemos usarlo para predecir la probabilidad de que cada nueva noticia que sea leída por el modelo, se clasifique como uno de los 46 tipos. Este proceso predictivo es muy importante, ya que así es como se desplegaría esta red neuronal en \"la vida real\", es decir, en algún servicio de consumo."
      ]
    },
    {
      "cell_type": "code",
      "metadata": {
        "id": "nICUkinyOSjh"
      },
      "source": [
        "predictions = model.predict(x_test)"
      ],
      "execution_count": 42,
      "outputs": []
    },
    {
      "cell_type": "markdown",
      "metadata": {
        "id": "O9an3r32Od1B"
      },
      "source": [
        "Cada fila del tensor predictions, es un vector de 46 elementos."
      ]
    },
    {
      "cell_type": "code",
      "metadata": {
        "id": "fgGMpGT2OVrB",
        "colab": {
          "base_uri": "https://localhost:8080/"
        },
        "outputId": "06d817bd-99c0-426d-f81c-de0f1bc7620d"
      },
      "source": [
        "predictions[56]"
      ],
      "execution_count": 49,
      "outputs": [
        {
          "output_type": "execute_result",
          "data": {
            "text/plain": [
              "array([0.03113368, 0.160295  , 0.03652373, 0.03232277, 0.04465819,\n",
              "       0.01690608, 0.00847167, 0.00278069, 0.00371158, 0.00322367,\n",
              "       0.01172054, 0.00558268, 0.00603611, 0.01568859, 0.02790179,\n",
              "       0.00163035, 0.15533552, 0.00928717, 0.00252776, 0.02288631,\n",
              "       0.00741136, 0.0005695 , 0.00742258, 0.03010601, 0.0408833 ,\n",
              "       0.00083744, 0.16027388, 0.00240413, 0.00423399, 0.00323854,\n",
              "       0.00130543, 0.00696537, 0.01942651, 0.00505322, 0.00213675,\n",
              "       0.00035451, 0.02134892, 0.00342067, 0.01792611, 0.00675145,\n",
              "       0.0017012 , 0.05113187, 0.00206056, 0.00362528, 0.00049476,\n",
              "       0.00029289], dtype=float32)"
            ]
          },
          "metadata": {
            "tags": []
          },
          "execution_count": 49
        }
      ]
    },
    {
      "cell_type": "code",
      "metadata": {
        "colab": {
          "base_uri": "https://localhost:8080/"
        },
        "id": "cw8pgAloaaYa",
        "outputId": "9b6b8e14-2ab7-4efe-abc2-382d27d5992a"
      },
      "source": [
        "predictions[23] #0.00001428..."
      ],
      "execution_count": 50,
      "outputs": [
        {
          "output_type": "execute_result",
          "data": {
            "text/plain": [
              "array([1.4284276e-05, 1.6164032e-04, 2.3838491e-05, 6.8945426e-01,\n",
              "       3.0732358e-01, 8.0363152e-06, 5.3422809e-05, 3.0768042e-06,\n",
              "       5.8062735e-04, 1.2435986e-05, 7.5746066e-05, 3.2145232e-05,\n",
              "       1.5329879e-05, 1.6498258e-05, 2.1158691e-04, 1.5469928e-05,\n",
              "       5.2739575e-04, 2.2593433e-05, 3.8657449e-06, 1.8818787e-04,\n",
              "       1.8782640e-04, 3.6916476e-06, 1.0138883e-04, 1.8687391e-04,\n",
              "       1.6420707e-04, 1.7866725e-05, 2.6279920e-05, 8.3645034e-05,\n",
              "       4.8727334e-06, 5.2757755e-06, 6.2202075e-06, 9.6528447e-06,\n",
              "       1.2446592e-05, 7.0150168e-06, 8.8477154e-06, 1.6958234e-06,\n",
              "       1.3736910e-05, 1.2273976e-05, 9.2837045e-06, 2.3488657e-05,\n",
              "       3.2656599e-06, 3.5408264e-04, 3.9717329e-06, 6.0105076e-06,\n",
              "       1.4140868e-06, 4.3534985e-07], dtype=float32)"
            ]
          },
          "metadata": {
            "tags": []
          },
          "execution_count": 50
        }
      ]
    },
    {
      "cell_type": "markdown",
      "metadata": {
        "id": "gDTwlslIOqlO"
      },
      "source": [
        "Al sumar las probabilidades almacenadas en cada índice de un vector en particular, el resultado es 1."
      ]
    },
    {
      "cell_type": "code",
      "metadata": {
        "id": "4rgQWSypqRnD",
        "colab": {
          "base_uri": "https://localhost:8080/"
        },
        "outputId": "f4a44419-8381-4c1d-8d27-5235f435775a"
      },
      "source": [
        "predictions[23].shape"
      ],
      "execution_count": 47,
      "outputs": [
        {
          "output_type": "execute_result",
          "data": {
            "text/plain": [
              "(46,)"
            ]
          },
          "metadata": {
            "tags": []
          },
          "execution_count": 47
        }
      ]
    },
    {
      "cell_type": "code",
      "metadata": {
        "id": "-zBZKS2rObmK",
        "colab": {
          "base_uri": "https://localhost:8080/"
        },
        "outputId": "91a9a661-3e61-428e-8932-595ff9777f6b"
      },
      "source": [
        "np.sum(predictions[12])"
      ],
      "execution_count": 52,
      "outputs": [
        {
          "output_type": "execute_result",
          "data": {
            "text/plain": [
              "0.99999994"
            ]
          },
          "metadata": {
            "tags": []
          },
          "execution_count": 52
        }
      ]
    },
    {
      "cell_type": "markdown",
      "metadata": {
        "id": "QZjhRFH4O5d5"
      },
      "source": [
        "El índice que almacena el valor mayor, representa la clase a la que corresponde la entrada:"
      ]
    },
    {
      "cell_type": "code",
      "metadata": {
        "id": "r8cVcQubPGVj",
        "colab": {
          "base_uri": "https://localhost:8080/"
        },
        "outputId": "0bace344-423a-49f2-a14d-66bac6cce296"
      },
      "source": [
        "np.argmax(predictions[23])"
      ],
      "execution_count": 48,
      "outputs": [
        {
          "output_type": "execute_result",
          "data": {
            "text/plain": [
              "3"
            ]
          },
          "metadata": {
            "tags": []
          },
          "execution_count": 48
        }
      ]
    },
    {
      "cell_type": "markdown",
      "metadata": {
        "id": "RNO8C4BP18k2"
      },
      "source": [
        "**NOTA:** La información presentada en este notebook, fue tomada de https://github.com/fchollet/deep-learning-with-python-notebooks/blob/master/3.6-classifying-newswires.ipynb. La única variación sutil del presente notebook con respecto a la fuente original, tiene que ver con la descripción de ciertas partes del código."
      ]
    }
  ]
}