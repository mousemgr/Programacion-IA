{
  "nbformat": 4,
  "nbformat_minor": 0,
  "metadata": {
    "colab": {
      "name": "Embedding_vectors.ipynb",
      "provenance": [],
      "collapsed_sections": []
    },
    "kernelspec": {
      "name": "python3",
      "display_name": "Python 3"
    }
  },
  "cells": [
    {
      "cell_type": "code",
      "metadata": {
        "id": "U4uoWEjXeUul",
        "colab": {
          "base_uri": "https://localhost:8080/"
        },
        "outputId": "6eeff27a-004e-4ef9-abf3-201a91b0c7b3"
      },
      "source": [
        "from google.colab import drive\r\n",
        "drive.mount('/content/drive')"
      ],
      "execution_count": 1,
      "outputs": [
        {
          "output_type": "stream",
          "text": [
            "Mounted at /content/drive\n"
          ],
          "name": "stdout"
        }
      ]
    },
    {
      "cell_type": "code",
      "metadata": {
        "id": "M_3p2pLi72OC",
        "colab": {
          "base_uri": "https://localhost:8080/"
        },
        "outputId": "abfbad27-9a84-455e-80b7-f51a27538652"
      },
      "source": [
        "from tensorflow.keras.datasets import imdb\n",
        "from tensorflow.keras import preprocessing\n",
        "\n",
        "# Utilizaremos las 10,000 palabras más usuales.\n",
        "max_features = 10000\n",
        "\n",
        "# Por cada crítica, consideraremos sólo las 20 primeras palabras dentro de las 10,000 más usuales.\n",
        "maxlen = 20\n",
        "\n",
        "# Cargamos los datos como listas de enteros.\n",
        "(x_train, y_train), (x_test, y_test) = imdb.load_data(num_words=max_features)\n",
        "\n",
        "# Convertimos nuestras listas de enteros en tensores 2D de dimensiones (número de críticas, maxlen)\n",
        "x_train = preprocessing.sequence.pad_sequences(x_train, maxlen=maxlen)\n",
        "x_test = preprocessing.sequence.pad_sequences(x_test, maxlen=maxlen)"
      ],
      "execution_count": 5,
      "outputs": [
        {
          "output_type": "stream",
          "text": [
            "<string>:6: VisibleDeprecationWarning: Creating an ndarray from ragged nested sequences (which is a list-or-tuple of lists-or-tuples-or ndarrays with different lengths or shapes) is deprecated. If you meant to do this, you must specify 'dtype=object' when creating the ndarray\n",
            "/usr/local/lib/python3.6/dist-packages/tensorflow/python/keras/datasets/imdb.py:159: VisibleDeprecationWarning: Creating an ndarray from ragged nested sequences (which is a list-or-tuple of lists-or-tuples-or ndarrays with different lengths or shapes) is deprecated. If you meant to do this, you must specify 'dtype=object' when creating the ndarray\n",
            "  x_train, y_train = np.array(xs[:idx]), np.array(labels[:idx])\n",
            "/usr/local/lib/python3.6/dist-packages/tensorflow/python/keras/datasets/imdb.py:160: VisibleDeprecationWarning: Creating an ndarray from ragged nested sequences (which is a list-or-tuple of lists-or-tuples-or ndarrays with different lengths or shapes) is deprecated. If you meant to do this, you must specify 'dtype=object' when creating the ndarray\n",
            "  x_test, y_test = np.array(xs[idx:]), np.array(labels[idx:])\n"
          ],
          "name": "stderr"
        }
      ]
    },
    {
      "cell_type": "code",
      "metadata": {
        "colab": {
          "base_uri": "https://localhost:8080/"
        },
        "id": "mq863xR5dx4q",
        "outputId": "6e9a080e-6752-4f96-f6c0-16f7fe9ace8a"
      },
      "source": [
        "len(x_train[0])"
      ],
      "execution_count": 6,
      "outputs": [
        {
          "output_type": "execute_result",
          "data": {
            "text/plain": [
              "20"
            ]
          },
          "metadata": {
            "tags": []
          },
          "execution_count": 6
        }
      ]
    },
    {
      "cell_type": "code",
      "metadata": {
        "colab": {
          "base_uri": "https://localhost:8080/"
        },
        "id": "qAtUhXKZeQ_O",
        "outputId": "6e3e0062-5d2c-4d13-d0cc-782782e4bd11"
      },
      "source": [
        "x_train[0]"
      ],
      "execution_count": 7,
      "outputs": [
        {
          "output_type": "execute_result",
          "data": {
            "text/plain": [
              "array([  65,   16,   38, 1334,   88,   12,   16,  283,    5,   16, 4472,\n",
              "        113,  103,   32,   15,   16, 5345,   19,  178,   32], dtype=int32)"
            ]
          },
          "metadata": {
            "tags": []
          },
          "execution_count": 7
        }
      ]
    },
    {
      "cell_type": "code",
      "metadata": {
        "colab": {
          "base_uri": "https://localhost:8080/"
        },
        "id": "c6wWr2gYpBAC",
        "outputId": "e0922683-9da0-404a-f895-d74080c90ecf"
      },
      "source": [
        "x_train.shape"
      ],
      "execution_count": 8,
      "outputs": [
        {
          "output_type": "execute_result",
          "data": {
            "text/plain": [
              "(25000, 20)"
            ]
          },
          "metadata": {
            "tags": []
          },
          "execution_count": 8
        }
      ]
    },
    {
      "cell_type": "code",
      "metadata": {
        "colab": {
          "base_uri": "https://localhost:8080/"
        },
        "id": "gjkR2x0QeeIx",
        "outputId": "89f66302-970a-4899-d33d-1f78059dd908"
      },
      "source": [
        "x_test.shape"
      ],
      "execution_count": 9,
      "outputs": [
        {
          "output_type": "execute_result",
          "data": {
            "text/plain": [
              "(25000, 20)"
            ]
          },
          "metadata": {
            "tags": []
          },
          "execution_count": 9
        }
      ]
    },
    {
      "cell_type": "code",
      "metadata": {
        "id": "BJv4N6hZ80cN",
        "colab": {
          "base_uri": "https://localhost:8080/"
        },
        "outputId": "b1a73afa-58f0-4708-a1eb-69da4925be00"
      },
      "source": [
        "from tensorflow.keras.models import Sequential\n",
        "from tensorflow.keras.layers import Flatten, Dense\n",
        "from tensorflow.keras.layers import Embedding\n",
        "from tensorflow.keras.callbacks import EarlyStopping\n",
        "from tensorflow.keras.callbacks import ModelCheckpoint\n",
        "\n",
        "#-----------------------------------------------------------------------------------------------------\n",
        "model = Sequential()\n",
        "# Definimos las características de la capa Embedding.\n",
        "# El primer argumento se refiere al tamaño del vocabulario.\n",
        "# El segundo argumento está asociado con las dimensiones que tendrá cada word embedding\n",
        "# Y el tercer argumento, nos va a servir para aplanar los tensores que se vayan generando.\n",
        "model.add(Embedding(10000, 8, input_length=maxlen))\n",
        "# Luego de la capa Embedding, las dimensiones de las activaciones serán (tamaño del vocabulario, maxlen, 8)\n",
        "\n",
        "# Procedemos a aplanar el tensor 3D de word embeddings a un tensor 2D con dimensiones (tamaño del vocabulario, maxlen * 8)\n",
        "model.add(Flatten())\n",
        "\n",
        "# Agregamos el clasificador\n",
        "model.add(Dense(1, activation='sigmoid'))\n",
        "#-----------------------------------------------------------------------------------------------------\n",
        "\n",
        "#Compilación\n",
        "model.compile(optimizer='rmsprop', loss='binary_crossentropy', metrics=['acc'])\n",
        "#Resumen de la arquitectura\n",
        "model.summary()\n",
        "\n",
        "#Definimos los callbacks\n",
        "es = EarlyStopping(monitor= 'val_acc', mode='max', patience = 7, verbose=1)\n",
        "mc = ModelCheckpoint('/content/model_embedding_imdb.h5', monitor='val_acc', mode='max', verbose=1, save_best_only=True)\n",
        "\n",
        "\n",
        "#Entrenamiento\n",
        "history = model.fit(x_train, y_train,\n",
        "                    epochs=10,\n",
        "                    batch_size=32,\n",
        "                    validation_split=0.2,\n",
        "                    callbacks = [es, mc])"
      ],
      "execution_count": 11,
      "outputs": [
        {
          "output_type": "stream",
          "text": [
            "Model: \"sequential_1\"\n",
            "_________________________________________________________________\n",
            "Layer (type)                 Output Shape              Param #   \n",
            "=================================================================\n",
            "embedding_1 (Embedding)      (None, 20, 8)             80000     \n",
            "_________________________________________________________________\n",
            "flatten_1 (Flatten)          (None, 160)               0         \n",
            "_________________________________________________________________\n",
            "dense_1 (Dense)              (None, 1)                 161       \n",
            "=================================================================\n",
            "Total params: 80,161\n",
            "Trainable params: 80,161\n",
            "Non-trainable params: 0\n",
            "_________________________________________________________________\n",
            "Epoch 1/10\n",
            "625/625 [==============================] - 1s 2ms/step - loss: 0.6806 - acc: 0.5898 - val_loss: 0.5953 - val_acc: 0.7058\n",
            "\n",
            "Epoch 00001: val_acc improved from -inf to 0.70580, saving model to /content/model_embedding_imdb.h5\n",
            "Epoch 2/10\n",
            "625/625 [==============================] - 1s 1ms/step - loss: 0.5468 - acc: 0.7531 - val_loss: 0.5151 - val_acc: 0.7370\n",
            "\n",
            "Epoch 00002: val_acc improved from 0.70580 to 0.73700, saving model to /content/model_embedding_imdb.h5\n",
            "Epoch 3/10\n",
            "625/625 [==============================] - 1s 1ms/step - loss: 0.4652 - acc: 0.7840 - val_loss: 0.4952 - val_acc: 0.7490\n",
            "\n",
            "Epoch 00003: val_acc improved from 0.73700 to 0.74900, saving model to /content/model_embedding_imdb.h5\n",
            "Epoch 4/10\n",
            "625/625 [==============================] - 1s 1ms/step - loss: 0.4245 - acc: 0.8062 - val_loss: 0.4913 - val_acc: 0.7572\n",
            "\n",
            "Epoch 00004: val_acc improved from 0.74900 to 0.75720, saving model to /content/model_embedding_imdb.h5\n",
            "Epoch 5/10\n",
            "625/625 [==============================] - 1s 1ms/step - loss: 0.3959 - acc: 0.8234 - val_loss: 0.4928 - val_acc: 0.7580\n",
            "\n",
            "Epoch 00005: val_acc improved from 0.75720 to 0.75800, saving model to /content/model_embedding_imdb.h5\n",
            "Epoch 6/10\n",
            "625/625 [==============================] - 1s 1ms/step - loss: 0.3804 - acc: 0.8352 - val_loss: 0.4950 - val_acc: 0.7538\n",
            "\n",
            "Epoch 00006: val_acc did not improve from 0.75800\n",
            "Epoch 7/10\n",
            "625/625 [==============================] - 1s 1ms/step - loss: 0.3577 - acc: 0.8480 - val_loss: 0.5004 - val_acc: 0.7588\n",
            "\n",
            "Epoch 00007: val_acc improved from 0.75800 to 0.75880, saving model to /content/model_embedding_imdb.h5\n",
            "Epoch 8/10\n",
            "625/625 [==============================] - 1s 1ms/step - loss: 0.3398 - acc: 0.8552 - val_loss: 0.5056 - val_acc: 0.7512\n",
            "\n",
            "Epoch 00008: val_acc did not improve from 0.75880\n",
            "Epoch 9/10\n",
            "625/625 [==============================] - 1s 1ms/step - loss: 0.3214 - acc: 0.8663 - val_loss: 0.5121 - val_acc: 0.7480\n",
            "\n",
            "Epoch 00009: val_acc did not improve from 0.75880\n",
            "Epoch 10/10\n",
            "625/625 [==============================] - 1s 1ms/step - loss: 0.3114 - acc: 0.8727 - val_loss: 0.5220 - val_acc: 0.7490\n",
            "\n",
            "Epoch 00010: val_acc did not improve from 0.75880\n"
          ],
          "name": "stdout"
        }
      ]
    },
    {
      "cell_type": "markdown",
      "metadata": {
        "id": "f4AIfeaS8xcN"
      },
      "source": [
        "# **Curvas de precisión y pérdida**"
      ]
    },
    {
      "cell_type": "code",
      "metadata": {
        "colab": {
          "base_uri": "https://localhost:8080/",
          "height": 579
        },
        "id": "wESm2N-fRfaw",
        "outputId": "085a0b7c-65ba-47e7-fac7-ad03c909a386"
      },
      "source": [
        "import matplotlib.pyplot as plt\n",
        "\n",
        "acc = history.history['acc']\n",
        "val_acc = history.history['val_acc']\n",
        "max_val_acc = max(val_acc)\n",
        "max_val_acc_epoch= val_acc.index(max(val_acc)) + 1\n",
        "loss = history.history['loss']\n",
        "val_loss = history.history['val_loss']\n",
        "min_val_loss = min(val_loss)\n",
        "min_val_loss_epoch= val_loss.index(min(val_loss)) + 1\n",
        "\n",
        "epochs = range(len(acc))\n",
        "\n",
        "plt.plot(epochs, acc, 'go', label='Precisión en el entrenamiento')\n",
        "plt.plot(epochs, val_acc, 'r', label='Precisión en la validación')\n",
        "plt.plot(max_val_acc_epoch, max_val_acc, 'bo', label='Maximum accuracy')\n",
        "plt.title('Precisión durante el entrenamiento y la validación')\n",
        "plt.legend()\n",
        "print(\"Best accuracy epoch : % d, Value : % .1f\" %(max_val_acc_epoch, max_val_acc)) \n",
        "plt.figure()\n",
        "\n",
        "plt.plot(epochs, loss, 'go', label='Pérdida en el entrenamiento')\n",
        "plt.plot(epochs, val_loss, 'r', label='Pérdida en la validación')\n",
        "plt.plot(min_val_loss_epoch, min_val_loss, 'bo', label='Minimum loss')\n",
        "plt.title('Pérdida durante el entrenamiento y la validación')\n",
        "plt.legend()\n",
        "print(\"Best loss epoch : % d, Value : % .10f\" %(min_val_loss_epoch, min_val_loss))\n",
        "\n",
        "plt.show()"
      ],
      "execution_count": 12,
      "outputs": [
        {
          "output_type": "stream",
          "text": [
            "Best accuracy epoch :  7, Value :  0.8\n",
            "Best loss epoch :  4, Value :  0.4913334548\n"
          ],
          "name": "stdout"
        },
        {
          "output_type": "display_data",
          "data": {
            "image/png": "[encoded data removed]",
            "text/plain": [
              "<Figure size 432x288 with 1 Axes>"
            ]
          },
          "metadata": {
            "tags": [],
            "needs_background": "light"
          }
        },
        {
          "output_type": "display_data",
          "data": {
            "image/png": "[encoded data removed]",
            "text/plain": [
              "<Figure size 432x288 with 1 Axes>"
            ]
          },
          "metadata": {
            "tags": [],
            "needs_background": "light"
          }
        }
      ]
    },
    {
      "cell_type": "code",
      "metadata": {
        "id": "QMIBgs9Id0Td"
      },
      "source": [
        "!cp '/content/model_embedding_imdb.h5'  '/content/drive/My Drive/Natural_Language_Processing/Models/model_embedding_imdb.h5'"
      ],
      "execution_count": null,
      "outputs": []
    }
  ]
}