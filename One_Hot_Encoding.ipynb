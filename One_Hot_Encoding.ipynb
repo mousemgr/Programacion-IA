{
  "nbformat": 4,
  "nbformat_minor": 0,
  "metadata": {
    "colab": {
      "name": "One_Hot_Encoding.ipynb",
      "provenance": []
    },
    "kernelspec": {
      "name": "python3",
      "display_name": "Python 3"
    }
  },
  "cells": [
    {
      "cell_type": "code",
      "metadata": {
        "colab": {
          "base_uri": "https://localhost:8080/"
        },
        "id": "glMx5AwkfAt2",
        "outputId": "cbf3e9e1-734e-4267-b0bd-50f2e4ff508d"
      },
      "source": [
        "from tensorflow.keras.preprocessing.text import Tokenizer\r\n",
        "\r\n",
        "samples = ['El quetzal vuela por los aires.', 'El venado corre en el bosque.']\r\n",
        "\r\n",
        "# Creamos un tokenizador, configurado para considerar\r\n",
        "# las 1000 palabras más usuales\r\n",
        "tokenizer = Tokenizer(num_words=1000)\r\n",
        "\r\n",
        "# Construimos un índice de palabras\r\n",
        "tokenizer.fit_on_texts(samples)\r\n",
        "\r\n",
        "# Convertimos los strings en listas de enteros\r\n",
        "sequences = tokenizer.texts_to_sequences(samples)\r\n",
        "\r\n",
        "# Obtenemos la representación one-hot de la lista de enteros\r\n",
        "one_hot_results = tokenizer.texts_to_matrix(samples, mode='binary')\r\n",
        "\r\n",
        "# Mostramos las palabras y sus correspondientes índices\r\n",
        "word_index = tokenizer.word_index\r\n",
        "print('Se encontraron %s tokens únicos.' % len(word_index))"
      ],
      "execution_count": null,
      "outputs": [
        {
          "output_type": "stream",
          "text": [
            "Se encontraron 10 tokens únicos.\n"
          ],
          "name": "stdout"
        }
      ]
    },
    {
      "cell_type": "code",
      "metadata": {
        "id": "ATltNOIKgrCM",
        "colab": {
          "base_uri": "https://localhost:8080/"
        },
        "outputId": "429092c7-4aaf-4b83-8968-a7ca05f96d4c"
      },
      "source": [
        "word_index"
      ],
      "execution_count": null,
      "outputs": [
        {
          "output_type": "execute_result",
          "data": {
            "text/plain": [
              "{'aires': 6,\n",
              " 'bosque': 10,\n",
              " 'corre': 8,\n",
              " 'el': 1,\n",
              " 'en': 9,\n",
              " 'los': 5,\n",
              " 'por': 4,\n",
              " 'quetzal': 2,\n",
              " 'venado': 7,\n",
              " 'vuela': 3}"
            ]
          },
          "metadata": {
            "tags": []
          },
          "execution_count": 2
        }
      ]
    }
  ]
}