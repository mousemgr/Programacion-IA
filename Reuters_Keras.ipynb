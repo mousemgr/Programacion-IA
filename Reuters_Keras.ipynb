{
  "nbformat": 4,
  "nbformat_minor": 0,
  "metadata": {
    "colab": {
      "name": "Reuters_Keras.ipynb",
      "provenance": [],
      "collapsed_sections": []
    },
    "kernelspec": {
      "name": "python3",
      "display_name": "Python 3"
    }
  },
  "cells": [
    {
      "cell_type": "markdown",
      "metadata": {
        "id": "rRMnesuLHRY7"
      },
      "source": [
        "# **Reuters dataset**"
      ]
    },
    {
      "cell_type": "markdown",
      "metadata": {
        "id": "INNNlP2_HmQC"
      },
      "source": [
        "La base de datos Reuters, se compone de 11,228 cables de noticias, los cuales pueden pertenecer a uno de 46 temas. Esta base de datos viene precargada en Keras:"
      ]
    },
    {
      "cell_type": "code",
      "metadata": {
        "id": "EbiSS656HOZU",
        "colab": {
          "base_uri": "https://localhost:8080/"
        },
        "outputId": "8e4e86dc-5bbb-462e-c04c-00e65790e111"
      },
      "source": [
        "from tensorflow.keras.datasets import reuters\n",
        "\n",
        "(train_data, train_labels), (test_data, test_labels) = reuters.load_data(num_words=10000)"
      ],
      "execution_count": 1,
      "outputs": [
        {
          "output_type": "stream",
          "text": [
            "Downloading data from https://storage.googleapis.com/tensorflow/tf-keras-datasets/reuters.npz\n",
            "2113536/2110848 [==============================] - 0s 0us/step\n"
          ],
          "name": "stdout"
        }
      ]
    },
    {
      "cell_type": "markdown",
      "metadata": {
        "id": "3miz7Ef-JDcq"
      },
      "source": [
        "El argumento num_words=10000 indica que sólo se tomarán en cuenta las 10,000 palabras más frecuentes de la base de datos, esto con la finalidad de reducir el tamaño de los vectores de entrada."
      ]
    },
    {
      "cell_type": "code",
      "metadata": {
        "id": "Zx1velFJy7WD",
        "colab": {
          "base_uri": "https://localhost:8080/"
        },
        "outputId": "6f3d2894-be10-447d-829e-ea9e3971eac8"
      },
      "source": [
        "train_data[100] #Noticia 101 del conjunto de entrenamiento"
      ],
      "execution_count": 2,
      "outputs": [
        {
          "output_type": "execute_result",
          "data": {
            "text/plain": [
              "[1,\n",
              " 367,\n",
              " 1394,\n",
              " 169,\n",
              " 65,\n",
              " 87,\n",
              " 209,\n",
              " 30,\n",
              " 306,\n",
              " 228,\n",
              " 10,\n",
              " 803,\n",
              " 305,\n",
              " 96,\n",
              " 5,\n",
              " 196,\n",
              " 15,\n",
              " 10,\n",
              " 523,\n",
              " 2,\n",
              " 3006,\n",
              " 293,\n",
              " 484,\n",
              " 2,\n",
              " 1440,\n",
              " 5825,\n",
              " 8,\n",
              " 145,\n",
              " 7,\n",
              " 10,\n",
              " 1670,\n",
              " 6,\n",
              " 10,\n",
              " 294,\n",
              " 517,\n",
              " 237,\n",
              " 2,\n",
              " 367,\n",
              " 8042,\n",
              " 7,\n",
              " 2477,\n",
              " 1177,\n",
              " 483,\n",
              " 1440,\n",
              " 5825,\n",
              " 8,\n",
              " 367,\n",
              " 1394,\n",
              " 4,\n",
              " 169,\n",
              " 387,\n",
              " 66,\n",
              " 209,\n",
              " 30,\n",
              " 2344,\n",
              " 652,\n",
              " 1496,\n",
              " 9,\n",
              " 209,\n",
              " 30,\n",
              " 2564,\n",
              " 228,\n",
              " 10,\n",
              " 803,\n",
              " 305,\n",
              " 96,\n",
              " 5,\n",
              " 196,\n",
              " 15,\n",
              " 51,\n",
              " 36,\n",
              " 1457,\n",
              " 24,\n",
              " 1345,\n",
              " 5,\n",
              " 4,\n",
              " 196,\n",
              " 150,\n",
              " 10,\n",
              " 523,\n",
              " 320,\n",
              " 64,\n",
              " 992,\n",
              " 6373,\n",
              " 13,\n",
              " 367,\n",
              " 190,\n",
              " 297,\n",
              " 64,\n",
              " 85,\n",
              " 1692,\n",
              " 6,\n",
              " 8656,\n",
              " 122,\n",
              " 9,\n",
              " 36,\n",
              " 1457,\n",
              " 24,\n",
              " 269,\n",
              " 4753,\n",
              " 27,\n",
              " 367,\n",
              " 212,\n",
              " 114,\n",
              " 45,\n",
              " 30,\n",
              " 3292,\n",
              " 7,\n",
              " 126,\n",
              " 2203,\n",
              " 13,\n",
              " 367,\n",
              " 6,\n",
              " 1818,\n",
              " 4,\n",
              " 169,\n",
              " 65,\n",
              " 96,\n",
              " 28,\n",
              " 432,\n",
              " 23,\n",
              " 189,\n",
              " 1254,\n",
              " 4,\n",
              " 9725,\n",
              " 320,\n",
              " 5,\n",
              " 196,\n",
              " 15,\n",
              " 10,\n",
              " 523,\n",
              " 25,\n",
              " 730,\n",
              " 190,\n",
              " 57,\n",
              " 64,\n",
              " 6,\n",
              " 9953,\n",
              " 2016,\n",
              " 6373,\n",
              " 7,\n",
              " 2,\n",
              " 122,\n",
              " 1440,\n",
              " 5825,\n",
              " 8,\n",
              " 269,\n",
              " 4753,\n",
              " 1217,\n",
              " 7,\n",
              " 608,\n",
              " 2203,\n",
              " 30,\n",
              " 3292,\n",
              " 1440,\n",
              " 5825,\n",
              " 8,\n",
              " 43,\n",
              " 339,\n",
              " 43,\n",
              " 231,\n",
              " 9,\n",
              " 667,\n",
              " 1820,\n",
              " 126,\n",
              " 212,\n",
              " 4197,\n",
              " 21,\n",
              " 1709,\n",
              " 249,\n",
              " 311,\n",
              " 13,\n",
              " 260,\n",
              " 489,\n",
              " 9,\n",
              " 65,\n",
              " 4753,\n",
              " 64,\n",
              " 1209,\n",
              " 4397,\n",
              " 249,\n",
              " 954,\n",
              " 36,\n",
              " 152,\n",
              " 1440,\n",
              " 5825,\n",
              " 506,\n",
              " 24,\n",
              " 135,\n",
              " 367,\n",
              " 311,\n",
              " 34,\n",
              " 420,\n",
              " 4,\n",
              " 8407,\n",
              " 200,\n",
              " 1519,\n",
              " 13,\n",
              " 137,\n",
              " 730,\n",
              " 190,\n",
              " 7,\n",
              " 104,\n",
              " 570,\n",
              " 52,\n",
              " 64,\n",
              " 2492,\n",
              " 7725,\n",
              " 4,\n",
              " 642,\n",
              " 5,\n",
              " 405,\n",
              " 7725,\n",
              " 2492,\n",
              " 24,\n",
              " 76,\n",
              " 847,\n",
              " 1435,\n",
              " 4446,\n",
              " 6,\n",
              " 10,\n",
              " 548,\n",
              " 320,\n",
              " 34,\n",
              " 325,\n",
              " 136,\n",
              " 694,\n",
              " 1440,\n",
              " 5825,\n",
              " 8,\n",
              " 10,\n",
              " 5184,\n",
              " 847,\n",
              " 7,\n",
              " 4,\n",
              " 169,\n",
              " 76,\n",
              " 2378,\n",
              " 10,\n",
              " 4933,\n",
              " 3447,\n",
              " 5,\n",
              " 141,\n",
              " 1082,\n",
              " 36,\n",
              " 152,\n",
              " 36,\n",
              " 8,\n",
              " 126,\n",
              " 358,\n",
              " 367,\n",
              " 65,\n",
              " 814,\n",
              " 190,\n",
              " 64,\n",
              " 2575,\n",
              " 10,\n",
              " 969,\n",
              " 3161,\n",
              " 92,\n",
              " 48,\n",
              " 6,\n",
              " 2245,\n",
              " 31,\n",
              " 367,\n",
              " 51,\n",
              " 570,\n",
              " 4753,\n",
              " 292,\n",
              " 27,\n",
              " 405,\n",
              " 212,\n",
              " 62,\n",
              " 3740,\n",
              " 922,\n",
              " 9,\n",
              " 2464,\n",
              " 27,\n",
              " 367,\n",
              " 77,\n",
              " 62,\n",
              " 4397,\n",
              " 7,\n",
              " 316,\n",
              " 5,\n",
              " 874,\n",
              " 36,\n",
              " 152,\n",
              " 4,\n",
              " 936,\n",
              " 1243,\n",
              " 5,\n",
              " 358,\n",
              " 367,\n",
              " 398,\n",
              " 57,\n",
              " 45,\n",
              " 3680,\n",
              " 7367,\n",
              " 6,\n",
              " 2394,\n",
              " 1343,\n",
              " 13,\n",
              " 373,\n",
              " 4504,\n",
              " 36,\n",
              " 8,\n",
              " 1440,\n",
              " 5825,\n",
              " 8,\n",
              " 42,\n",
              " 196,\n",
              " 150,\n",
              " 10,\n",
              " 523,\n",
              " 96,\n",
              " 34,\n",
              " 9725,\n",
              " 43,\n",
              " 16,\n",
              " 1261,\n",
              " 205,\n",
              " 7,\n",
              " 4,\n",
              " 65,\n",
              " 182,\n",
              " 1351,\n",
              " 367,\n",
              " 6,\n",
              " 351,\n",
              " 184,\n",
              " 45,\n",
              " 6081,\n",
              " 2286,\n",
              " 197,\n",
              " 1245,\n",
              " 13,\n",
              " 3187,\n",
              " 2,\n",
              " 274,\n",
              " 419,\n",
              " 714,\n",
              " 1351,\n",
              " 367,\n",
              " 269,\n",
              " 10,\n",
              " 96,\n",
              " 41,\n",
              " 129,\n",
              " 1104,\n",
              " 1673,\n",
              " 1419,\n",
              " 578,\n",
              " 36,\n",
              " 152,\n",
              " 2,\n",
              " 1440,\n",
              " 7615,\n",
              " 367,\n",
              " 1683,\n",
              " 484,\n",
              " 293,\n",
              " 75,\n",
              " 6557,\n",
              " 4,\n",
              " 8042,\n",
              " 152,\n",
              " 24,\n",
              " 5222,\n",
              " 34,\n",
              " 325,\n",
              " 834,\n",
              " 6,\n",
              " 1356,\n",
              " 2,\n",
              " 2406,\n",
              " 7,\n",
              " 4,\n",
              " 65,\n",
              " 76,\n",
              " 1082,\n",
              " 164,\n",
              " 1574,\n",
              " 212,\n",
              " 9,\n",
              " 861,\n",
              " 34,\n",
              " 8340,\n",
              " 13,\n",
              " 286,\n",
              " 1930,\n",
              " 1440,\n",
              " 7615,\n",
              " 8,\n",
              " 787,\n",
              " 36,\n",
              " 1830,\n",
              " 1082,\n",
              " 41,\n",
              " 3751,\n",
              " 616,\n",
              " 6,\n",
              " 382,\n",
              " 2,\n",
              " 2,\n",
              " 1574,\n",
              " 6928,\n",
              " 17,\n",
              " 12]"
            ]
          },
          "metadata": {
            "tags": []
          },
          "execution_count": 2
        }
      ]
    },
    {
      "cell_type": "code",
      "metadata": {
        "id": "fd_uYAdHIKQa",
        "colab": {
          "base_uri": "https://localhost:8080/",
          "height": 34
        },
        "outputId": "40aba529-dc73-4d48-baa8-89da159ea4dc"
      },
      "source": [
        "len(train_data[100]) #Número de palabras en la crítica 101 del conjunto de entrenamiento"
      ],
      "execution_count": null,
      "outputs": [
        {
          "output_type": "execute_result",
          "data": {
            "text/plain": [
              "409"
            ]
          },
          "metadata": {
            "tags": []
          },
          "execution_count": 2
        }
      ]
    },
    {
      "cell_type": "code",
      "metadata": {
        "id": "yGbcjBhiILML",
        "colab": {
          "base_uri": "https://localhost:8080/",
          "height": 34
        },
        "outputId": "d67c2e19-9469-425e-d707-5db1107ef24e"
      },
      "source": [
        "train_labels[100] #La crítica 101 del conjunto de entrenamiento pertenece al tema 21."
      ],
      "execution_count": null,
      "outputs": [
        {
          "output_type": "execute_result",
          "data": {
            "text/plain": [
              "20"
            ]
          },
          "metadata": {
            "tags": []
          },
          "execution_count": 3
        }
      ]
    },
    {
      "cell_type": "markdown",
      "metadata": {
        "id": "SK1moFKVI2wZ"
      },
      "source": [
        "Cada una de las instancias de la base de datos Reuters puede decodificarse fácilmente:"
      ]
    },
    {
      "cell_type": "code",
      "metadata": {
        "id": "Qlj8kPJJJX1x",
        "colab": {
          "base_uri": "https://localhost:8080/",
          "height": 51
        },
        "outputId": "3107e70b-b74a-43b6-d6a6-9d1cdf0d7c1b"
      },
      "source": [
        "#word_index es un diccionario que permite mapear cada palabra a su respectivo índice\n",
        "word_index = reuters.get_word_index()\n",
        "# Aplicamos la operación inversa, es decir, mapeamos de índices a palabras.\n",
        "reverse_word_index = dict([(value, key) for (key, value) in word_index.items()])\n",
        "# Procedemos a decodificar la crítica. La razón por la que a cada índice le restamos 3, es\n",
        "#porque 0, 1 y 2 son índices reservados para los valores de \"padding\", \"comienzo de la secuencia\" y \"desconocido\".\n",
        "# El argumento \"?\" se regresa en caso de que el índice en cuestión no tenga ninguna palabra asociada.\n",
        "decoded_newswire = ' '.join([reverse_word_index.get(i - 3, '?') for i in train_data[0]])"
      ],
      "execution_count": null,
      "outputs": [
        {
          "output_type": "stream",
          "text": [
            "Downloading data from https://s3.amazonaws.com/text-datasets/reuters_word_index.json\n",
            "557056/550378 [==============================] - 0s 0us/step\n"
          ],
          "name": "stdout"
        }
      ]
    },
    {
      "cell_type": "code",
      "metadata": {
        "id": "s2UWUztpJkoo",
        "colab": {
          "base_uri": "https://localhost:8080/",
          "height": 69
        },
        "outputId": "502178c9-0ab0-4dbb-8fe2-9ed4b87eaf1a"
      },
      "source": [
        "decoded_newswire"
      ],
      "execution_count": null,
      "outputs": [
        {
          "output_type": "execute_result",
          "data": {
            "application/vnd.google.colaboratory.intrinsic+json": {
              "type": "string"
            },
            "text/plain": [
              "'? ? ? said as a result of its december acquisition of space co it expects earnings per share in 1987 of 1 15 to 1 30 dlrs per share up from 70 cts in 1986 the company said pretax net should rise to nine to 10 mln dlrs from six mln dlrs in 1986 and rental operation revenues to 19 to 22 mln dlrs from 12 5 mln dlrs it said cash flow per share this year should be 2 50 to three dlrs reuter 3'"
            ]
          },
          "metadata": {
            "tags": []
          },
          "execution_count": 5
        }
      ]
    },
    {
      "cell_type": "markdown",
      "metadata": {
        "id": "LQHqoLy5KBWq"
      },
      "source": [
        "# **Preprocesamiento de los datos**"
      ]
    },
    {
      "cell_type": "markdown",
      "metadata": {
        "id": "K7QkSNNOKEmC"
      },
      "source": [
        "Aplicamos el enfoque de one-hot encoding a los datos de entrada. Por ejemplo, si una de nuestras instancias se representa por la lista [2, 7, 15], al aplicar one-hot encoding, dicha lista se convertirá en un vector de 10,000 elementos, donde a los índices 2, 7 y 15, se les asignará el valor de 1. La razón por la que se aplica esta operación en los datos de entrada, es porque las redes neuronales convolucionales no reciben como entrada listas de valores, sino tensores."
      ]
    },
    {
      "cell_type": "code",
      "metadata": {
        "id": "KJ4CfYWjKD2J"
      },
      "source": [
        "import numpy as np\n",
        "\n",
        "def vectorize_sequences(sequences, dimension=10000):\n",
        "    # Creamos matrices de ceros con dimensiones (len(sequences), dimension)\n",
        "    results = np.zeros((len(sequences), dimension))\n",
        "    for i, sequence in enumerate(sequences):\n",
        "        results[i, sequence] = 1.  # le asignamos el valor de uno al índice correspondiente\n",
        "    return results\n",
        "\n",
        "# Conjunto de entrenamiento vectorizado\n",
        "x_train = vectorize_sequences(train_data)\n",
        "# Conjunto de prueba vectorizado\n",
        "x_test = vectorize_sequences(test_data)"
      ],
      "execution_count": null,
      "outputs": []
    },
    {
      "cell_type": "markdown",
      "metadata": {
        "id": "n5TJRFvSKbAB"
      },
      "source": [
        "Asimismo, aplicamos one-hot encoding a las etiquetas de los conjuntos de entrenamiento y prueba. Esto genera que cada etiqueta se convierta en un vector de 0's de 46 dimensiones, con un 1 asignado al índice asociado a la etiqueta."
      ]
    },
    {
      "cell_type": "code",
      "metadata": {
        "id": "4OYz_20wLHVg"
      },
      "source": [
        "def to_one_hot(labels, dimension=46):\n",
        "    results = np.zeros((len(labels), dimension))\n",
        "    for i, label in enumerate(labels):\n",
        "        results[i, label] = 1.\n",
        "    return results\n",
        "\n",
        "# Etiquetas de entrenamiento vectorizadas\n",
        "one_hot_train_labels = to_one_hot(train_labels)\n",
        "# Etiquetas de prueba vectorizadas\n",
        "one_hot_test_labels = to_one_hot(test_labels)"
      ],
      "execution_count": null,
      "outputs": []
    },
    {
      "cell_type": "code",
      "metadata": {
        "id": "q1ghEMgelNj2",
        "colab": {
          "base_uri": "https://localhost:8080/",
          "height": 68
        },
        "outputId": "20726a3d-18a3-41a2-abfb-296fdc691a87"
      },
      "source": [
        "one_hot_train_labels[34]"
      ],
      "execution_count": null,
      "outputs": [
        {
          "output_type": "execute_result",
          "data": {
            "text/plain": [
              "array([0., 1., 0., 0., 0., 0., 0., 0., 0., 0., 0., 0., 0., 0., 0., 0., 0.,\n",
              "       0., 0., 0., 0., 0., 0., 0., 0., 0., 0., 0., 0., 0., 0., 0., 0., 0.,\n",
              "       0., 0., 0., 0., 0., 0., 0., 0., 0., 0., 0., 0.])"
            ]
          },
          "metadata": {
            "tags": []
          },
          "execution_count": 8
        }
      ]
    },
    {
      "cell_type": "markdown",
      "metadata": {
        "id": "oKX571-wLQTJ"
      },
      "source": [
        "Keras posee una función que permite realizar one-hot encoding de forma automática:"
      ]
    },
    {
      "cell_type": "code",
      "metadata": {
        "id": "KWCp2th1LYfa"
      },
      "source": [
        "from keras.utils import to_categorical\n",
        "\n",
        "one_hot_train_labels = to_categorical(train_labels)\n",
        "one_hot_test_labels = to_categorical(test_labels)"
      ],
      "execution_count": null,
      "outputs": []
    },
    {
      "cell_type": "markdown",
      "metadata": {
        "id": "56SGiguVLtV5"
      },
      "source": [
        "# **Construcción de la red neuronal**"
      ]
    },
    {
      "cell_type": "code",
      "metadata": {
        "id": "MtE2najsLvdC"
      },
      "source": [
        "from keras import models\n",
        "from keras import layers\n",
        "\n",
        "model = models.Sequential()\n",
        "model.add(layers.Dense(64, activation='relu', input_shape=(10000,)))\n",
        "model.add(layers.Dense(64, activation='relu'))\n",
        "model.add(layers.Dense(46, activation='softmax'))"
      ],
      "execution_count": null,
      "outputs": []
    },
    {
      "cell_type": "markdown",
      "metadata": {
        "id": "xY04xdUYAFeE"
      },
      "source": [
        "# **Compilación**"
      ]
    },
    {
      "cell_type": "code",
      "metadata": {
        "id": "8_T3TRHTAEIV"
      },
      "source": [
        "model.compile(optimizer='rmsprop',# lr=1e-4\n",
        "              loss='categorical_crossentropy',\n",
        "              metrics=['accuracy'])"
      ],
      "execution_count": null,
      "outputs": []
    },
    {
      "cell_type": "markdown",
      "metadata": {
        "id": "k35EAUeHAtc_"
      },
      "source": [
        "# **Validación**"
      ]
    },
    {
      "cell_type": "markdown",
      "metadata": {
        "id": "9NBURPE3Axt2"
      },
      "source": [
        "Buscando evaluar el rendimiento del modelo durante la fase de entrenamiento, construimos el conjunto de validación a partir del conjunto de entrenamiento."
      ]
    },
    {
      "cell_type": "code",
      "metadata": {
        "id": "hEWPTE0eAwIF"
      },
      "source": [
        "x_val = x_train[:1000]\n",
        "partial_x_train = x_train[1000:]\n",
        "\n",
        "y_val = one_hot_train_labels[:1000]\n",
        "partial_y_train = one_hot_train_labels[1000:]"
      ],
      "execution_count": null,
      "outputs": []
    },
    {
      "cell_type": "code",
      "metadata": {
        "id": "oNnKPIV6nuv8",
        "colab": {
          "base_uri": "https://localhost:8080/",
          "height": 34
        },
        "outputId": "745a500f-c137-4444-8cf5-b2c03666c2f3"
      },
      "source": [
        "#Conjunto de validación\n",
        "len(x_val)"
      ],
      "execution_count": null,
      "outputs": [
        {
          "output_type": "execute_result",
          "data": {
            "text/plain": [
              "1000"
            ]
          },
          "metadata": {
            "tags": []
          },
          "execution_count": 13
        }
      ]
    },
    {
      "cell_type": "code",
      "metadata": {
        "id": "ewIa26Oun-eL",
        "colab": {
          "base_uri": "https://localhost:8080/",
          "height": 34
        },
        "outputId": "d6389e1f-5cc1-4842-ef3f-3349d8a02235"
      },
      "source": [
        "#Conjunto de validación\n",
        "len(partial_x_train)"
      ],
      "execution_count": null,
      "outputs": [
        {
          "output_type": "execute_result",
          "data": {
            "text/plain": [
              "7982"
            ]
          },
          "metadata": {
            "tags": []
          },
          "execution_count": 14
        }
      ]
    },
    {
      "cell_type": "markdown",
      "metadata": {
        "id": "ZqDUTm1dMWdR"
      },
      "source": [
        "# **Entrenamiento**"
      ]
    },
    {
      "cell_type": "code",
      "metadata": {
        "id": "U0wSR95qMX7K",
        "colab": {
          "base_uri": "https://localhost:8080/",
          "height": 714
        },
        "outputId": "03bb2fb0-43d1-4af6-9801-85b47669f085"
      },
      "source": [
        "history = model.fit(partial_x_train,\n",
        "                    partial_y_train,\n",
        "                    epochs=20,\n",
        "                    batch_size=512,\n",
        "                    validation_data=(x_val, y_val))"
      ],
      "execution_count": null,
      "outputs": [
        {
          "output_type": "stream",
          "text": [
            "Train on 7982 samples, validate on 1000 samples\n",
            "Epoch 1/20\n",
            "7982/7982 [==============================] - 1s 167us/step - loss: 2.7137 - accuracy: 0.5128 - val_loss: 1.7956 - val_accuracy: 0.6240\n",
            "Epoch 2/20\n",
            "7982/7982 [==============================] - 1s 124us/step - loss: 1.4592 - accuracy: 0.7005 - val_loss: 1.3236 - val_accuracy: 0.7100\n",
            "Epoch 3/20\n",
            "7982/7982 [==============================] - 1s 126us/step - loss: 1.0696 - accuracy: 0.7642 - val_loss: 1.1220 - val_accuracy: 0.7560\n",
            "Epoch 4/20\n",
            "7982/7982 [==============================] - 1s 123us/step - loss: 0.8331 - accuracy: 0.8256 - val_loss: 1.0241 - val_accuracy: 0.7810\n",
            "Epoch 5/20\n",
            "7982/7982 [==============================] - 1s 128us/step - loss: 0.6596 - accuracy: 0.8632 - val_loss: 0.9514 - val_accuracy: 0.8050\n",
            "Epoch 6/20\n",
            "7982/7982 [==============================] - 1s 129us/step - loss: 0.5216 - accuracy: 0.8951 - val_loss: 0.9465 - val_accuracy: 0.7880\n",
            "Epoch 7/20\n",
            "7982/7982 [==============================] - 1s 130us/step - loss: 0.4180 - accuracy: 0.9137 - val_loss: 0.8911 - val_accuracy: 0.8180\n",
            "Epoch 8/20\n",
            "7982/7982 [==============================] - 1s 127us/step - loss: 0.3400 - accuracy: 0.9287 - val_loss: 0.9122 - val_accuracy: 0.8130\n",
            "Epoch 9/20\n",
            "7982/7982 [==============================] - 1s 128us/step - loss: 0.2819 - accuracy: 0.9397 - val_loss: 0.8870 - val_accuracy: 0.8200\n",
            "Epoch 10/20\n",
            "7982/7982 [==============================] - 1s 132us/step - loss: 0.2378 - accuracy: 0.9448 - val_loss: 0.9355 - val_accuracy: 0.8110\n",
            "Epoch 11/20\n",
            "7982/7982 [==============================] - 1s 129us/step - loss: 0.2064 - accuracy: 0.9496 - val_loss: 0.9552 - val_accuracy: 0.8030\n",
            "Epoch 12/20\n",
            "7982/7982 [==============================] - 1s 132us/step - loss: 0.1829 - accuracy: 0.9525 - val_loss: 0.9292 - val_accuracy: 0.8260\n",
            "Epoch 13/20\n",
            "7982/7982 [==============================] - 1s 137us/step - loss: 0.1591 - accuracy: 0.9558 - val_loss: 0.9570 - val_accuracy: 0.8110\n",
            "Epoch 14/20\n",
            "7982/7982 [==============================] - 1s 138us/step - loss: 0.1489 - accuracy: 0.9550 - val_loss: 0.9977 - val_accuracy: 0.8120\n",
            "Epoch 15/20\n",
            "7982/7982 [==============================] - 1s 137us/step - loss: 0.1429 - accuracy: 0.9546 - val_loss: 1.0234 - val_accuracy: 0.8030\n",
            "Epoch 16/20\n",
            "7982/7982 [==============================] - 1s 134us/step - loss: 0.1309 - accuracy: 0.9554 - val_loss: 1.0435 - val_accuracy: 0.8030\n",
            "Epoch 17/20\n",
            "7982/7982 [==============================] - 1s 134us/step - loss: 0.1268 - accuracy: 0.9558 - val_loss: 1.0148 - val_accuracy: 0.8130\n",
            "Epoch 18/20\n",
            "7982/7982 [==============================] - 1s 133us/step - loss: 0.1205 - accuracy: 0.9563 - val_loss: 1.0172 - val_accuracy: 0.8060\n",
            "Epoch 19/20\n",
            "7982/7982 [==============================] - 1s 128us/step - loss: 0.1134 - accuracy: 0.9577 - val_loss: 1.0821 - val_accuracy: 0.8010\n",
            "Epoch 20/20\n",
            "7982/7982 [==============================] - 1s 130us/step - loss: 0.1123 - accuracy: 0.9567 - val_loss: 1.0921 - val_accuracy: 0.8100\n"
          ],
          "name": "stdout"
        }
      ]
    },
    {
      "cell_type": "markdown",
      "metadata": {
        "id": "oeCNHrZgMbYR"
      },
      "source": [
        "# **Curva de pérdida**"
      ]
    },
    {
      "cell_type": "code",
      "metadata": {
        "id": "uBtIoB3WMdjT",
        "colab": {
          "base_uri": "https://localhost:8080/",
          "height": 295
        },
        "outputId": "3a9f705c-4f7d-4918-9fd0-e503554d6b7a"
      },
      "source": [
        "import matplotlib.pyplot as plt\n",
        "\n",
        "loss = history.history['loss']\n",
        "val_loss = history.history['val_loss']\n",
        "\n",
        "epochs = range(1, len(loss) + 1)\n",
        "\n",
        "plt.plot(epochs, loss, 'ro', label='Training loss')\n",
        "plt.plot(epochs, val_loss, 'g', label='Validation loss')\n",
        "plt.title('Training and validation loss')\n",
        "plt.xlabel('Epochs')\n",
        "plt.ylabel('Loss')\n",
        "plt.legend()\n",
        "\n",
        "plt.show()"
      ],
      "execution_count": null,
      "outputs": [
        {
          "output_type": "display_data",
          "data": {
            "image/png": "[encoded data removed]",
            "text/plain": [
              "<Figure size 432x288 with 1 Axes>"
            ]
          },
          "metadata": {
            "tags": [],
            "needs_background": "light"
          }
        }
      ]
    },
    {
      "cell_type": "markdown",
      "metadata": {
        "id": "9LMzNwytMeTq"
      },
      "source": [
        "# **Curva de precisión**"
      ]
    },
    {
      "cell_type": "code",
      "metadata": {
        "id": "qE5UKlqgMjvE",
        "colab": {
          "base_uri": "https://localhost:8080/",
          "height": 295
        },
        "outputId": "a567c2f8-1064-40aa-e166-7f3fdc0d6972"
      },
      "source": [
        "plt.clf()   # clear figure\n",
        "\n",
        "acc = history.history['accuracy']\n",
        "val_acc = history.history['val_accuracy']\n",
        "\n",
        "plt.plot(epochs, acc, 'ro', label='Training accuracy')\n",
        "plt.plot(epochs, val_acc, 'g', label='Validation accuracy')\n",
        "plt.title('Training and validation accuracy')\n",
        "plt.xlabel('Epochs')\n",
        "plt.ylabel('Accuracy')\n",
        "plt.legend()\n",
        "\n",
        "plt.show()"
      ],
      "execution_count": null,
      "outputs": [
        {
          "output_type": "display_data",
          "data": {
            "image/png": "[encoded data removed]",
            "text/plain": [
              "<Figure size 432x288 with 1 Axes>"
            ]
          },
          "metadata": {
            "tags": [],
            "needs_background": "light"
          }
        }
      ]
    },
    {
      "cell_type": "markdown",
      "metadata": {
        "id": "v73e3DFtRYOZ"
      },
      "source": [
        "Con base a las gráficas previas, podemos observar que, aproximadamente a partir de la época 10, el modelo deja de mejorar y comienza a presentarse una disminución en su rendimiento."
      ]
    },
    {
      "cell_type": "markdown",
      "metadata": {
        "id": "9RPxfbOoM4J6"
      },
      "source": [
        "# **Re-entrenamiento y evaluación del modelo final**"
      ]
    },
    {
      "cell_type": "markdown",
      "metadata": {
        "id": "49Rc9awt0gPY"
      },
      "source": [
        "Una vez que se seleccionó el modelo tomando como base el rendimiento de este en el conjunto de validación, una práctica recomendada es volver a entrar la arquitectura con los mismos parámetros con los que se generó el modelo seleccionado y con el conjunto de entrenamiento original, es decir, integrado el conjunto de validación al conjunto de entrenamiento \"parcial\". "
      ]
    },
    {
      "cell_type": "code",
      "metadata": {
        "id": "FJEwfM0mM2Ia",
        "colab": {
          "base_uri": "https://localhost:8080/",
          "height": 442
        },
        "outputId": "98bf2922-343e-49b7-8809-bdf640de0ff0"
      },
      "source": [
        "model = models.Sequential()\n",
        "model.add(layers.Dense(64, activation='relu', input_shape=(10000,)))\n",
        "model.add(layers.Dense(64, activation='relu'))\n",
        "model.add(layers.Dense(46, activation='softmax'))\n",
        "\n",
        "model.compile(optimizer='rmsprop',\n",
        "              loss='categorical_crossentropy',\n",
        "              metrics=['accuracy'])\n",
        "# Entrenamos el modelo en el conjunto de entrenamiento original\n",
        "model.fit(x_train, one_hot_train_labels, epochs=12, batch_size=512)\n",
        "#Evaluamos el modelo final\n",
        "results = model.evaluate(x_test, one_hot_test_labels)"
      ],
      "execution_count": null,
      "outputs": [
        {
          "output_type": "stream",
          "text": [
            "Epoch 1/12\n",
            "8982/8982 [==============================] - 1s 124us/step - loss: 2.6249 - accuracy: 0.5242\n",
            "Epoch 2/12\n",
            "8982/8982 [==============================] - 1s 118us/step - loss: 1.3916 - accuracy: 0.7091\n",
            "Epoch 3/12\n",
            "8982/8982 [==============================] - 1s 119us/step - loss: 1.0216 - accuracy: 0.7793\n",
            "Epoch 4/12\n",
            "8982/8982 [==============================] - 1s 118us/step - loss: 0.7994 - accuracy: 0.8343\n",
            "Epoch 5/12\n",
            "8982/8982 [==============================] - 1s 121us/step - loss: 0.6316 - accuracy: 0.8731\n",
            "Epoch 6/12\n",
            "8982/8982 [==============================] - 1s 118us/step - loss: 0.5042 - accuracy: 0.8980\n",
            "Epoch 7/12\n",
            "8982/8982 [==============================] - 1s 117us/step - loss: 0.4083 - accuracy: 0.9169\n",
            "Epoch 8/12\n",
            "8982/8982 [==============================] - 1s 120us/step - loss: 0.3350 - accuracy: 0.9275\n",
            "Epoch 9/12\n",
            "8982/8982 [==============================] - 1s 118us/step - loss: 0.2811 - accuracy: 0.9369\n",
            "Epoch 10/12\n",
            "8982/8982 [==============================] - 1s 117us/step - loss: 0.2376 - accuracy: 0.9433\n",
            "Epoch 11/12\n",
            "8982/8982 [==============================] - 1s 119us/step - loss: 0.2072 - accuracy: 0.9473\n",
            "Epoch 12/12\n",
            "8982/8982 [==============================] - 1s 119us/step - loss: 0.1828 - accuracy: 0.9511\n",
            "2246/2246 [==============================] - 0s 114us/step\n"
          ],
          "name": "stdout"
        }
      ]
    },
    {
      "cell_type": "code",
      "metadata": {
        "id": "NsDw2z32NKRD",
        "colab": {
          "base_uri": "https://localhost:8080/",
          "height": 34
        },
        "outputId": "2d840352-6e90-4330-876f-c97072d174f9"
      },
      "source": [
        "results"
      ],
      "execution_count": null,
      "outputs": [
        {
          "output_type": "execute_result",
          "data": {
            "text/plain": [
              "[1.075651934182973, 0.7880676984786987]"
            ]
          },
          "metadata": {
            "tags": []
          },
          "execution_count": 20
        }
      ]
    },
    {
      "cell_type": "markdown",
      "metadata": {
        "id": "4v58mbPDEqC1"
      },
      "source": [
        "# **Predicciones del modelo final**"
      ]
    },
    {
      "cell_type": "markdown",
      "metadata": {
        "id": "Vyah_Qp1EvVV"
      },
      "source": [
        "Luego de generar un modelo apropiado para clasificar cables de noticias, podemos usarlo para predecir la probabilidad de que cada nueva noticia que sea leída por el modelo, se clasifique como uno de los 46 tipos. Este proceso predictivo es muy importante, ya que así es como se desplegaría esta red neuronal en \"la vida real\", es decir, en algún servicio de consumo."
      ]
    },
    {
      "cell_type": "code",
      "metadata": {
        "id": "nICUkinyOSjh"
      },
      "source": [
        "predictions = model.predict(x_test)"
      ],
      "execution_count": null,
      "outputs": []
    },
    {
      "cell_type": "markdown",
      "metadata": {
        "id": "O9an3r32Od1B"
      },
      "source": [
        "Cada fila del tensor predictions, es un vector de 46 elementos."
      ]
    },
    {
      "cell_type": "code",
      "metadata": {
        "id": "fgGMpGT2OVrB",
        "colab": {
          "base_uri": "https://localhost:8080/",
          "height": 34
        },
        "outputId": "e547ea3a-4335-481c-b38e-f3852476bcc3"
      },
      "source": [
        "predictions[56].shape"
      ],
      "execution_count": null,
      "outputs": [
        {
          "output_type": "execute_result",
          "data": {
            "text/plain": [
              "(46,)"
            ]
          },
          "metadata": {
            "tags": []
          },
          "execution_count": 22
        }
      ]
    },
    {
      "cell_type": "markdown",
      "metadata": {
        "id": "gDTwlslIOqlO"
      },
      "source": [
        "Al sumar las probabilidades almacenadas en cada índice de un vector en particular, el resultado es 1."
      ]
    },
    {
      "cell_type": "code",
      "metadata": {
        "id": "4rgQWSypqRnD",
        "colab": {
          "base_uri": "https://localhost:8080/",
          "height": 221
        },
        "outputId": "677592f1-8377-4299-da77-5630c0d86d31"
      },
      "source": [
        "predictions[56]"
      ],
      "execution_count": null,
      "outputs": [
        {
          "output_type": "execute_result",
          "data": {
            "text/plain": [
              "array([1.2775817e-02, 2.9554022e-03, 1.3314779e-01, 5.1634531e-02,\n",
              "       3.9428198e-03, 1.1625483e-02, 4.5654885e-03, 3.2036973e-04,\n",
              "       1.1175628e-03, 1.2189067e-02, 1.4281656e-03, 8.4389858e-03,\n",
              "       9.7939360e-04, 1.3640598e-02, 1.7444724e-02, 2.5311720e-02,\n",
              "       1.9382713e-02, 7.8080120e-03, 5.1043788e-03, 9.0430077e-04,\n",
              "       2.9015608e-04, 5.0132949e-04, 7.6925186e-03, 5.6794421e-03,\n",
              "       1.6645206e-02, 1.4145850e-02, 3.2715443e-01, 2.2252187e-02,\n",
              "       1.7619714e-02, 1.0566315e-02, 1.5466869e-03, 1.1259998e-01,\n",
              "       4.3488014e-02, 4.0810010e-03, 8.2582212e-04, 8.1008027e-04,\n",
              "       6.4408820e-04, 3.0868987e-02, 1.0155461e-03, 2.1192319e-04,\n",
              "       4.0577548e-03, 2.2392986e-02, 6.1506429e-03, 2.9487833e-03,\n",
              "       1.6940933e-03, 9.3991999e-03], dtype=float32)"
            ]
          },
          "metadata": {
            "tags": []
          },
          "execution_count": 27
        }
      ]
    },
    {
      "cell_type": "code",
      "metadata": {
        "id": "-zBZKS2rObmK",
        "colab": {
          "base_uri": "https://localhost:8080/",
          "height": 34
        },
        "outputId": "08a5ca72-e68f-4e66-ab00-27a1bb51d90d"
      },
      "source": [
        "np.sum(predictions[56])"
      ],
      "execution_count": null,
      "outputs": [
        {
          "output_type": "execute_result",
          "data": {
            "text/plain": [
              "1.0000001"
            ]
          },
          "metadata": {
            "tags": []
          },
          "execution_count": 25
        }
      ]
    },
    {
      "cell_type": "markdown",
      "metadata": {
        "id": "QZjhRFH4O5d5"
      },
      "source": [
        "El índice que almacena el valor mayor, representa la clase a la que corresponde la entrada:"
      ]
    },
    {
      "cell_type": "code",
      "metadata": {
        "id": "r8cVcQubPGVj",
        "colab": {
          "base_uri": "https://localhost:8080/",
          "height": 34
        },
        "outputId": "f507757a-a140-448b-c9c5-7ff6d47f043a"
      },
      "source": [
        "np.argmax(predictions[56])"
      ],
      "execution_count": null,
      "outputs": [
        {
          "output_type": "execute_result",
          "data": {
            "text/plain": [
              "26"
            ]
          },
          "metadata": {
            "tags": []
          },
          "execution_count": 26
        }
      ]
    },
    {
      "cell_type": "markdown",
      "metadata": {
        "id": "RNO8C4BP18k2"
      },
      "source": [
        "**NOTA:** La información presentada en este notebook, fue tomada de https://github.com/fchollet/deep-learning-with-python-notebooks/blob/master/3.6-classifying-newswires.ipynb. La única variación sutil del presente notebook con respecto a la fuente original, tiene que ver con la descripción de ciertas partes del código."
      ]
    }
  ]
}