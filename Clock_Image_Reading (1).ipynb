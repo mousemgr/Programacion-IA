{
  "nbformat": 4,
  "nbformat_minor": 0,
  "metadata": {
    "colab": {
      "name": "Clock_Image_Reading.ipynb",
      "provenance": [],
      "collapsed_sections": []
    },
    "kernelspec": {
      "name": "python3",
      "display_name": "Python 3"
    },
    "accelerator": "GPU"
  },
  "cells": [
    {
      "cell_type": "code",
      "metadata": {
        "id": "I2iB8gl94C0l",
        "colab": {
          "base_uri": "https://localhost:8080/"
        },
        "outputId": "c78fc586-4016-44c8-9b5f-a9b860b5e284"
      },
      "source": [
        "from google.colab import drive\n",
        "drive.mount('/content/drive')"
      ],
      "execution_count": 1,
      "outputs": [
        {
          "output_type": "stream",
          "text": [
            "Mounted at /content/drive\n"
          ],
          "name": "stdout"
        }
      ]
    },
    {
      "cell_type": "markdown",
      "metadata": {
        "id": "0RO0S8HdJGZQ"
      },
      "source": [
        "# **Importaciones**"
      ]
    },
    {
      "cell_type": "code",
      "metadata": {
        "id": "WVEpPBnv34Es"
      },
      "source": [
        "from sklearn.preprocessing import StandardScaler\n",
        "import matplotlib.pyplot as plt\n",
        "import numpy as np \n",
        "import os \n",
        "import pandas as pd "
      ],
      "execution_count": 2,
      "outputs": []
    },
    {
      "cell_type": "code",
      "metadata": {
        "id": "GT6AFf0K4Bb_",
        "colab": {
          "base_uri": "https://localhost:8080/"
        },
        "outputId": "51cda203-b8a1-48c2-9a21-4fe57c137804"
      },
      "source": [
        "print(os.listdir('/content/drive/My Drive/Relojes'))"
      ],
      "execution_count": 3,
      "outputs": [
        {
          "output_type": "stream",
          "text": [
            "['imagen_reloj.npy', 'horas_minutos.npy']\n"
          ],
          "name": "stdout"
        }
      ]
    },
    {
      "cell_type": "markdown",
      "metadata": {
        "id": "daMVfI5bJJ3g"
      },
      "source": [
        "# **Carga de la base de datos**"
      ]
    },
    {
      "cell_type": "code",
      "metadata": {
        "id": "OofBN-iC4Val"
      },
      "source": [
        "x = np.load('/content/drive/My Drive/Relojes/imagen_reloj.npy')\n",
        "y = np.load('/content/drive/My Drive/Relojes/horas_minutos.npy')"
      ],
      "execution_count": 4,
      "outputs": []
    },
    {
      "cell_type": "markdown",
      "metadata": {
        "id": "44oqGK6eJPgB"
      },
      "source": [
        "# **Dimensiones de la base de datos**"
      ]
    },
    {
      "cell_type": "code",
      "metadata": {
        "id": "fgupFBEo5Quk",
        "colab": {
          "base_uri": "https://localhost:8080/"
        },
        "outputId": "83df1d91-764c-49b3-bc23-cbe88af5be68"
      },
      "source": [
        "x.shape, y.shape\n",
        "#x -> (2000, 64, 64, 1)"
      ],
      "execution_count": 5,
      "outputs": [
        {
          "output_type": "execute_result",
          "data": {
            "text/plain": [
              "((2000, 64, 64), (2000, 2))"
            ]
          },
          "metadata": {
            "tags": []
          },
          "execution_count": 5
        }
      ]
    },
    {
      "cell_type": "markdown",
      "metadata": {
        "id": "LXr3VvjSJSL7"
      },
      "source": [
        "# **Despliegue de algunas imágenes**"
      ]
    },
    {
      "cell_type": "code",
      "metadata": {
        "id": "9VLoqDhc4lDV",
        "colab": {
          "base_uri": "https://localhost:8080/",
          "height": 1000
        },
        "outputId": "b08ff2fc-e1d7-4a8d-c841-102eb1e399e1"
      },
      "source": [
        "for i in range(15):\n",
        "    print (\"label\", \"{}:{}\".format(y[i][0], y[i][1]))\n",
        "    img = x[i]\n",
        "    plt.imshow(img, cmap='Greys', origin=\"lower\")\n",
        "    plt.show()"
      ],
      "execution_count": 6,
      "outputs": [
        {
          "output_type": "stream",
          "text": [
            "label 8.0:5.0\n"
          ],
          "name": "stdout"
        },
        {
          "output_type": "display_data",
          "data": {
            "image/png": "[encoded data removed]",
            "text/plain": [
              "<Figure size 432x288 with 1 Axes>"
            ]
          },
          "metadata": {
            "tags": [],
            "needs_background": "light"
          }
        },
        {
          "output_type": "stream",
          "text": [
            "label 11.0:33.0\n"
          ],
          "name": "stdout"
        },
        {
          "output_type": "display_data",
          "data": {
            "image/png": "[encoded data removed]",
            "text/plain": [
              "<Figure size 432x288 with 1 Axes>"
            ]
          },
          "metadata": {
            "tags": [],
            "needs_background": "light"
          }
        },
        {
          "output_type": "stream",
          "text": [
            "label 3.0:36.0\n"
          ],
          "name": "stdout"
        },
        {
          "output_type": "display_data",
          "data": {
            "image/png": "[encoded data removed]",
            "text/plain": [
              "<Figure size 432x288 with 1 Axes>"
            ]
          },
          "metadata": {
            "tags": [],
            "needs_background": "light"
          }
        },
        {
          "output_type": "stream",
          "text": [
            "label 9.0:32.0\n"
          ],
          "name": "stdout"
        },
        {
          "output_type": "display_data",
          "data": {
            "image/png": "[encoded data removed]",
            "text/plain": [
              "<Figure size 432x288 with 1 Axes>"
            ]
          },
          "metadata": {
            "tags": [],
            "needs_background": "light"
          }
        },
        {
          "output_type": "stream",
          "text": [
            "label 2.0:3.0\n"
          ],
          "name": "stdout"
        },
        {
          "output_type": "display_data",
          "data": {
            "image/png": "[encoded data removed]",
            "text/plain": [
              "<Figure size 432x288 with 1 Axes>"
            ]
          },
          "metadata": {
            "tags": [],
            "needs_background": "light"
          }
        },
        {
          "output_type": "stream",
          "text": [
            "label 0.0:56.0\n"
          ],
          "name": "stdout"
        },
        {
          "output_type": "display_data",
          "data": {
            "image/png": "[encoded data removed]",
            "text/plain": [
              "<Figure size 432x288 with 1 Axes>"
            ]
          },
          "metadata": {
            "tags": [],
            "needs_background": "light"
          }
        },
        {
          "output_type": "stream",
          "text": [
            "label 2.0:11.0\n"
          ],
          "name": "stdout"
        },
        {
          "output_type": "display_data",
          "data": {
            "image/png": "[encoded data removed]",
            "text/plain": [
              "<Figure size 432x288 with 1 Axes>"
            ]
          },
          "metadata": {
            "tags": [],
            "needs_background": "light"
          }
        },
        {
          "output_type": "stream",
          "text": [
            "label 3.0:53.0\n"
          ],
          "name": "stdout"
        },
        {
          "output_type": "display_data",
          "data": {
            "image/png": "[encoded data removed]",
            "text/plain": [
              "<Figure size 432x288 with 1 Axes>"
            ]
          },
          "metadata": {
            "tags": [],
            "needs_background": "light"
          }
        },
        {
          "output_type": "stream",
          "text": [
            "label 3.0:32.0\n"
          ],
          "name": "stdout"
        },
        {
          "output_type": "display_data",
          "data": {
            "image/png": "[encoded data removed]",
            "text/plain": [
              "<Figure size 432x288 with 1 Axes>"
            ]
          },
          "metadata": {
            "tags": [],
            "needs_background": "light"
          }
        },
        {
          "output_type": "stream",
          "text": [
            "label 10.0:52.0\n"
          ],
          "name": "stdout"
        },
        {
          "output_type": "display_data",
          "data": {
            "image/png": "[encoded data removed]",
            "text/plain": [
              "<Figure size 432x288 with 1 Axes>"
            ]
          },
          "metadata": {
            "tags": [],
            "needs_background": "light"
          }
        },
        {
          "output_type": "stream",
          "text": [
            "label 6.0:8.0\n"
          ],
          "name": "stdout"
        },
        {
          "output_type": "display_data",
          "data": {
            "image/png": "[encoded data removed]",
            "text/plain": [
              "<Figure size 432x288 with 1 Axes>"
            ]
          },
          "metadata": {
            "tags": [],
            "needs_background": "light"
          }
        },
        {
          "output_type": "stream",
          "text": [
            "label 0.0:16.0\n"
          ],
          "name": "stdout"
        },
        {
          "output_type": "display_data",
          "data": {
            "image/png": "[encoded data removed]",
            "text/plain": [
              "<Figure size 432x288 with 1 Axes>"
            ]
          },
          "metadata": {
            "tags": [],
            "needs_background": "light"
          }
        },
        {
          "output_type": "stream",
          "text": [
            "label 0.0:35.0\n"
          ],
          "name": "stdout"
        },
        {
          "output_type": "display_data",
          "data": {
            "image/png": "[encoded data removed]",
            "text/plain": [
              "<Figure size 432x288 with 1 Axes>"
            ]
          },
          "metadata": {
            "tags": [],
            "needs_background": "light"
          }
        },
        {
          "output_type": "stream",
          "text": [
            "label 10.0:44.0\n"
          ],
          "name": "stdout"
        },
        {
          "output_type": "display_data",
          "data": {
            "image/png": "[encoded data removed]",
            "text/plain": [
              "<Figure size 432x288 with 1 Axes>"
            ]
          },
          "metadata": {
            "tags": [],
            "needs_background": "light"
          }
        },
        {
          "output_type": "stream",
          "text": [
            "label 11.0:33.0\n"
          ],
          "name": "stdout"
        },
        {
          "output_type": "display_data",
          "data": {
            "image/png": "[encoded data removed]",
            "text/plain": [
              "<Figure size 432x288 with 1 Axes>"
            ]
          },
          "metadata": {
            "tags": [],
            "needs_background": "light"
          }
        }
      ]
    },
    {
      "cell_type": "markdown",
      "metadata": {
        "id": "OWSSgpVtJVuK"
      },
      "source": [
        "# **Redimensionamos el batch de instancias**"
      ]
    },
    {
      "cell_type": "code",
      "metadata": {
        "id": "8ipusMuD7vA1"
      },
      "source": [
        "x = np.expand_dims(x, axis=-1)"
      ],
      "execution_count": 7,
      "outputs": []
    },
    {
      "cell_type": "code",
      "metadata": {
        "colab": {
          "base_uri": "https://localhost:8080/"
        },
        "id": "ldcRHCeWRZBW",
        "outputId": "b93821c3-32f0-4a61-c9dc-a77bae6d5140"
      },
      "source": [
        "x.shape"
      ],
      "execution_count": 8,
      "outputs": [
        {
          "output_type": "execute_result",
          "data": {
            "text/plain": [
              "(2000, 64, 64, 1)"
            ]
          },
          "metadata": {
            "tags": []
          },
          "execution_count": 8
        }
      ]
    },
    {
      "cell_type": "markdown",
      "metadata": {
        "id": "pto8xQt-JeBR"
      },
      "source": [
        "# **Partición de la base de datos en conjunto de entrenamiento y validación**"
      ]
    },
    {
      "cell_type": "code",
      "metadata": {
        "id": "VDQuuE3f5jve"
      },
      "source": [
        "train_data = x[:1000]\n",
        "train_labels = y[:1000]\n",
        "test_data = x[1000:]\n",
        "test_labels = y[1000:]"
      ],
      "execution_count": 9,
      "outputs": []
    },
    {
      "cell_type": "markdown",
      "metadata": {
        "id": "JGfCfSQJJlKY"
      },
      "source": [
        "# **Definición de la arquitectura**"
      ]
    },
    {
      "cell_type": "code",
      "metadata": {
        "id": "XIDh_HMm6J7s"
      },
      "source": [
        "from tensorflow.keras import layers\n",
        "from tensorflow.keras import models\n",
        "\n",
        "model = models.Sequential()\n",
        "model.add(layers.Conv2D(32, (5, 5), activation='relu',\n",
        "                        input_shape=(64, 64, 1)))\n",
        "model.add(layers.MaxPooling2D((2, 2)))\n",
        "model.add(layers.Conv2D(64, (5, 5), activation='relu'))\n",
        "model.add(layers.MaxPooling2D((2, 2)))\n",
        "model.add(layers.Flatten())\n",
        "model.add(layers.Dense(256, activation='relu'))\n",
        "model.add(layers.Dense(2))"
      ],
      "execution_count": 10,
      "outputs": []
    },
    {
      "cell_type": "markdown",
      "metadata": {
        "id": "rv_YgQ55JoUY"
      },
      "source": [
        "# **Compilación**"
      ]
    },
    {
      "cell_type": "code",
      "metadata": {
        "id": "fCJIT3H477Jt"
      },
      "source": [
        "from tensorflow.keras import optimizers\n",
        "\n",
        "model.compile(loss='mse', #mae -> Mean Absolute Error, mse -> Mean Squared Error\n",
        "              optimizer=optimizers.Adam(lr=1e-3)) # acc -> accuracy"
      ],
      "execution_count": 12,
      "outputs": []
    },
    {
      "cell_type": "markdown",
      "metadata": {
        "id": "Kuyd88osJqhQ"
      },
      "source": [
        "# **Entrenamiento**"
      ]
    },
    {
      "cell_type": "code",
      "metadata": {
        "id": "B1thgsnC8JjT",
        "colab": {
          "base_uri": "https://localhost:8080/"
        },
        "outputId": "82cd7523-48be-4fe1-f0d7-e1da92b415bf"
      },
      "source": [
        "history = model.fit(train_data, train_labels, batch_size=40, epochs=60, validation_data=(test_data,test_labels))"
      ],
      "execution_count": 13,
      "outputs": [
        {
          "output_type": "stream",
          "text": [
            "Epoch 1/60\n",
            " 1/25 [>.............................] - ETA: 0s - loss: 613.4796WARNING:tensorflow:Callbacks method `on_train_batch_end` is slow compared to the batch time (batch time: 0.0035s vs `on_train_batch_end` time: 0.0055s). Check your callbacks.\n",
            "25/25 [==============================] - 0s 14ms/step - loss: 202.6284 - val_loss: 140.5594\n",
            "Epoch 2/60\n",
            "25/25 [==============================] - 0s 8ms/step - loss: 94.6942 - val_loss: 78.0867\n",
            "Epoch 3/60\n",
            "25/25 [==============================] - 0s 8ms/step - loss: 52.4700 - val_loss: 38.2813\n",
            "Epoch 4/60\n",
            "25/25 [==============================] - 0s 8ms/step - loss: 23.3715 - val_loss: 22.9338\n",
            "Epoch 5/60\n",
            "25/25 [==============================] - 0s 8ms/step - loss: 14.7077 - val_loss: 12.3232\n",
            "Epoch 6/60\n",
            "25/25 [==============================] - 0s 8ms/step - loss: 9.3119 - val_loss: 8.7541\n",
            "Epoch 7/60\n",
            "25/25 [==============================] - 0s 8ms/step - loss: 6.7239 - val_loss: 8.0028\n",
            "Epoch 8/60\n",
            "25/25 [==============================] - 0s 8ms/step - loss: 6.0657 - val_loss: 7.5687\n",
            "Epoch 9/60\n",
            "25/25 [==============================] - 0s 8ms/step - loss: 5.1863 - val_loss: 5.6814\n",
            "Epoch 10/60\n",
            "25/25 [==============================] - 0s 8ms/step - loss: 4.4658 - val_loss: 5.6314\n",
            "Epoch 11/60\n",
            "25/25 [==============================] - 0s 7ms/step - loss: 4.1868 - val_loss: 4.7665\n",
            "Epoch 12/60\n",
            "25/25 [==============================] - 0s 8ms/step - loss: 4.3830 - val_loss: 5.9109\n",
            "Epoch 13/60\n",
            "25/25 [==============================] - 0s 8ms/step - loss: 3.8471 - val_loss: 4.1544\n",
            "Epoch 14/60\n",
            "25/25 [==============================] - 0s 8ms/step - loss: 3.0059 - val_loss: 3.7853\n",
            "Epoch 15/60\n",
            "25/25 [==============================] - 0s 8ms/step - loss: 2.6483 - val_loss: 3.3875\n",
            "Epoch 16/60\n",
            "25/25 [==============================] - 0s 8ms/step - loss: 2.3154 - val_loss: 2.8451\n",
            "Epoch 17/60\n",
            "25/25 [==============================] - 0s 8ms/step - loss: 2.0798 - val_loss: 2.5128\n",
            "Epoch 18/60\n",
            "25/25 [==============================] - 0s 8ms/step - loss: 1.7835 - val_loss: 2.3391\n",
            "Epoch 19/60\n",
            "25/25 [==============================] - 0s 7ms/step - loss: 1.6379 - val_loss: 2.6166\n",
            "Epoch 20/60\n",
            "25/25 [==============================] - 0s 7ms/step - loss: 1.7081 - val_loss: 3.0924\n",
            "Epoch 21/60\n",
            "25/25 [==============================] - 0s 8ms/step - loss: 2.0847 - val_loss: 1.7461\n",
            "Epoch 22/60\n",
            "25/25 [==============================] - 0s 8ms/step - loss: 1.3254 - val_loss: 1.5757\n",
            "Epoch 23/60\n",
            "25/25 [==============================] - 0s 7ms/step - loss: 1.1034 - val_loss: 1.4317\n",
            "Epoch 24/60\n",
            "25/25 [==============================] - 0s 8ms/step - loss: 0.9523 - val_loss: 1.6827\n",
            "Epoch 25/60\n",
            "25/25 [==============================] - 0s 8ms/step - loss: 1.0187 - val_loss: 1.2727\n",
            "Epoch 26/60\n",
            "25/25 [==============================] - 0s 8ms/step - loss: 0.8732 - val_loss: 1.2266\n",
            "Epoch 27/60\n",
            "25/25 [==============================] - 0s 7ms/step - loss: 1.0609 - val_loss: 1.0541\n",
            "Epoch 28/60\n",
            "25/25 [==============================] - 0s 8ms/step - loss: 0.8690 - val_loss: 1.5378\n",
            "Epoch 29/60\n",
            "25/25 [==============================] - 0s 8ms/step - loss: 0.9787 - val_loss: 0.9003\n",
            "Epoch 30/60\n",
            "25/25 [==============================] - 0s 8ms/step - loss: 0.5871 - val_loss: 0.8063\n",
            "Epoch 31/60\n",
            "25/25 [==============================] - 0s 8ms/step - loss: 0.4309 - val_loss: 0.8313\n",
            "Epoch 32/60\n",
            "25/25 [==============================] - 0s 8ms/step - loss: 0.4252 - val_loss: 0.7136\n",
            "Epoch 33/60\n",
            "25/25 [==============================] - 0s 8ms/step - loss: 0.3461 - val_loss: 0.6467\n",
            "Epoch 34/60\n",
            "25/25 [==============================] - 0s 8ms/step - loss: 0.3122 - val_loss: 0.5313\n",
            "Epoch 35/60\n",
            "25/25 [==============================] - 0s 8ms/step - loss: 0.2836 - val_loss: 0.5178\n",
            "Epoch 36/60\n",
            "25/25 [==============================] - 0s 7ms/step - loss: 0.2574 - val_loss: 0.4764\n",
            "Epoch 37/60\n",
            "25/25 [==============================] - 0s 7ms/step - loss: 0.2235 - val_loss: 0.5031\n",
            "Epoch 38/60\n",
            "25/25 [==============================] - 0s 7ms/step - loss: 0.3309 - val_loss: 0.5930\n",
            "Epoch 39/60\n",
            "25/25 [==============================] - 0s 8ms/step - loss: 0.6247 - val_loss: 1.4918\n",
            "Epoch 40/60\n",
            "25/25 [==============================] - 0s 7ms/step - loss: 0.7979 - val_loss: 0.9304\n",
            "Epoch 41/60\n",
            "25/25 [==============================] - 0s 8ms/step - loss: 0.3314 - val_loss: 0.5629\n",
            "Epoch 42/60\n",
            "25/25 [==============================] - 0s 8ms/step - loss: 0.2008 - val_loss: 0.4100\n",
            "Epoch 43/60\n",
            "25/25 [==============================] - 0s 8ms/step - loss: 0.1741 - val_loss: 0.3826\n",
            "Epoch 44/60\n",
            "25/25 [==============================] - 0s 8ms/step - loss: 0.1652 - val_loss: 0.3582\n",
            "Epoch 45/60\n",
            "25/25 [==============================] - 0s 8ms/step - loss: 0.1502 - val_loss: 0.3856\n",
            "Epoch 46/60\n",
            "25/25 [==============================] - 0s 7ms/step - loss: 0.1555 - val_loss: 0.3710\n",
            "Epoch 47/60\n",
            "25/25 [==============================] - 0s 8ms/step - loss: 0.1172 - val_loss: 0.3290\n",
            "Epoch 48/60\n",
            "25/25 [==============================] - 0s 8ms/step - loss: 0.1035 - val_loss: 0.3313\n",
            "Epoch 49/60\n",
            "25/25 [==============================] - 0s 8ms/step - loss: 0.1016 - val_loss: 0.3248\n",
            "Epoch 50/60\n",
            "25/25 [==============================] - 0s 8ms/step - loss: 0.0962 - val_loss: 0.3164\n",
            "Epoch 51/60\n",
            "25/25 [==============================] - 0s 7ms/step - loss: 0.1360 - val_loss: 0.3267\n",
            "Epoch 52/60\n",
            "25/25 [==============================] - 0s 8ms/step - loss: 0.1622 - val_loss: 0.3633\n",
            "Epoch 53/60\n",
            "25/25 [==============================] - 0s 8ms/step - loss: 0.0895 - val_loss: 0.3189\n",
            "Epoch 54/60\n",
            "25/25 [==============================] - 0s 8ms/step - loss: 0.1259 - val_loss: 0.4789\n",
            "Epoch 55/60\n",
            "25/25 [==============================] - 0s 8ms/step - loss: 0.1766 - val_loss: 0.3400\n",
            "Epoch 56/60\n",
            "25/25 [==============================] - 0s 7ms/step - loss: 0.1350 - val_loss: 0.3160\n",
            "Epoch 57/60\n",
            "25/25 [==============================] - 0s 8ms/step - loss: 0.0801 - val_loss: 0.2921\n",
            "Epoch 58/60\n",
            "25/25 [==============================] - 0s 7ms/step - loss: 0.0806 - val_loss: 0.2937\n",
            "Epoch 59/60\n",
            "25/25 [==============================] - 0s 8ms/step - loss: 0.0637 - val_loss: 0.2710\n",
            "Epoch 60/60\n",
            "25/25 [==============================] - 0s 8ms/step - loss: 0.0982 - val_loss: 0.3072\n"
          ],
          "name": "stdout"
        }
      ]
    },
    {
      "cell_type": "markdown",
      "metadata": {
        "id": "EHUE7e0UpNST"
      },
      "source": [
        "# **Curvas de precisión y pérdida**"
      ]
    },
    {
      "cell_type": "code",
      "metadata": {
        "id": "O_wq7UjkpMeh",
        "colab": {
          "base_uri": "https://localhost:8080/",
          "height": 312
        },
        "outputId": "4f279833-d103-4dc5-9449-3df5eb0f11b7"
      },
      "source": [
        "import matplotlib.pyplot as plt\n",
        "\n",
        "loss = history.history['loss']\n",
        "val_loss = history.history['val_loss']\n",
        "\n",
        "epochs = range(1, len(loss) + 1)\n",
        "\n",
        "plt.plot(epochs, loss, 'ro', label='Training loss')\n",
        "plt.plot(epochs, val_loss, 'g', label='Validation loss')\n",
        "plt.title('Training and validation loss')\n",
        "plt.xlabel('Epochs')\n",
        "plt.ylabel('Loss')\n",
        "plt.legend()\n",
        "\n",
        "plt.show()\n",
        "\n",
        "val_loss = history.history['val_loss']\n",
        "min_val_loss = min(val_loss)\n",
        "min_val_loss_epoch= val_loss.index(min(val_loss)) + 1\n",
        "print(min_val_loss_epoch)"
      ],
      "execution_count": 19,
      "outputs": [
        {
          "output_type": "display_data",
          "data": {
            "image/png": "[encoded data removed]",
            "text/plain": [
              "<Figure size 432x288 with 1 Axes>"
            ]
          },
          "metadata": {
            "tags": [],
            "needs_background": "light"
          }
        },
        {
          "output_type": "stream",
          "text": [
            "59\n"
          ],
          "name": "stdout"
        }
      ]
    },
    {
      "cell_type": "markdown",
      "metadata": {
        "id": "o3B3iq-cJsqb"
      },
      "source": [
        "# **Comparación entre predicciones (valores obtenidos) y las etiquetas (valores esperados)**"
      ]
    },
    {
      "cell_type": "code",
      "metadata": {
        "id": "As2YXbmZ_hUG",
        "colab": {
          "base_uri": "https://localhost:8080/"
        },
        "outputId": "48f364be-3c06-499a-8f4d-dfccf8de7a05"
      },
      "source": [
        "predictions = model.predict(test_data)\n",
        "\n",
        "print(\"Ground truth labels\", \"          \", \"Predictions\")\n",
        "for i in range(1000):\n",
        "  print(test_labels[i, [0,1]], \"   \", np.abs(predictions[i,[0,1]]))\n"
      ],
      "execution_count": 20,
      "outputs": [
        {
          "output_type": "stream",
          "text": [
            "Ground truth labels            Predictions\n",
            "[ 3. 55.]     [ 3.3580596 55.40456  ]\n",
            "[ 8. 50.]     [ 7.996951 49.801773]\n",
            "[ 2. 24.]     [ 2.0260026 25.032501 ]\n",
            "[ 6. 48.]     [ 6.018222 48.366   ]\n",
            "[ 5. 11.]     [ 5.071479  11.1259575]\n",
            "[ 2. 55.]     [ 2.2506015 55.43178  ]\n",
            "[0. 8.]     [0.01271538 8.152787  ]\n",
            "[ 5. 21.]     [ 5.1892233 21.402166 ]\n",
            "[4. 5.]     [4.0779867 4.8572836]\n",
            "[ 2. 45.]     [ 2.1529143 44.89526  ]\n",
            "[10. 50.]     [10.208214 52.17515 ]\n",
            "[ 6. 44.]     [ 5.9655595 44.010426 ]\n",
            "[ 5. 12.]     [ 5.0057893 12.264979 ]\n",
            "[ 2. 59.]     [ 1.989355 59.81408 ]\n",
            "[11. 52.]     [11.159975 52.619297]\n",
            "[10. 34.]     [10.110819 34.584602]\n",
            "[ 3. 42.]     [ 3.1229615 42.344627 ]\n",
            "[ 0. 50.]     [ 0.16510142 50.723682  ]\n",
            "[ 0. 59.]     [ 0.12378778 59.45666   ]\n",
            "[ 3. 26.]     [ 2.958249 27.336178]\n",
            "[ 3. 45.]     [ 3.098569 45.160686]\n",
            "[ 0. 31.]     [ 0.08623733 31.392242  ]\n",
            "[ 0. 57.]     [ 0.1901399 57.392933 ]\n",
            "[ 1. 58.]     [ 1.1844195 58.281868 ]\n",
            "[ 8. 59.]     [ 8.009316 59.48097 ]\n",
            "[ 6. 32.]     [ 6.108786 32.528084]\n",
            "[ 7. 42.]     [ 7.1150885 42.46864  ]\n",
            "[11.  9.]     [11.178428  8.935692]\n",
            "[ 5. 21.]     [ 5.1892223 21.402168 ]\n",
            "[ 1. 45.]     [ 1.050752 45.051   ]\n",
            "[1. 1.]     [0.8339181 1.1936058]\n",
            "[ 7. 18.]     [ 6.9959855 18.227837 ]\n",
            "[ 1. 19.]     [ 1.1074958 19.056005 ]\n",
            "[ 6. 51.]     [ 6.1408978 52.103542 ]\n",
            "[ 0. 57.]     [ 0.1901399 57.392933 ]\n",
            "[ 3. 15.]     [ 3.1388009 17.151281 ]\n",
            "[ 2. 35.]     [ 2.114357 36.033268]\n",
            "[5. 4.]     [5.1651855 4.1439476]\n",
            "[ 5. 41.]     [ 5.135791 40.68929 ]\n",
            "[ 7. 47.]     [ 6.897339 47.4662  ]\n",
            "[ 3. 38.]     [ 3.1305976 38.406994 ]\n",
            "[10. 43.]     [10.121296 43.920662]\n",
            "[ 7. 38.]     [ 6.994176 36.007256]\n",
            "[ 8. 22.]     [ 7.9804125 22.307442 ]\n",
            "[5. 5.]     [5.060744  5.3024917]\n",
            "[0. 1.]     [ 2.1521926 12.517543 ]\n",
            "[ 9. 27.]     [ 8.947992 27.193617]\n",
            "[ 4. 22.]     [ 4.082435 22.297134]\n",
            "[7. 9.]     [7.0596333 9.316354 ]\n",
            "[ 3. 14.]     [ 3.0720959 13.812291 ]\n",
            "[11. 43.]     [11.391182 43.095993]\n",
            "[10.  6.]     [10.130597  6.020792]\n",
            "[11. 11.]     [11.103625 11.000664]\n",
            "[ 6. 13.]     [ 6.0916834 12.975887 ]\n",
            "[ 2. 12.]     [ 2.1176436 12.141941 ]\n",
            "[ 0. 57.]     [ 0.19014014 57.392933  ]\n",
            "[ 6. 17.]     [ 6.052378 17.014748]\n",
            "[ 3. 34.]     [ 3.1387043 34.840908 ]\n",
            "[ 3. 49.]     [ 3.1364372 49.09374  ]\n",
            "[ 8. 25.]     [ 7.9717574 25.465237 ]\n",
            "[ 9. 25.]     [ 8.920329 24.833569]\n",
            "[ 6. 58.]     [ 6.0633826 58.191994 ]\n",
            "[ 2. 28.]     [ 2.1549075 28.15583  ]\n",
            "[ 0. 26.]     [ 0.05084028 26.735886  ]\n",
            "[10. 57.]     [11.964539 56.40417 ]\n",
            "[ 4. 35.]     [ 4.0848618 34.92483  ]\n",
            "[ 2. 16.]     [ 2.1261282 15.846092 ]\n",
            "[ 9. 29.]     [ 9.173568 28.439232]\n",
            "[ 3. 58.]     [ 2.9866803 58.609814 ]\n",
            "[11.  3.]     [10.920004   2.9380286]\n",
            "[11. 20.]     [11.154163 20.206575]\n",
            "[ 7. 16.]     [ 6.993957 16.12743 ]\n",
            "[ 5. 19.]     [ 5.0382733 19.239567 ]\n",
            "[ 4. 58.]     [ 4.1696773 57.60467  ]\n",
            "[ 9. 53.]     [ 9.216389 54.01172 ]\n",
            "[ 6. 37.]     [ 6.000529 37.521038]\n",
            "[ 6. 30.]     [ 6.073862 30.424818]\n",
            "[9. 8.]     [9.082031 8.111425]\n",
            "[5. 4.]     [5.165186  4.1439476]\n",
            "[6. 8.]     [6.1117206 8.098115 ]\n",
            "[ 8. 48.]     [ 7.885291 48.586605]\n",
            "[7. 9.]     [7.059633 9.316355]\n",
            "[ 0. 26.]     [ 0.05084076 26.735886  ]\n",
            "[ 7. 13.]     [ 6.945166 13.168831]\n",
            "[ 5. 40.]     [ 5.0773525 40.183628 ]\n",
            "[ 2. 52.]     [ 2.234925 52.516617]\n",
            "[ 8. 10.]     [ 8.064756 10.194954]\n",
            "[ 3. 30.]     [ 3.206596 30.414547]\n",
            "[ 3. 59.]     [ 3.087814 58.967632]\n",
            "[4. 2.]     [3.9983644 2.535485 ]\n",
            "[ 9. 18.]     [ 9.041899 17.900005]\n",
            "[11. 52.]     [11.159975 52.619297]\n",
            "[ 0. 39.]     [ 0.10099211 38.98799   ]\n",
            "[ 2. 50.]     [ 2.2316225 50.36482  ]\n",
            "[ 3. 39.]     [ 3.1460373 39.070873 ]\n",
            "[ 2. 14.]     [ 2.1173959 14.174426 ]\n",
            "[ 5. 49.]     [ 5.0931964 49.396713 ]\n",
            "[10. 36.]     [10.009173 36.753452]\n",
            "[ 5. 39.]     [ 5.1130238 39.184875 ]\n",
            "[ 5. 35.]     [ 5.057097 35.567944]\n",
            "[4. 5.]     [4.0779867 4.8572836]\n",
            "[10. 52.]     [10.22173  52.209076]\n",
            "[10.  1.]     [10.113183   1.1613436]\n",
            "[ 8. 11.]     [ 8.144904 11.140833]\n",
            "[ 4. 51.]     [ 4.117344 51.60407 ]\n",
            "[ 1. 17.]     [ 1.1309782 16.78442  ]\n",
            "[ 0. 33.]     [ 0.22683276 33.995705  ]\n",
            "[10.  0.]     [10.092805    0.09269337]\n",
            "[ 0. 38.]     [ 0.12106314 38.384808  ]\n",
            "[ 5. 11.]     [ 5.0714784 11.1259575]\n",
            "[3. 0.]     [3.107525   0.28705472]\n",
            "[10. 32.]     [10.125895 32.178467]\n",
            "[ 3. 24.]     [ 3.0650907 24.361805 ]\n",
            "[ 8. 35.]     [ 7.9587903 36.229626 ]\n",
            "[ 1. 51.]     [ 1.1645926 51.366734 ]\n",
            "[ 4. 19.]     [ 4.0830765 18.803698 ]\n",
            "[ 2. 46.]     [ 2.198187 46.123665]\n",
            "[ 3. 49.]     [ 3.1364367 49.09374  ]\n",
            "[2. 8.]     [2.0909846 8.058443 ]\n",
            "[ 8. 14.]     [ 7.9981313 13.942028 ]\n",
            "[ 2. 38.]     [ 2.0640345 38.286407 ]\n",
            "[ 6. 45.]     [ 6.0495787 45.280586 ]\n",
            "[2. 0.]     [2.2888117 1.2938473]\n",
            "[9. 9.]     [9.016541 9.050015]\n",
            "[11. 45.]     [10.867394 45.31876 ]\n",
            "[ 7. 22.]     [ 7.0590234 22.523142 ]\n",
            "[4. 4.]     [4.1685257 4.1032257]\n",
            "[ 5. 42.]     [ 5.0706043 41.76759  ]\n",
            "[ 0. 36.]     [ 0.10602798 36.41067   ]\n",
            "[ 3. 54.]     [ 3.3598738 54.055904 ]\n",
            "[10. 20.]     [10.252764 20.001122]\n",
            "[ 2. 27.]     [ 2.0963478 26.888687 ]\n",
            "[ 3. 30.]     [ 3.2065966 30.414547 ]\n",
            "[ 3. 43.]     [ 3.2198672 43.384624 ]\n",
            "[5. 3.]     [5.0944467 3.1393921]\n",
            "[ 6. 41.]     [ 6.0417995 41.234734 ]\n",
            "[10. 54.]     [10.044252 54.27163 ]\n",
            "[1. 9.]     [1.0114926 8.598362 ]\n",
            "[ 7. 37.]     [ 7.045021 37.248028]\n",
            "[4. 7.]     [4.0892215 7.0889716]\n",
            "[ 5. 53.]     [ 5.103865 53.382366]\n",
            "[ 7. 31.]     [ 7.0350304 31.589937 ]\n",
            "[ 6. 49.]     [ 6.0909677 49.525196 ]\n",
            "[ 3. 55.]     [ 3.3580596 55.40456  ]\n",
            "[ 4. 31.]     [ 4.1052036 31.357775 ]\n",
            "[ 4. 59.]     [ 4.1061325 59.003784 ]\n",
            "[ 5. 36.]     [ 5.0407715 36.5144   ]\n",
            "[11. 19.]     [10.823714 18.828476]\n",
            "[ 5. 53.]     [ 5.103865 53.382366]\n",
            "[ 9. 12.]     [ 9.171942 12.0486  ]\n",
            "[5. 6.]     [5.0783534 6.2951846]\n",
            "[ 5. 19.]     [ 5.0382733 19.239567 ]\n",
            "[ 1. 55.]     [ 1.1194221 56.316883 ]\n",
            "[11. 26.]     [11.181298 26.162483]\n",
            "[ 0. 14.]     [ 0.16836406 13.423382  ]\n",
            "[ 0. 26.]     [ 0.05084028 26.735886  ]\n",
            "[ 9. 31.]     [ 9.010228 30.447014]\n",
            "[11. 31.]     [11.200465 32.028713]\n",
            "[ 4. 20.]     [ 4.109524 20.226345]\n",
            "[ 8. 27.]     [ 7.964992 26.907078]\n",
            "[ 4. 31.]     [ 4.1052036 31.357775 ]\n",
            "[11. 49.]     [11.282273 48.957664]\n",
            "[ 5. 16.]     [ 5.0966454 15.994579 ]\n",
            "[ 2. 47.]     [ 2.1432617 47.159836 ]\n",
            "[ 0. 21.]     [ 0.03677239 22.037586  ]\n",
            "[ 7. 14.]     [ 6.998559 14.028556]\n",
            "[ 8. 31.]     [ 8.115203 31.922337]\n",
            "[10. 44.]     [10.105362 44.003532]\n",
            "[ 5. 42.]     [ 5.070604 41.76759 ]\n",
            "[ 8. 17.]     [ 8.027485 17.040527]\n",
            "[4. 9.]     [3.9812434 9.191345 ]\n",
            "[ 3. 56.]     [ 3.19065 56.58708]\n",
            "[11. 15.]     [11.23841  16.347748]\n",
            "[10.  0.]     [10.092805    0.09269337]\n",
            "[ 5. 25.]     [ 5.012106 25.260181]\n",
            "[ 9. 31.]     [ 9.010228 30.44701 ]\n",
            "[ 6. 46.]     [ 6.1009254 46.420788 ]\n",
            "[3. 3.]     [3.183804  2.9810789]\n",
            "[ 2. 59.]     [ 1.9893543 59.81408  ]\n",
            "[8. 4.]     [8.139215  4.0660458]\n",
            "[ 7. 23.]     [ 7.0350327 23.398714 ]\n",
            "[2. 7.]     [2.1220112 6.7750545]\n",
            "[ 3. 46.]     [ 3.1102142 46.426826 ]\n",
            "[ 7. 13.]     [ 6.945166 13.168831]\n",
            "[ 8. 22.]     [ 7.9804125 22.307442 ]\n",
            "[ 6. 15.]     [ 6.0806923 14.972153 ]\n",
            "[ 6. 45.]     [ 6.0495787 45.28059  ]\n",
            "[3. 3.]     [3.183804  2.9810789]\n",
            "[ 2. 54.]     [ 2.2490392 54.904545 ]\n",
            "[ 6. 41.]     [ 6.0417995 41.234734 ]\n",
            "[1. 9.]     [1.0114924 8.598362 ]\n",
            "[ 1. 16.]     [ 1.0725912 15.962766 ]\n",
            "[ 7. 19.]     [ 7.0848308 19.26237  ]\n",
            "[ 6. 56.]     [ 6.1350794 56.721535 ]\n",
            "[ 6. 57.]     [ 6.004775 57.83613 ]\n",
            "[ 6. 56.]     [ 6.1350794 56.721535 ]\n",
            "[3. 2.]     [3.129433  2.1722286]\n",
            "[ 3. 27.]     [ 3.062094 27.918812]\n",
            "[ 3. 11.]     [ 3.1302717 10.815002 ]\n",
            "[11. 14.]     [11.215124 13.943463]\n",
            "[ 1. 16.]     [ 1.0725915 15.962765 ]\n",
            "[11.  3.]     [10.920004   2.9380286]\n",
            "[10. 54.]     [10.044252 54.27163 ]\n",
            "[8. 1.]     [8.12293   0.8729721]\n",
            "[7. 8.]     [7.1037183 8.342726 ]\n",
            "[2. 4.]     [2.1509788 4.073472 ]\n",
            "[10. 14.]     [10.02447  13.972258]\n",
            "[ 0. 34.]     [ 0.23436631 34.958157  ]\n",
            "[ 1. 52.]     [ 1.1650563 52.521084 ]\n",
            "[ 3. 36.]     [ 3.0365267 36.265537 ]\n",
            "[ 0. 24.]     [ 0.13959159 24.399393  ]\n",
            "[ 7. 32.]     [ 7.0370407 32.832993 ]\n",
            "[ 5. 32.]     [ 5.168233 30.988564]\n",
            "[ 9. 26.]     [ 8.959049 26.28213 ]\n",
            "[ 4. 49.]     [ 4.03126 49.57782]\n",
            "[7. 0.]     [6.9062176  0.17683508]\n",
            "[ 3. 42.]     [ 3.1229615 42.344627 ]\n",
            "[ 9. 59.]     [ 9.257516 59.154293]\n",
            "[ 8. 47.]     [ 8.037076 47.14786 ]\n",
            "[8. 9.]     [8.056338 9.129578]\n",
            "[ 7. 15.]     [ 7.000307 15.399491]\n",
            "[11. 47.]     [11.130231 47.276356]\n",
            "[11. 57.]     [10.155622 56.4726  ]\n",
            "[ 4. 30.]     [ 4.206564 30.882778]\n",
            "[ 2. 20.]     [ 2.183445 20.271078]\n",
            "[ 2. 36.]     [ 2.069281 36.820583]\n",
            "[ 1. 47.]     [ 1.0711159 47.22595  ]\n",
            "[ 4. 58.]     [ 4.1696773 57.60467  ]\n",
            "[ 4. 28.]     [ 4.083923 28.197058]\n",
            "[ 8. 38.]     [ 8.018583 38.148296]\n",
            "[ 2. 33.]     [ 2.2014556 33.287117 ]\n",
            "[ 6. 55.]     [ 6.3612714 56.006847 ]\n",
            "[ 4. 53.]     [ 4.183695 53.399403]\n",
            "[ 7. 11.]     [ 7.184025 11.02881 ]\n",
            "[ 4. 46.]     [ 4.0364385 46.208782 ]\n",
            "[ 4. 12.]     [ 4.051439 11.799573]\n",
            "[10. 28.]     [10.0861845 28.267765 ]\n",
            "[ 7. 10.]     [ 7.1477857 10.334978 ]\n",
            "[ 6. 11.]     [ 6.1696143 10.897715 ]\n",
            "[11. 44.]     [11.212909 43.887676]\n",
            "[10.  7.]     [10.120687   7.1468587]\n",
            "[ 3. 15.]     [ 3.1388009 17.151281 ]\n",
            "[ 8. 28.]     [ 7.994329 28.129366]\n",
            "[ 6. 52.]     [ 6.0971217 53.378586 ]\n",
            "[1. 0.]     [1.1999139  0.02111866]\n",
            "[ 9. 12.]     [ 9.171942 12.0486  ]\n",
            "[ 6. 31.]     [ 6.1121798 31.376072 ]\n",
            "[ 9. 21.]     [ 8.875539 21.50149 ]\n",
            "[ 9. 24.]     [ 8.937681 24.316742]\n",
            "[4. 0.]     [4.071306  0.0933864]\n",
            "[10. 32.]     [10.125895 32.178467]\n",
            "[ 4. 30.]     [ 4.206564 30.882778]\n",
            "[ 7. 52.]     [ 7.1065483 52.688038 ]\n",
            "[ 7. 39.]     [ 6.8782845 35.893234 ]\n",
            "[ 4. 22.]     [ 4.0824347 22.297132 ]\n",
            "[ 2. 41.]     [ 2.1339612 41.142467 ]\n",
            "[ 5. 11.]     [ 5.071479  11.1259575]\n",
            "[10. 53.]     [ 9.969886 51.135105]\n",
            "[ 0. 25.]     [ 0.17553426 25.028221  ]\n",
            "[10. 48.]     [10.074777 47.946556]\n",
            "[ 3. 13.]     [ 3.0315454 12.953524 ]\n",
            "[ 6. 37.]     [ 6.000529 37.521038]\n",
            "[10. 16.]     [ 9.897944 16.41538 ]\n",
            "[ 7. 35.]     [ 7.0013638 35.656155 ]\n",
            "[ 2. 30.]     [ 2.1375928 30.738235 ]\n",
            "[ 9. 56.]     [ 9.16686  56.518803]\n",
            "[6. 1.]     [6.3213882 0.9114579]\n",
            "[ 5. 14.]     [ 5.089358 13.949878]\n",
            "[10. 33.]     [10.097811 33.579823]\n",
            "[ 1. 20.]     [ 1.2223136 19.717274 ]\n",
            "[ 9. 11.]     [ 9.279703 10.971637]\n",
            "[ 3. 41.]     [ 3.11586  41.517914]\n",
            "[ 9. 56.]     [ 9.16686  56.518803]\n",
            "[11. 36.]     [11.188321 36.855106]\n",
            "[ 2. 31.]     [ 2.0984075 31.877525 ]\n",
            "[11. 34.]     [11.213643 34.592937]\n",
            "[10. 55.]     [10.227183 50.15733 ]\n",
            "[ 3. 39.]     [ 3.1460376 39.070873 ]\n",
            "[ 4. 39.]     [ 4.07807 39.78029]\n",
            "[ 4. 42.]     [ 4.061708 42.05274 ]\n",
            "[ 1. 35.]     [ 1.0437189 35.373615 ]\n",
            "[ 6. 49.]     [ 6.090967 49.525196]\n",
            "[4. 2.]     [3.998364  2.5354853]\n",
            "[0. 6.]     [0.07277963 5.931678  ]\n",
            "[0. 4.]     [0.34926727 3.7151725 ]\n",
            "[ 6. 19.]     [ 6.142523 18.990557]\n",
            "[ 9. 40.]     [ 9.043203 40.039494]\n",
            "[11. 21.]     [11.123685 21.386364]\n",
            "[5. 9.]     [5.0106826 8.9701395]\n",
            "[ 7. 45.]     [ 7.086407 45.552353]\n",
            "[ 9. 41.]     [ 9.070278 40.8667  ]\n",
            "[ 8. 55.]     [ 8.434497 54.828457]\n",
            "[6. 8.]     [6.1117206 8.098115 ]\n",
            "[9. 6.]     [9.221707 5.928769]\n",
            "[ 9. 25.]     [ 8.920329 24.833569]\n",
            "[ 2. 45.]     [ 2.1529143 44.89526  ]\n",
            "[10. 35.]     [10.132327 35.146687]\n",
            "[ 4. 43.]     [ 4.1129646 43.23444  ]\n",
            "[ 3. 38.]     [ 3.1305976 38.406994 ]\n",
            "[ 0. 27.]     [ 0.1556064 27.666542 ]\n",
            "[1. 5.]     [1.2077936 5.5540605]\n",
            "[ 2. 12.]     [ 2.1176436 12.141941 ]\n",
            "[ 5. 54.]     [ 5.1449594 54.800945 ]\n",
            "[ 1. 15.]     [ 1.1183529 14.452424 ]\n",
            "[ 8. 54.]     [ 8.148343 54.98213 ]\n",
            "[7. 7.]     [7.050683 7.35174 ]\n",
            "[10. 40.]     [10.000609 40.991837]\n",
            "[ 8. 59.]     [ 8.009316 59.48097 ]\n",
            "[10.  3.]     [10.201375   3.3735042]\n",
            "[ 3. 15.]     [ 3.1388009 17.151281 ]\n",
            "[ 7. 30.]     [ 7.076727 30.461567]\n",
            "[ 9. 39.]     [ 9.020333 39.047184]\n",
            "[ 4. 28.]     [ 4.083923 28.197058]\n",
            "[3. 4.]     [3.19373  4.141442]\n",
            "[ 4. 23.]     [ 4.0664167 23.305185 ]\n",
            "[4. 3.]     [4.117822 3.459192]\n",
            "[ 3. 56.]     [ 3.1906493 56.58708  ]\n",
            "[ 7. 54.]     [ 7.110769 55.05672 ]\n",
            "[ 1. 49.]     [ 1.0641593 49.292236 ]\n",
            "[11. 37.]     [11.20294  37.341534]\n",
            "[ 0. 19.]     [ 0.11354341 19.053902  ]\n",
            "[ 4. 58.]     [ 4.1696773 57.60467  ]\n",
            "[ 5. 55.]     [ 5.343562 55.675163]\n",
            "[ 5. 30.]     [ 5.1241984 30.211155 ]\n",
            "[ 8. 10.]     [ 8.064756 10.194954]\n",
            "[7. 2.]     [6.9184465 2.071821 ]\n",
            "[11. 45.]     [10.867394 45.31876 ]\n",
            "[11. 56.]     [11.332197 56.39536 ]\n",
            "[ 0. 38.]     [ 0.12106314 38.384808  ]\n",
            "[ 3. 38.]     [ 3.1305969 38.40699  ]\n",
            "[11. 30.]     [11.273338 30.458836]\n",
            "[ 4. 49.]     [ 4.0312595 49.57782  ]\n",
            "[7. 1.]     [7.037457  0.8427541]\n",
            "[ 9. 22.]     [ 8.972601 22.31754 ]\n",
            "[ 8. 14.]     [ 7.9981313 13.942028 ]\n",
            "[ 3. 42.]     [ 3.122961 42.34463 ]\n",
            "[ 6. 39.]     [ 6.1186047 39.454906 ]\n",
            "[4. 6.]     [4.144275  5.8867836]\n",
            "[11. 11.]     [11.103625 11.000664]\n",
            "[ 6. 56.]     [ 6.1350794 56.721535 ]\n",
            "[ 1. 52.]     [ 1.1650563 52.521084 ]\n",
            "[ 4. 20.]     [ 4.109524 20.226343]\n",
            "[ 8. 16.]     [ 7.9967055 15.9731245]\n",
            "[ 4. 29.]     [ 4.214794 29.959087]\n",
            "[ 0. 12.]     [ 0.10511257 11.975873  ]\n",
            "[10. 49.]     [10.124814 47.29565 ]\n",
            "[ 8. 12.]     [ 8.112029 12.208669]\n",
            "[ 0. 31.]     [ 0.08623733 31.392242  ]\n",
            "[ 0. 43.]     [ 0.27957764 43.3709    ]\n",
            "[10.  4.]     [10.32344    4.0632815]\n",
            "[ 6. 23.]     [ 6.062027 23.392326]\n",
            "[ 8. 25.]     [ 7.9717574 25.465237 ]\n",
            "[10. 37.]     [ 9.998264 36.96732 ]\n",
            "[ 6. 36.]     [ 5.99778  36.394672]\n",
            "[ 9. 23.]     [ 8.933511 23.317225]\n",
            "[ 6. 40.]     [ 6.0337143 40.795258 ]\n",
            "[0. 9.]     [0.15418352 8.955878  ]\n",
            "[ 5. 25.]     [ 5.0121064 25.260181 ]\n",
            "[ 1. 46.]     [ 1.0448197 46.22331  ]\n",
            "[10. 42.]     [10.048493 42.171436]\n",
            "[ 9. 38.]     [ 9.006972 38.346172]\n",
            "[ 2. 54.]     [ 2.249039 54.90455 ]\n",
            "[ 9. 21.]     [ 8.875539 21.501492]\n",
            "[11.  0.]     [10.988043    0.24268647]\n",
            "[ 2. 38.]     [ 2.0640345 38.286407 ]\n",
            "[10. 52.]     [10.22173  52.209076]\n",
            "[ 1. 11.]     [ 1.1529303 11.110239 ]\n",
            "[11. 12.]     [11.042797 12.20241 ]\n",
            "[ 9. 42.]     [ 9.007136 43.916473]\n",
            "[ 7. 46.]     [ 7.105935 46.92497 ]\n",
            "[ 1. 28.]     [ 1.1052456 28.453697 ]\n",
            "[ 8. 31.]     [ 8.115203 31.922337]\n",
            "[ 4. 25.]     [ 4.0530415 25.419483 ]\n",
            "[11.  7.]     [11.034522   7.2111864]\n",
            "[9. 4.]     [9.02258  4.146385]\n",
            "[ 9. 44.]     [ 9.1057415 44.421185 ]\n",
            "[ 0. 10.]     [ 0.1599846 10.087359 ]\n",
            "[ 1. 54.]     [ 1.1537899 55.12655  ]\n",
            "[ 1. 40.]     [ 1.0767115 40.326275 ]\n",
            "[ 4. 39.]     [ 4.07807  39.780285]\n",
            "[ 9. 46.]     [ 9.016379 46.01688 ]\n",
            "[ 7. 49.]     [ 7.1620717 49.2294   ]\n",
            "[5. 1.]     [5.1403837 1.1471375]\n",
            "[ 6. 45.]     [ 6.0495787 45.280586 ]\n",
            "[ 4. 11.]     [ 4.013424 10.795633]\n",
            "[ 3. 42.]     [ 3.122961 42.34463 ]\n",
            "[ 9. 37.]     [ 9.029709 37.570087]\n",
            "[2. 0.]     [2.2888117 1.2938471]\n",
            "[ 2. 10.]     [2.0020633 9.961202 ]\n",
            "[ 9. 35.]     [ 8.99694  35.264324]\n",
            "[5. 5.]     [5.060744  5.3024917]\n",
            "[ 7. 51.]     [ 7.067738 51.37147 ]\n",
            "[ 9. 49.]     [ 8.769272 46.327656]\n",
            "[ 7. 43.]     [ 6.986312 42.948067]\n",
            "[ 0. 16.]     [ 0.12877549 16.09227   ]\n",
            "[10. 55.]     [10.227184 50.15733 ]\n",
            "[11. 48.]     [11.171464 47.91572 ]\n",
            "[ 0. 58.]     [ 0.27481857 58.950993  ]\n",
            "[ 5. 34.]     [ 5.0569353 33.64497  ]\n",
            "[ 7. 37.]     [ 7.045021 37.248028]\n",
            "[0. 5.]     [0.3973606 4.1913114]\n",
            "[ 7. 18.]     [ 6.9959855 18.227837 ]\n",
            "[ 5. 48.]     [ 4.9703   48.437626]\n",
            "[8. 6.]     [8.031548 6.254269]\n",
            "[ 3. 15.]     [ 3.1388001 17.151281 ]\n",
            "[ 8. 50.]     [ 7.996951 49.801773]\n",
            "[10. 27.]     [ 9.993705 27.307787]\n",
            "[11. 35.]     [11.16909 36.06176]\n",
            "[ 9. 19.]     [ 9.067905 18.992   ]\n",
            "[ 6. 48.]     [ 6.018222 48.366   ]\n",
            "[10. 25.]     [10.005119 25.907906]\n",
            "[ 9. 33.]     [ 8.966882 33.571274]\n",
            "[10. 39.]     [10.023569 39.881847]\n",
            "[ 4. 54.]     [ 4.150051 54.811424]\n",
            "[ 1. 41.]     [ 1.0325729 41.18809  ]\n",
            "[8. 8.]     [8.100529 8.167715]\n",
            "[10. 39.]     [10.023569 39.881847]\n",
            "[10. 48.]     [10.074777 47.946556]\n",
            "[ 5. 50.]     [ 5.170455 50.387646]\n",
            "[ 7. 54.]     [ 7.110769 55.05672 ]\n",
            "[ 7. 15.]     [ 7.000307 15.399491]\n",
            "[ 4. 31.]     [ 4.1052036 31.357773 ]\n",
            "[ 7. 12.]     [ 7.044222 12.155311]\n",
            "[ 7. 36.]     [ 6.977944 36.70312 ]\n",
            "[1. 6.]     [1.2578824 6.7436295]\n",
            "[ 5. 25.]     [ 5.0121064 25.260181 ]\n",
            "[6. 2.]     [6.077244 2.231787]\n",
            "[7. 7.]     [7.050683 7.35174 ]\n",
            "[ 6. 31.]     [ 6.1121798 31.376072 ]\n",
            "[10. 36.]     [10.009173 36.753452]\n",
            "[ 7. 56.]     [ 7.3500423 56.619118 ]\n",
            "[ 9. 44.]     [ 9.1057415 44.421185 ]\n",
            "[ 7. 41.]     [ 7.1433406 41.56615  ]\n",
            "[ 1. 29.]     [ 1.1157297 29.487858 ]\n",
            "[ 2. 36.]     [ 2.0692816 36.820583 ]\n",
            "[ 0. 55.]     [ 0.4335002 53.10122  ]\n",
            "[10. 29.]     [10.064985 28.96289 ]\n",
            "[ 2. 36.]     [ 2.069281 36.820583]\n",
            "[ 1. 42.]     [ 1.0451945 42.150753 ]\n",
            "[ 8. 29.]     [ 8.127815 29.708885]\n",
            "[ 2. 10.]     [2.0020633 9.961202 ]\n",
            "[ 3. 59.]     [ 3.087814 58.96763 ]\n",
            "[ 6. 22.]     [ 6.1634207 22.446434 ]\n",
            "[ 6. 18.]     [ 6.08292  18.005033]\n",
            "[ 5. 19.]     [ 5.0382733 19.239567 ]\n",
            "[10. 52.]     [10.22173  52.209076]\n",
            "[ 7. 48.]     [ 7.0046844 48.136204 ]\n",
            "[ 8. 56.]     [ 8.344367 55.97154 ]\n",
            "[ 8. 10.]     [ 8.064756 10.194954]\n",
            "[ 8. 29.]     [ 8.127815 29.708885]\n",
            "[9. 4.]     [9.02258  4.146385]\n",
            "[11. 38.]     [11.180522 38.205322]\n",
            "[ 0. 24.]     [ 0.13959159 24.399393  ]\n",
            "[ 1. 10.]     [1.0830014 9.392822 ]\n",
            "[ 2. 55.]     [ 2.2506008 55.43178  ]\n",
            "[ 3. 55.]     [ 3.3580596 55.40456  ]\n",
            "[10. 54.]     [10.044252 54.27163 ]\n",
            "[7. 6.]     [7.1135974 6.1976852]\n",
            "[10.  9.]     [10.145757  9.001227]\n",
            "[11. 38.]     [11.180522 38.205322]\n",
            "[ 1. 50.]     [ 1.1962987 50.25032  ]\n",
            "[ 8. 35.]     [ 7.9587903 36.229626 ]\n",
            "[0. 6.]     [0.07277957 5.931678  ]\n",
            "[ 3. 29.]     [ 3.2247157 29.377058 ]\n",
            "[ 0. 24.]     [ 0.13959159 24.399393  ]\n",
            "[ 3. 14.]     [ 3.0720959 13.812291 ]\n",
            "[ 2. 20.]     [ 2.183445 20.271078]\n",
            "[ 2. 52.]     [ 2.234925 52.516617]\n",
            "[11. 36.]     [11.188321 36.855106]\n",
            "[ 3. 48.]     [ 3.182866 48.219707]\n",
            "[ 0. 39.]     [ 0.10099211 38.98799   ]\n",
            "[ 0. 52.]     [ 0.3900284 52.81065  ]\n",
            "[ 4. 46.]     [ 4.0364385 46.208782 ]\n",
            "[2. 6.]     [2.0296628 7.014537 ]\n",
            "[ 4. 52.]     [ 4.1227474 52.540913 ]\n",
            "[10. 13.]     [10.059505 13.309037]\n",
            "[ 1. 14.]     [ 1.0802168 14.1109   ]\n",
            "[ 8. 20.]     [ 8.043534 20.263603]\n",
            "[9. 3.]     [8.982227  3.0941386]\n",
            "[ 9. 38.]     [ 9.006974 38.346172]\n",
            "[ 1. 13.]     [ 1.072138 12.730967]\n",
            "[ 8. 25.]     [ 7.9717574 25.465237 ]\n",
            "[10. 10.]     [10.117988 10.088434]\n",
            "[11. 52.]     [11.159975 52.619297]\n",
            "[ 5. 53.]     [ 5.103865 53.382366]\n",
            "[ 8. 42.]     [ 8.22219  42.264206]\n",
            "[1. 4.]     [0.9380133 4.5738597]\n",
            "[ 5. 58.]     [ 5.152753 57.957092]\n",
            "[ 7. 25.]     [ 6.982257 25.885195]\n",
            "[ 6. 33.]     [ 6.075629 33.330803]\n",
            "[ 4. 42.]     [ 4.061707 42.05274 ]\n",
            "[ 4. 25.]     [ 4.0530415 25.419483 ]\n",
            "[ 4. 45.]     [ 3.997344 45.143574]\n",
            "[6. 4.]     [5.990951  4.2767186]\n",
            "[2. 9.]     [1.8991537 9.013758 ]\n",
            "[ 2. 26.]     [ 2.0466006 26.022217 ]\n",
            "[9. 4.]     [9.02258  4.146385]\n",
            "[ 5. 15.]     [ 5.0950184 15.033331 ]\n",
            "[11. 29.]     [11.275939 29.389973]\n",
            "[11. 20.]     [11.154163 20.206573]\n",
            "[ 2. 16.]     [ 2.1261282 15.846092 ]\n",
            "[1. 1.]     [0.8339181 1.1936057]\n",
            "[ 5. 15.]     [ 5.095018 15.033331]\n",
            "[10. 51.]     [10.13625  51.387558]\n",
            "[ 1. 25.]     [ 0.9860915 25.644764 ]\n",
            "[ 9. 48.]     [ 9.10805 48.60654]\n",
            "[11. 34.]     [11.213644 34.592937]\n",
            "[5. 1.]     [5.140384  1.1471378]\n",
            "[ 5. 16.]     [ 5.0966454 15.994579 ]\n",
            "[ 2. 55.]     [ 2.2506015 55.43178  ]\n",
            "[ 2. 28.]     [ 2.1549075 28.15583  ]\n",
            "[1. 1.]     [0.8339181 1.1936057]\n",
            "[ 2. 40.]     [ 2.2003791 40.21374  ]\n",
            "[ 0. 49.]     [ 0.16644205 49.331314  ]\n",
            "[11.  2.]     [11.238356   1.7722325]\n",
            "[ 2. 37.]     [ 2.0844042 37.46074  ]\n",
            "[11.  0.]     [10.988043    0.24268635]\n",
            "[ 2. 37.]     [ 2.0844042 37.46074  ]\n",
            "[ 3. 52.]     [ 3.152007 52.64194 ]\n",
            "[7. 2.]     [6.9184465 2.071821 ]\n",
            "[ 0. 35.]     [ 0.19137014 35.57735   ]\n",
            "[ 0. 54.]     [ 0.4394559 51.238773 ]\n",
            "[ 7. 20.]     [ 7.0651636 20.276863 ]\n",
            "[ 0. 15.]     [ 0.23773839 14.046809  ]\n",
            "[ 2. 16.]     [ 2.1261282 15.846092 ]\n",
            "[ 8. 17.]     [ 8.027485 17.040527]\n",
            "[ 5. 54.]     [ 5.1449594 54.800945 ]\n",
            "[ 3. 53.]     [ 3.2196712 53.541424 ]\n",
            "[ 3. 32.]     [ 3.15134  33.002968]\n",
            "[ 8. 57.]     [ 8.132446 57.177307]\n",
            "[ 6. 29.]     [ 6.0370975 29.179825 ]\n",
            "[ 2. 19.]     [ 2.181806 19.116978]\n",
            "[ 8. 58.]     [ 8.112006 58.079857]\n",
            "[ 6. 36.]     [ 5.99778  36.394672]\n",
            "[ 2. 30.]     [ 2.1375928 30.738235 ]\n",
            "[ 9. 37.]     [ 9.02971  37.570087]\n",
            "[10. 44.]     [10.105361 44.003536]\n",
            "[10. 31.]     [ 9.937229 31.13239 ]\n",
            "[7. 5.]     [7.1291637 5.2358813]\n",
            "[10.  2.]     [10.168279   2.2947502]\n",
            "[ 3. 23.]     [ 3.1168733 23.529636 ]\n",
            "[ 5. 21.]     [ 5.1892233 21.402166 ]\n",
            "[ 7. 48.]     [ 7.0046844 48.136204 ]\n",
            "[ 8. 23.]     [ 8.002912 23.28795 ]\n",
            "[ 5. 17.]     [ 5.0006976 17.014801 ]\n",
            "[ 0. 51.]     [ 0.23930372 51.737812  ]\n",
            "[11. 39.]     [11.162438 39.192616]\n",
            "[ 3. 23.]     [ 3.1168735 23.529636 ]\n",
            "[ 8. 35.]     [ 7.9587903 36.22962  ]\n",
            "[10.  1.]     [10.113184   1.1613436]\n",
            "[ 9. 27.]     [ 8.947992 27.193617]\n",
            "[11. 39.]     [11.162437 39.192616]\n",
            "[10. 42.]     [10.048493 42.171436]\n",
            "[ 8. 59.]     [ 8.009316 59.48097 ]\n",
            "[ 5. 42.]     [ 5.070604 41.76759 ]\n",
            "[ 1. 55.]     [ 1.1194216 56.31688  ]\n",
            "[ 5. 34.]     [ 5.0569353 33.64497  ]\n",
            "[ 9. 27.]     [ 8.947992 27.193617]\n",
            "[ 8. 51.]     [ 8.090165 51.28998 ]\n",
            "[1. 6.]     [1.2578822 6.7436295]\n",
            "[ 3. 19.]     [ 3.0972457 18.980942 ]\n",
            "[ 7. 44.]     [ 6.958478 44.09094 ]\n",
            "[ 9. 57.]     [ 9.304517 58.844242]\n",
            "[ 4. 27.]     [ 4.094195 26.912968]\n",
            "[ 9. 34.]     [ 8.961563 34.56147 ]\n",
            "[ 3. 51.]     [ 3.1818633 51.62473  ]\n",
            "[10. 58.]     [10.650148 58.109688]\n",
            "[4. 6.]     [4.144275  5.8867836]\n",
            "[ 9. 49.]     [ 8.769272 46.327656]\n",
            "[ 5. 20.]     [ 5.1970778 20.123127 ]\n",
            "[10. 53.]     [ 9.969887 51.135105]\n",
            "[11. 47.]     [11.130231 47.276356]\n",
            "[ 4. 47.]     [ 3.9623847 47.165337 ]\n",
            "[ 1. 54.]     [ 1.1537899 55.12655  ]\n",
            "[ 3. 27.]     [ 3.0620933 27.918812 ]\n",
            "[9. 7.]     [9.080872 7.074194]\n",
            "[10. 36.]     [10.009172 36.753452]\n",
            "[9. 0.]     [9.161923  0.0338376]\n",
            "[ 2. 57.]     [ 2.1938934 57.460777 ]\n",
            "[ 5. 29.]     [ 5.1069717 29.518188 ]\n",
            "[ 0. 59.]     [ 0.12378778 59.45666   ]\n",
            "[ 3. 15.]     [ 3.1388009 17.151281 ]\n",
            "[3. 9.]     [3.0683079 9.230988 ]\n",
            "[1. 1.]     [0.8339181 1.1936057]\n",
            "[ 6. 15.]     [ 6.0806923 14.972153 ]\n",
            "[ 9. 44.]     [ 9.1057415 44.421185 ]\n",
            "[ 0. 50.]     [ 0.16510238 50.723682  ]\n",
            "[10. 23.]     [10.008236 22.938   ]\n",
            "[8. 9.]     [8.056338 9.129578]\n",
            "[ 8. 52.]     [ 8.152742 52.363   ]\n",
            "[10. 21.]     [10.2027445 21.284111 ]\n",
            "[ 7. 42.]     [ 7.1150875 42.46864  ]\n",
            "[ 0. 28.]     [ 0.2074839 28.886932 ]\n",
            "[10. 15.]     [ 9.960487 15.235916]\n",
            "[ 1. 27.]     [ 0.9970069 27.185677 ]\n",
            "[11. 10.]     [11.114953 10.0791  ]\n",
            "[ 6. 11.]     [ 6.1696143 10.897715 ]\n",
            "[ 1. 48.]     [ 1.1161045 48.349026 ]\n",
            "[ 2. 50.]     [ 2.2316222 50.36482  ]\n",
            "[ 6. 46.]     [ 6.1009245 46.420788 ]\n",
            "[ 9. 39.]     [ 9.020333 39.047184]\n",
            "[8. 6.]     [8.031548 6.254269]\n",
            "[11. 25.]     [11.246517 25.582138]\n",
            "[ 0. 58.]     [ 0.27481857 58.950993  ]\n",
            "[11. 46.]     [10.93651  46.258205]\n",
            "[ 8. 46.]     [ 8.069045 46.668392]\n",
            "[ 5. 40.]     [ 5.0773525 40.183628 ]\n",
            "[11. 25.]     [11.246517 25.582138]\n",
            "[2. 7.]     [2.122011 6.775054]\n",
            "[ 6. 21.]     [ 6.107264 21.304617]\n",
            "[ 6. 18.]     [ 6.08292  18.005033]\n",
            "[ 8. 18.]     [ 8.059221 18.046585]\n",
            "[ 8. 43.]     [ 7.78509  42.216095]\n",
            "[ 2. 20.]     [ 2.183445 20.271078]\n",
            "[1. 3.]     [0.74270606 3.0822332 ]\n",
            "[11. 13.]     [11.206142 12.429878]\n",
            "[11. 30.]     [11.273338 30.458836]\n",
            "[10. 59.]     [10.524802 61.246346]\n",
            "[ 0. 54.]     [ 0.43945566 51.238773  ]\n",
            "[6. 2.]     [6.0772443 2.231787 ]\n",
            "[ 4. 28.]     [ 4.083923 28.197058]\n",
            "[11. 32.]     [11.231671 32.49053 ]\n",
            "[ 8. 27.]     [ 7.964993 26.907076]\n",
            "[ 7. 26.]     [ 6.944378 26.147354]\n",
            "[ 6. 53.]     [ 6.1116204 54.262615 ]\n",
            "[0. 3.]     [0.69768614 3.3929694 ]\n",
            "[11. 53.]     [11.3038645 53.203182 ]\n",
            "[ 1. 14.]     [ 1.0802165 14.1109   ]\n",
            "[1. 9.]     [1.0114924 8.598362 ]\n",
            "[10. 37.]     [ 9.998264 36.96732 ]\n",
            "[2. 0.]     [2.2888117 1.2938473]\n",
            "[0. 5.]     [0.39736065 4.1913114 ]\n",
            "[ 5. 54.]     [ 5.1449594 54.800945 ]\n",
            "[7. 1.]     [7.0374575 0.8427541]\n",
            "[10. 22.]     [10.054559 21.91965 ]\n",
            "[ 8. 33.]     [ 8.003724 33.2747  ]\n",
            "[ 5. 35.]     [ 5.0570965 35.567944 ]\n",
            "[ 0. 16.]     [ 0.12877525 16.09227   ]\n",
            "[9. 5.]     [8.941954 5.396185]\n",
            "[ 5. 29.]     [ 5.1069717 29.518188 ]\n",
            "[8. 6.]     [8.031548 6.254269]\n",
            "[ 8. 20.]     [ 8.043534 20.263603]\n",
            "[ 1. 52.]     [ 1.1650563 52.521084 ]\n",
            "[ 0. 50.]     [ 0.16510142 50.723682  ]\n",
            "[ 4. 29.]     [ 4.214794 29.959085]\n",
            "[ 7. 48.]     [ 7.0046844 48.136204 ]\n",
            "[ 5. 42.]     [ 5.070604 41.76759 ]\n",
            "[ 7. 17.]     [ 7.0084877 17.185497 ]\n",
            "[ 8. 44.]     [ 7.872068 44.085922]\n",
            "[11. 34.]     [11.213643 34.592937]\n",
            "[ 5. 50.]     [ 5.170455 50.387646]\n",
            "[ 5. 36.]     [ 5.040771 36.5144  ]\n",
            "[11. 52.]     [11.159975 52.619297]\n",
            "[10. 55.]     [10.227184 50.15733 ]\n",
            "[11. 33.]     [11.20773  33.645107]\n",
            "[ 8. 28.]     [ 7.9943275 28.129366 ]\n",
            "[ 0. 53.]     [ 0.45391884 53.713917  ]\n",
            "[ 2. 43.]     [ 2.1613874 42.97742  ]\n",
            "[ 2. 16.]     [ 2.1261282 15.846092 ]\n",
            "[ 2. 21.]     [ 2.1109333 21.069138 ]\n",
            "[ 2. 49.]     [ 2.0817914 49.31458  ]\n",
            "[ 5. 53.]     [ 5.103865 53.382366]\n",
            "[11.  5.]     [11.276552  5.383401]\n",
            "[ 2. 51.]     [ 2.2184892 51.44538  ]\n",
            "[ 5. 10.]     [ 5.0561733 10.060146 ]\n",
            "[ 7. 46.]     [ 7.105935 46.92497 ]\n",
            "[3. 4.]     [3.1937299 4.141442 ]\n",
            "[7. 5.]     [7.1291637 5.2358813]\n",
            "[ 0. 14.]     [ 0.16836406 13.423382  ]\n",
            "[11. 22.]     [11.153095 22.294872]\n",
            "[ 7. 24.]     [ 7.0422454 24.294874 ]\n",
            "[ 4. 35.]     [ 4.0848618 34.92483  ]\n",
            "[2. 1.]     [1.957806  2.4566875]\n",
            "[4. 1.]     [4.1201363 1.2662247]\n",
            "[ 0. 26.]     [ 0.05084076 26.735886  ]\n",
            "[ 1. 18.]     [ 1.14901  18.256905]\n",
            "[ 8. 12.]     [ 8.112029 12.208669]\n",
            "[ 1. 56.]     [ 1.1996039 56.797894 ]\n",
            "[ 1. 55.]     [ 1.1194221 56.316883 ]\n",
            "[10.  7.]     [10.1206875  7.1468587]\n",
            "[2. 9.]     [1.8991537 9.013758 ]\n",
            "[10. 48.]     [10.074777 47.946556]\n",
            "[11. 37.]     [11.20294  37.341534]\n",
            "[ 2. 39.]     [ 2.044747 39.413445]\n",
            "[ 2. 59.]     [ 1.9893543 59.81408  ]\n",
            "[ 1. 41.]     [ 1.0325736 41.18809  ]\n",
            "[ 8. 52.]     [ 8.152741 52.363   ]\n",
            "[2. 1.]     [1.9578061 2.4566875]\n",
            "[8. 8.]     [8.100529 8.167715]\n",
            "[0. 6.]     [0.07277963 5.931678  ]\n",
            "[ 9. 30.]     [ 9.200014 29.411766]\n",
            "[ 5. 42.]     [ 5.0706043 41.76759  ]\n",
            "[ 9. 59.]     [ 9.257516 59.154293]\n",
            "[ 4. 18.]     [ 4.1371336 17.780163 ]\n",
            "[ 9. 37.]     [ 9.029709 37.570087]\n",
            "[ 6. 32.]     [ 6.108786 32.528084]\n",
            "[1. 6.]     [1.2578824 6.7436295]\n",
            "[ 8. 19.]     [ 8.128146 18.887173]\n",
            "[ 9. 20.]     [ 8.982276 19.958433]\n",
            "[ 4. 57.]     [ 4.139543 57.29822 ]\n",
            "[ 2. 18.]     [ 2.147191 17.857967]\n",
            "[8. 1.]     [8.12293   0.8729721]\n",
            "[11.  8.]     [11.103775  8.178786]\n",
            "[8. 3.]     [8.09946   2.9379287]\n",
            "[ 3. 57.]     [ 3.1813664 57.599453 ]\n",
            "[ 8. 12.]     [ 8.112029 12.208671]\n",
            "[11. 53.]     [11.3038645 53.203182 ]\n",
            "[ 8. 40.]     [ 8.051359 43.41474 ]\n",
            "[ 4. 24.]     [ 4.0863266 24.316929 ]\n",
            "[ 6. 39.]     [ 6.1186056 39.454906 ]\n",
            "[11. 58.]     [11.103824 58.726814]\n",
            "[10. 59.]     [10.524802 61.246346]\n",
            "[11. 35.]     [11.169091 36.06176 ]\n",
            "[ 7. 55.]     [ 7.1796565 56.599815 ]\n",
            "[ 4. 49.]     [ 4.03126 49.57782]\n",
            "[ 3. 32.]     [ 3.1513412 33.002968 ]\n",
            "[2. 2.]     [2.1136734 2.3899927]\n",
            "[ 6. 11.]     [ 6.1696143 10.897715 ]\n",
            "[11. 41.]     [11.271761 41.180595]\n",
            "[10. 38.]     [ 9.950094 37.92863 ]\n",
            "[ 7. 28.]     [ 7.0457745 28.5228   ]\n",
            "[ 2. 52.]     [ 2.234925 52.516617]\n",
            "[4. 6.]     [4.1442747 5.8867836]\n",
            "[ 4. 34.]     [ 4.0860586 34.246494 ]\n",
            "[10. 40.]     [10.000609 40.991837]\n",
            "[ 3. 56.]     [ 3.19065 56.58708]\n",
            "[ 4. 13.]     [ 4.1181083 12.987701 ]\n",
            "[ 3. 41.]     [ 3.11586  41.517914]\n",
            "[ 2. 37.]     [ 2.084405 37.46074 ]\n",
            "[11. 50.]     [11.103557 50.621223]\n",
            "[5. 9.]     [5.0106826 8.9701395]\n",
            "[ 9. 45.]     [ 9.09892  45.550488]\n",
            "[7. 8.]     [7.1037183 8.342726 ]\n",
            "[11. 56.]     [11.332197 56.39536 ]\n",
            "[ 4. 32.]     [ 4.047539 32.669804]\n",
            "[ 9. 38.]     [ 9.006974 38.346172]\n",
            "[ 9. 17.]     [ 9.058548 16.919914]\n",
            "[10. 16.]     [ 9.897944 16.41538 ]\n",
            "[ 6. 49.]     [ 6.0909677 49.525196 ]\n",
            "[ 9. 52.]     [ 9.1620245 52.776775 ]\n",
            "[ 4. 43.]     [ 4.112965 43.23444 ]\n",
            "[10. 39.]     [10.023571 39.881847]\n",
            "[10. 27.]     [ 9.993705 27.307787]\n",
            "[9. 9.]     [9.016541 9.050015]\n",
            "[ 0. 25.]     [ 0.17553426 25.028221  ]\n",
            "[11. 30.]     [11.273337 30.458832]\n",
            "[ 1. 43.]     [ 1.1572102 43.217113 ]\n",
            "[ 0. 15.]     [ 0.23773839 14.046809  ]\n",
            "[ 2. 27.]     [ 2.0963483 26.888687 ]\n",
            "[ 6. 34.]     [ 6.1179695 34.40935  ]\n",
            "[ 9. 27.]     [ 8.947992 27.193617]\n",
            "[3. 3.]     [3.183804  2.9810789]\n",
            "[ 9. 48.]     [ 9.10805 48.60654]\n",
            "[10.  0.]     [10.092805    0.09269337]\n",
            "[ 2. 40.]     [ 2.2003791 40.21374  ]\n",
            "[ 2. 49.]     [ 2.0817904 49.31458  ]\n",
            "[ 0. 21.]     [ 0.03677239 22.037586  ]\n",
            "[ 7. 46.]     [ 7.105935 46.92497 ]\n",
            "[ 3. 17.]     [ 3.120166 17.663513]\n",
            "[ 9. 53.]     [ 9.216389 54.01172 ]\n",
            "[ 1. 58.]     [ 1.1844193 58.281868 ]\n",
            "[ 3. 34.]     [ 3.1387043 34.840908 ]\n",
            "[ 5. 46.]     [ 5.02514 46.22453]\n",
            "[ 8. 25.]     [ 7.9717574 25.465237 ]\n",
            "[ 4. 25.]     [ 4.0530415 25.419483 ]\n",
            "[ 0. 14.]     [ 0.16836466 13.423382  ]\n",
            "[ 0. 44.]     [ 0.07961192 44.3019    ]\n",
            "[ 5. 57.]     [ 5.023384 57.63229 ]\n",
            "[6. 4.]     [5.990951  4.2767186]\n",
            "[ 1. 13.]     [ 1.0721377 12.730966 ]\n",
            "[ 4. 49.]     [ 4.03126 49.57782]\n",
            "[10.  1.]     [10.113184   1.1613436]\n",
            "[ 1. 13.]     [ 1.072138 12.730967]\n",
            "[ 1. 52.]     [ 1.1650561 52.521088 ]\n",
            "[10. 12.]     [10.085333 12.04368 ]\n",
            "[7. 7.]     [7.050683 7.35174 ]\n",
            "[ 5. 39.]     [ 5.1130238 39.184875 ]\n",
            "[ 5. 33.]     [ 5.1992817 32.369534 ]\n",
            "[10. 22.]     [10.054559 21.91965 ]\n",
            "[ 2. 49.]     [ 2.0817904 49.31458  ]\n",
            "[ 6. 36.]     [ 5.997779 36.394672]\n",
            "[ 9. 39.]     [ 9.020333 39.047184]\n",
            "[ 5. 36.]     [ 5.0407715 36.5144   ]\n",
            "[ 1. 56.]     [ 1.1996039 56.797894 ]\n",
            "[ 2. 28.]     [ 2.1549075 28.15583  ]\n",
            "[11. 44.]     [11.212909 43.887676]\n",
            "[ 8. 44.]     [ 7.872068 44.085922]\n",
            "[ 8. 19.]     [ 8.128146 18.887173]\n",
            "[ 8. 22.]     [ 7.9804125 22.307442 ]\n",
            "[ 5. 50.]     [ 5.170454 50.387646]\n",
            "[10. 17.]     [ 9.906281 17.399893]\n",
            "[ 8. 17.]     [ 8.027485 17.040527]\n",
            "[7. 2.]     [6.9184465 2.0718207]\n",
            "[ 0. 37.]     [ 0.15349592 37.5154    ]\n",
            "[7. 7.]     [7.0506825 7.3517394]\n",
            "[ 5. 23.]     [ 5.069391 23.521954]\n",
            "[ 9. 21.]     [ 8.875539 21.501492]\n",
            "[ 1. 55.]     [ 1.1194216 56.31688  ]\n",
            "[ 2. 51.]     [ 2.2184892 51.445377 ]\n",
            "[6. 9.]     [6.0409665 9.0807085]\n",
            "[ 2. 57.]     [ 2.1938934 57.460777 ]\n",
            "[ 4. 57.]     [ 4.139543 57.29822 ]\n",
            "[ 7. 44.]     [ 6.958478 44.09094 ]\n",
            "[10. 39.]     [10.023571 39.881847]\n",
            "[ 7. 33.]     [ 6.9974384 33.59278  ]\n",
            "[ 6. 10.]     [ 6.0992804 10.09816  ]\n",
            "[ 8. 55.]     [ 8.434497 54.828453]\n",
            "[ 5. 43.]     [ 5.0992002 42.92232  ]\n",
            "[7. 3.]     [6.907304  3.1242101]\n",
            "[ 1. 59.]     [ 1.2476281 59.545704 ]\n",
            "[ 6. 34.]     [ 6.1179695 34.40935  ]\n",
            "[ 8. 30.]     [ 8.159018 30.728302]\n",
            "[ 0. 28.]     [ 0.2074839 28.886932 ]\n",
            "[1. 0.]     [1.199914   0.02111848]\n",
            "[11. 53.]     [11.3038645 53.203182 ]\n",
            "[11. 57.]     [10.155622 56.472595]\n",
            "[4. 5.]     [4.0779867 4.8572836]\n",
            "[ 1. 35.]     [ 1.0437185 35.373615 ]\n",
            "[ 2. 47.]     [ 2.143262 47.159836]\n",
            "[9. 2.]     [8.974757  2.0282276]\n",
            "[11. 11.]     [11.103625 11.000664]\n",
            "[ 3. 49.]     [ 3.1364367 49.09374  ]\n",
            "[ 7. 54.]     [ 7.110768 55.05672 ]\n",
            "[11. 56.]     [11.332197 56.39536 ]\n",
            "[ 8. 17.]     [ 8.027485 17.04053 ]\n",
            "[ 0. 12.]     [ 0.10511269 11.975873  ]\n",
            "[ 5. 31.]     [ 5.056844 31.387045]\n",
            "[ 6. 40.]     [ 6.0337143 40.795258 ]\n",
            "[10.  1.]     [10.113183   1.1613436]\n",
            "[ 5. 23.]     [ 5.069391 23.521954]\n",
            "[7. 3.]     [6.907304  3.1242101]\n",
            "[ 8. 40.]     [ 8.051359 43.41474 ]\n",
            "[ 2. 50.]     [ 2.2316222 50.36482  ]\n",
            "[ 1. 33.]     [ 1.0747846 33.896038 ]\n",
            "[ 2. 11.]     [ 2.1808271 11.567904 ]\n",
            "[ 8. 47.]     [ 8.037078 47.147865]\n",
            "[ 7. 56.]     [ 7.3500423 56.619118 ]\n",
            "[10. 46.]     [10.081001 45.34054 ]\n",
            "[ 4. 14.]     [ 4.138071 13.995417]\n",
            "[ 1. 22.]     [ 1.2997944 22.251976 ]\n",
            "[ 2. 26.]     [ 2.0465999 26.022217 ]\n",
            "[11. 39.]     [11.162437 39.192616]\n",
            "[ 4. 47.]     [ 3.9623847 47.165337 ]\n",
            "[10.  6.]     [10.130597  6.020792]\n",
            "[ 8. 25.]     [ 7.9717574 25.465233 ]\n",
            "[10. 27.]     [ 9.993705 27.307785]\n",
            "[9. 1.]     [9.129437  0.7738071]\n",
            "[ 4. 19.]     [ 4.0830765 18.803698 ]\n",
            "[ 6. 26.]     [ 5.9698744 26.486263 ]\n",
            "[ 2. 25.]     [ 2.0464458 25.711433 ]\n",
            "[ 5. 57.]     [ 5.023385 57.632286]\n",
            "[ 4. 35.]     [ 4.0848618 34.92483  ]\n",
            "[ 2. 30.]     [ 2.1375928 30.738235 ]\n",
            "[ 1. 34.]     [ 1.0635768 34.734383 ]\n",
            "[ 2. 39.]     [ 2.044747 39.41344 ]\n",
            "[11. 30.]     [11.273337 30.458832]\n",
            "[ 5. 58.]     [ 5.152752 57.957092]\n",
            "[9. 1.]     [9.1294365 0.7738076]\n",
            "[ 4. 51.]     [ 4.117344 51.60407 ]\n",
            "[10. 59.]     [10.524802 61.246346]\n",
            "[ 0. 13.]     [ 0.11603763 12.941911  ]\n",
            "[ 4. 51.]     [ 4.117344 51.60406 ]\n",
            "[ 8. 36.]     [ 7.969443 36.739315]\n",
            "[ 1. 12.]     [ 1.1335346 12.098472 ]\n",
            "[ 8. 35.]     [ 7.9587903 36.22962  ]\n",
            "[ 9. 25.]     [ 8.920328 24.83357 ]\n",
            "[ 4. 10.]     [ 3.890358 10.5053  ]\n",
            "[ 3. 10.]     [ 2.9413784 10.388443 ]\n",
            "[ 0. 55.]     [ 0.43349996 53.101223  ]\n",
            "[ 6. 20.]     [ 6.0965977 19.935123 ]\n",
            "[ 2. 20.]     [ 2.183445 20.271078]\n",
            "[ 7. 13.]     [ 6.945166 13.168831]\n",
            "[10.  2.]     [10.168278   2.2947505]\n",
            "[ 7. 30.]     [ 7.0767245 30.461567 ]\n",
            "[ 0. 27.]     [ 0.15560617 27.666544  ]\n",
            "[8. 6.]     [8.031548 6.254269]\n",
            "[ 2. 50.]     [ 2.2316222 50.36482  ]\n",
            "[ 8. 15.]     [ 7.975829 15.092627]\n",
            "[ 5. 43.]     [ 5.0992  42.92232]\n",
            "[10. 48.]     [10.074777 47.946556]\n",
            "[ 7. 51.]     [ 7.067738 51.371464]\n",
            "[ 6. 24.]     [ 6.055566 24.267736]\n",
            "[4. 3.]     [4.117822  3.4591923]\n",
            "[ 9. 24.]     [ 8.937682 24.316742]\n",
            "[ 6. 11.]     [ 6.1696143 10.897715 ]\n",
            "[ 5. 55.]     [ 5.343562 55.675163]\n",
            "[ 3. 56.]     [ 3.1906493 56.58708  ]\n",
            "[11. 32.]     [11.231671 32.49053 ]\n",
            "[1. 8.]     [1.013501 8.09984 ]\n",
            "[ 6. 58.]     [ 6.0633826 58.191994 ]\n",
            "[ 5. 10.]     [ 5.0561733 10.060146 ]\n",
            "[ 4. 21.]     [ 4.109846 21.775455]\n",
            "[5. 3.]     [5.0944467 3.1393921]\n",
            "[ 4. 50.]     [ 4.1035147 50.443882 ]\n",
            "[ 6. 11.]     [ 6.1696143 10.897715 ]\n",
            "[ 7. 32.]     [ 7.0370407 32.832993 ]\n",
            "[ 0. 15.]     [ 0.23773839 14.046809  ]\n",
            "[ 3. 59.]     [ 3.087814 58.96763 ]\n",
            "[11. 41.]     [11.271761 41.180595]\n",
            "[ 0. 17.]     [ 0.09123518 17.155865  ]\n",
            "[ 4. 34.]     [ 4.0860586 34.246494 ]\n",
            "[ 4. 11.]     [ 4.013423 10.795632]\n",
            "[ 6. 48.]     [ 6.018222 48.365997]\n",
            "[ 1. 43.]     [ 1.1572105 43.217113 ]\n",
            "[ 9. 26.]     [ 8.959048 26.28213 ]\n",
            "[ 0. 38.]     [ 0.12106266 38.384808  ]\n",
            "[ 7. 50.]     [ 7.0930023 50.10799  ]\n",
            "[ 6. 32.]     [ 6.108786 32.528084]\n",
            "[ 1. 44.]     [ 1.0232712 44.088726 ]\n",
            "[11.  1.]     [10.789914   0.9804631]\n",
            "[ 3. 21.]     [ 3.1888518 21.11545  ]\n",
            "[ 8. 44.]     [ 7.8720684 44.085922 ]\n",
            "[ 6. 46.]     [ 6.1009254 46.420788 ]\n",
            "[ 2. 26.]     [ 2.0466006 26.022217 ]\n",
            "[11. 27.]     [11.186835 27.177563]\n",
            "[ 7. 19.]     [ 7.0848308 19.26237  ]\n",
            "[ 5. 30.]     [ 5.1241984 30.211155 ]\n",
            "[ 3. 35.]     [ 3.0565662 35.52628  ]\n",
            "[ 9. 35.]     [ 8.99694  35.264324]\n",
            "[11. 36.]     [11.188321 36.855106]\n",
            "[10. 26.]     [10.013546 26.273602]\n",
            "[ 3. 31.]     [ 3.1185083 31.060343 ]\n",
            "[ 1. 59.]     [ 1.2476286 59.545704 ]\n",
            "[4. 6.]     [4.144275  5.8867836]\n",
            "[7. 7.]     [7.0506825 7.3517394]\n",
            "[ 3. 28.]     [ 3.0943692 29.38549  ]\n",
            "[ 9. 47.]     [ 9.010262 46.709442]\n",
            "[ 9. 35.]     [ 8.99694  35.264324]\n",
            "[ 5. 31.]     [ 5.056844 31.387045]\n",
            "[ 9. 28.]     [ 9.083598 28.350601]\n",
            "[ 5. 24.]     [ 5.069459 24.30725 ]\n",
            "[7. 3.]     [6.9073043 3.1242101]\n",
            "[ 1. 38.]     [ 1.0941757 38.317677 ]\n",
            "[ 0. 50.]     [ 0.16510142 50.723682  ]\n",
            "[ 9. 16.]     [ 8.980453 15.95841 ]\n",
            "[ 6. 35.]     [ 6.0921125 35.460968 ]\n",
            "[ 0. 10.]     [ 0.1599846 10.087359 ]\n",
            "[11. 12.]     [11.042797 12.20241 ]\n",
            "[ 0. 54.]     [ 0.43945566 51.238773  ]\n",
            "[ 9. 52.]     [ 9.1620245 52.776775 ]\n",
            "[2. 5.]     [2.1508508 5.480502 ]\n",
            "[ 9. 47.]     [ 9.010263 46.709442]\n",
            "[ 5. 11.]     [ 5.071479  11.1259575]\n",
            "[3. 0.]     [3.1075249  0.28705466]\n",
            "[ 6. 58.]     [ 6.0633826 58.191994 ]\n",
            "[10. 53.]     [ 9.969886 51.135105]\n",
            "[ 2. 31.]     [ 2.0984075 31.877525 ]\n",
            "[11. 43.]     [11.391182 43.095993]\n",
            "[ 3. 28.]     [ 3.0943696 29.385494 ]\n",
            "[ 9. 49.]     [ 8.769273 46.327652]\n",
            "[3. 1.]     [3.0172327 0.9664585]\n",
            "[10. 47.]     [10.17289 47.92168]\n",
            "[ 4. 37.]     [ 4.052024 37.60039 ]\n",
            "[10. 47.]     [10.17289 47.92168]\n",
            "[ 7. 11.]     [ 7.184025 11.02881 ]\n",
            "[ 6. 12.]     [ 6.100007 11.978806]\n",
            "[ 4. 54.]     [ 4.1500516 54.811424 ]\n",
            "[ 2. 45.]     [ 2.1529143 44.89526  ]\n",
            "[ 3. 14.]     [ 3.0720956 13.812291 ]\n",
            "[ 0. 23.]     [ 0.14546801 23.396378  ]\n",
            "[ 4. 39.]     [ 4.07807 39.78029]\n",
            "[ 0. 34.]     [ 0.23436631 34.958157  ]\n",
            "[ 5. 15.]     [ 5.095018 15.033331]\n",
            "[ 9. 55.]     [ 9.093058 55.359875]\n",
            "[ 6. 32.]     [ 6.108786 32.528084]\n",
            "[ 1. 21.]     [ 1.0853113 19.88938  ]\n",
            "[9. 9.]     [9.016541 9.050015]\n",
            "[6. 6.]     [6.065993  5.9047613]\n",
            "[4. 8.]     [4.1463327 8.089581 ]\n",
            "[10. 19.]     [10.12018 19.09038]\n",
            "[ 3. 22.]     [ 3.3238916 22.35683  ]\n",
            "[ 1. 32.]     [ 1.0267376 32.509132 ]\n",
            "[ 9. 48.]     [ 9.10805 48.60654]\n",
            "[10.  1.]     [10.113184   1.1613436]\n",
            "[ 9. 24.]     [ 8.937681 24.316742]\n",
            "[11. 21.]     [11.123685 21.386364]\n",
            "[7. 8.]     [7.1037183 8.342726 ]\n",
            "[ 7. 26.]     [ 6.944378 26.147354]\n",
            "[ 0. 19.]     [ 0.11354341 19.053902  ]\n",
            "[1. 1.]     [0.8339181 1.1936057]\n",
            "[ 6. 34.]     [ 6.1179695 34.40935  ]\n",
            "[10. 39.]     [10.023571 39.881847]\n",
            "[ 0. 38.]     [ 0.12106314 38.384808  ]\n",
            "[6. 9.]     [6.0409665 9.0807085]\n",
            "[ 8. 53.]     [ 8.123237 53.442505]\n",
            "[7. 8.]     [7.1037183 8.342726 ]\n",
            "[ 7. 54.]     [ 7.110768 55.05672 ]\n",
            "[ 7. 39.]     [ 6.8782845 35.893234 ]\n",
            "[ 0. 33.]     [ 0.22683276 33.995705  ]\n",
            "[10. 51.]     [10.13625  51.387558]\n",
            "[ 6. 32.]     [ 6.108786 32.528084]\n",
            "[ 1. 39.]     [ 1.0978564 39.357418 ]\n",
            "[8. 4.]     [8.139639  4.0665293]\n",
            "[ 7. 21.]     [ 6.999021 21.393267]\n",
            "[11. 37.]     [11.202827 37.34147 ]\n",
            "[ 4. 17.]     [ 4.07532 17.03255]\n",
            "[ 2. 33.]     [ 2.2012944 33.287476 ]\n",
            "[ 4. 28.]     [ 4.083919 28.197195]\n",
            "[9. 8.]     [9.082232 8.111377]\n",
            "[ 7. 32.]     [ 7.0370836 32.832977 ]\n"
          ],
          "name": "stdout"
        }
      ]
    },
    {
      "cell_type": "markdown",
      "metadata": {
        "id": "DDL6drc0J1AZ"
      },
      "source": [
        "# **Método para obtener la precisión**"
      ]
    },
    {
      "cell_type": "code",
      "metadata": {
        "id": "kDPtSAQ_AWRN"
      },
      "source": [
        "def get_accuracy(validation_data, validation_labels):\n",
        "    predictions = np.round(model.predict(validation_data))\n",
        "    error = predictions - validation_labels\n",
        "    a = np.min(np.abs(error), axis=1)\n",
        "    return np.count_nonzero(a==0)/a.shape[0]"
      ],
      "execution_count": 21,
      "outputs": []
    },
    {
      "cell_type": "markdown",
      "metadata": {
        "id": "xHzkm8NkJ4bh"
      },
      "source": [
        "# **Precisión en el conjunto de entrenamiento**"
      ]
    },
    {
      "cell_type": "code",
      "metadata": {
        "id": "VES3-kuCAkgC",
        "colab": {
          "base_uri": "https://localhost:8080/"
        },
        "outputId": "c2a25828-64ee-4e12-e63e-aca573d27a30"
      },
      "source": [
        "print(get_accuracy(train_data, train_labels))"
      ],
      "execution_count": 16,
      "outputs": [
        {
          "output_type": "stream",
          "text": [
            "1.0\n"
          ],
          "name": "stdout"
        }
      ]
    },
    {
      "cell_type": "markdown",
      "metadata": {
        "id": "bLch5zPpJ8DQ"
      },
      "source": [
        "# **Precisión en el conjunto de validación**"
      ]
    },
    {
      "cell_type": "code",
      "metadata": {
        "id": "HBs6Kay0AYTj",
        "colab": {
          "base_uri": "https://localhost:8080/"
        },
        "outputId": "b3d426e8-2f9e-4473-d9a7-3737366cefd1"
      },
      "source": [
        "print(get_accuracy(test_data, test_labels))"
      ],
      "execution_count": 22,
      "outputs": [
        {
          "output_type": "stream",
          "text": [
            "0.993\n"
          ],
          "name": "stdout"
        }
      ]
    }
  ]
}