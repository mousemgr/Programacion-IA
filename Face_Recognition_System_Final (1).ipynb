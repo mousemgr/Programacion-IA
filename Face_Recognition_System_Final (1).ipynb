{
  "nbformat": 4,
  "nbformat_minor": 0,
  "metadata": {
    "colab": {
      "name": "Face_Recognition_System_Final.ipynb",
      "provenance": [],
      "collapsed_sections": []
    },
    "kernelspec": {
      "name": "python3",
      "display_name": "Python 3"
    },
    "accelerator": "GPU"
  },
  "cells": [
    {
      "cell_type": "markdown",
      "metadata": {
        "id": "FHyF7lBP7RlV"
      },
      "source": [
        "Terravic original: http://vcipl-okstate.org/pbvs/bench/Data/04/download.html <br>\n",
        "Link Google Drive: https://drive.google.com/drive/folders/1HhNXDqfuXckBl8EOBi_NEJcyNIVKIcdp?usp=sharing"
      ]
    },
    {
      "cell_type": "code",
      "metadata": {
        "id": "7wFlHdnVW23Y",
        "colab": {
          "base_uri": "https://localhost:8080/"
        },
        "outputId": "56b093a8-05aa-49c8-b229-914bb1a12341"
      },
      "source": [
        "from google.colab import drive\n",
        "drive.mount('/content/drive')"
      ],
      "execution_count": 1,
      "outputs": [
        {
          "output_type": "stream",
          "text": [
            "Mounted at /content/drive\n"
          ],
          "name": "stdout"
        }
      ]
    },
    {
      "cell_type": "code",
      "metadata": {
        "id": "P71-MuIa6f5o"
      },
      "source": [
        "#Importaciones\n",
        "import random, os, shutil\n",
        "import imageio\n",
        "import cv2\n",
        "import numpy as np\n",
        "import PIL"
      ],
      "execution_count": 2,
      "outputs": []
    },
    {
      "cell_type": "markdown",
      "metadata": {
        "id": "ygTol8R3KNrI"
      },
      "source": [
        "# **Descomprimimos la base de datos (unzip)**"
      ]
    },
    {
      "cell_type": "code",
      "metadata": {
        "id": "Aq6WKNncEm-W"
      },
      "source": [
        "from zipfile import ZipFile\n",
        "cont = 0\n",
        "for cont in range(1,21): #cont = 1\n",
        "  if cont < 10 and cont != 5 and cont != 6:\n",
        "    file_name = '/content/drive/My Drive/Terravic_Facial_IR_Database/face0{}.zip'.format(cont)\n",
        "  elif cont >= 10:\n",
        "    file_name = '/content/drive/My Drive/Terravic_Facial_IR_Database/face{}.zip'.format(cont)\n",
        "  with ZipFile(file_name, 'r') as zip: \n",
        "    zip.extractall('Terravic_Original') "
      ],
      "execution_count": 3,
      "outputs": []
    },
    {
      "cell_type": "markdown",
      "metadata": {
        "id": "-34D66Z56tV6"
      },
      "source": [
        "# **Renombramos las clases de la base de datos**"
      ]
    },
    {
      "cell_type": "markdown",
      "metadata": {
        "id": "LyujGlV2ow2a"
      },
      "source": [
        "Esta operación es importante para poder manejar con mayor facilidad los nombres de las carpetas que contienen las imágenes de cada individuo, ya que se debe considerar que las colecciones 5 y 6 están dañadas y no es posible acceder a ellas."
      ]
    },
    {
      "cell_type": "code",
      "metadata": {
        "id": "b6Gz10m7q5dj"
      },
      "source": [
        "import os\n",
        "\n",
        "for i in range(1,21):\n",
        "  if i >= 7 and i <= 9:\n",
        "    os.rename('Terravic_Original/face0{}'.format(i), 'Terravic_Original/face0{}'.format(i - 2))\n",
        "  elif i >= 10 and i <= 11:\n",
        "    os.rename('Terravic_Original/face{}'.format(i), 'Terravic_Original/face0{}'.format(i - 2))\n",
        "  elif i >= 12:\n",
        "    os.rename('Terravic_Original/face{}'.format(i), 'Terravic_Original/face{}'.format(i - 2))"
      ],
      "execution_count": 4,
      "outputs": []
    },
    {
      "cell_type": "markdown",
      "metadata": {
        "id": "UvMCmqgQX3T-"
      },
      "source": [
        "# **Construcción de los conjuntos de entrenamiento, validación y prueba**"
      ]
    },
    {
      "cell_type": "markdown",
      "metadata": {
        "id": "yqvrp83qTucK"
      },
      "source": [
        "**Ordenamos la base de datos aleatoriamente**"
      ]
    },
    {
      "cell_type": "code",
      "metadata": {
        "id": "N69mgHHOgw0w"
      },
      "source": [
        "os.mkdir('Terravic_Shuffled')"
      ],
      "execution_count": 5,
      "outputs": []
    },
    {
      "cell_type": "code",
      "metadata": {
        "id": "Q5MHJGiUjEUu"
      },
      "source": [
        "#Creación de carpetas\n",
        "for i in range(1,19):\n",
        "  if i < 10: #i = 0\n",
        "    dest_train = 'Terravic_Shuffled/face0{}/'.format(i) # dest_train = 'Terravic_Shuffled/face01/'\n",
        "  elif i >= 10:\n",
        "    dest_train = 'Terravic_Shuffled/face{}/'.format(i)\n",
        "  os.mkdir(dest_train)\n",
        "\n",
        "\n",
        "for index_class in range(1,19): #index_class = 1\n",
        "  sample = 0\n",
        "  if index_class < 10: \n",
        "    class_path = 'Terravic_Original/face0{}/'.format(index_class) #class_path = 'Terravic_Original/face01/'\n",
        "  elif index_class >= 10:\n",
        "    class_path = 'Terravic_Original/face{}/'.format(index_class)\n",
        "\n",
        "  #Extracción de las imágenes correspondientes a cada individuo\n",
        "  lst = sorted(os.listdir(class_path))\n",
        "\n",
        "  #Shuffling the dataset\n",
        "  random.shuffle(lst)\n",
        "\n",
        "  for file_name in lst:\n",
        "    img_person = imageio.imread(class_path + file_name)\n",
        "    if index_class < 10:\n",
        "      if sample < 10:                                                       #0000.jpg\n",
        "        imageio.imwrite('Terravic_Shuffled/face0{}/'.format(index_class) + '000{}.jpg'.format(sample), img_person)\n",
        "      elif sample >= 10 and sample < 100:\n",
        "        imageio.imwrite('Terravic_Shuffled/face0{}/'.format(index_class) + '00{}.jpg'.format(sample), img_person)\n",
        "      elif sample >= 100 and sample < 1000:\n",
        "        imageio.imwrite('Terravic_Shuffled/face0{}/'.format(index_class) + '0{}.jpg'.format(sample), img_person)\n",
        "      else:\n",
        "        imageio.imwrite('Terravic_Shuffled/face0{}/'.format(index_class) + '{}.jpg'.format(sample), img_person)\n",
        "      \n",
        "      sample = sample + 1\n",
        "\n",
        "    else:\n",
        "      if sample < 10:\n",
        "        imageio.imwrite('Terravic_Shuffled/face{}/'.format(index_class) + '000{}.jpg'.format(sample), img_person)\n",
        "      elif sample >= 10 and sample < 100:\n",
        "        imageio.imwrite('Terravic_Shuffled/face{}/'.format(index_class) + '00{}.jpg'.format(sample), img_person)\n",
        "      elif sample >= 100 and sample < 1000:\n",
        "        imageio.imwrite('Terravic_Shuffled/face{}/'.format(index_class) + '0{}.jpg'.format(sample), img_person)\n",
        "      else:\n",
        "        imageio.imwrite('Terravic_Shuffled/face{}/'.format(index_class) + '{}.jpg'.format(sample), img_person)\n",
        "      \n",
        "      sample = sample + 1"
      ],
      "execution_count": 6,
      "outputs": []
    },
    {
      "cell_type": "code",
      "metadata": {
        "colab": {
          "base_uri": "https://localhost:8080/"
        },
        "id": "SDVW2l3w0UeG",
        "outputId": "5f6575fa-8dab-4fe9-9541-a88846bb6a72"
      },
      "source": [
        "#Comprobación\n",
        "import os\n",
        "for i in range(1,19):\n",
        "  if i < 10:\n",
        "    print('total  images in test_original/face0{}:'.format(i), len(os.listdir('Terravic_Shuffled/face0{}/'.format(i))))\n",
        "  else:\n",
        "    print('total  images in test_original/face{}:'.format(i), len(os.listdir('Terravic_Shuffled/face{}/'.format(i))))"
      ],
      "execution_count": 7,
      "outputs": [
        {
          "output_type": "stream",
          "text": [
            "total  images in test_original/face01: 227\n",
            "total  images in test_original/face02: 620\n",
            "total  images in test_original/face03: 592\n",
            "total  images in test_original/face04: 487\n",
            "total  images in test_original/face05: 1297\n",
            "total  images in test_original/face06: 857\n",
            "total  images in test_original/face07: 1117\n",
            "total  images in test_original/face08: 283\n",
            "total  images in test_original/face09: 434\n",
            "total  images in test_original/face10: 2179\n",
            "total  images in test_original/face11: 1417\n",
            "total  images in test_original/face12: 1482\n",
            "total  images in test_original/face13: 1125\n",
            "total  images in test_original/face14: 1611\n",
            "total  images in test_original/face15: 2632\n",
            "total  images in test_original/face16: 2215\n",
            "total  images in test_original/face17: 2539\n",
            "total  images in test_original/face18: 1670\n"
          ],
          "name": "stdout"
        }
      ]
    },
    {
      "cell_type": "markdown",
      "metadata": {
        "id": "N-yPvA0hWA6u"
      },
      "source": [
        "**Creación de las carpetas de entrenamiento, validación y prueba, con sus respectivas carpetas para cada individuo**"
      ]
    },
    {
      "cell_type": "code",
      "metadata": {
        "id": "oZi6kEWLct8C"
      },
      "source": [
        "datasets = ['train', 'validation', 'test']\n",
        "\n",
        "for dataset_name in datasets:\n",
        "  os.mkdir(dataset_name)\n",
        "  for i in range(1,19):\n",
        "    if i < 10:\n",
        "      dest_train = dataset_name+'/face0{}/'.format(i) #dest_train = 'train/face02/\n",
        "    elif i >= 10:\n",
        "      dest_train = dataset_name+'/face{}/'.format(i)\n",
        "    os.mkdir(dest_train)"
      ],
      "execution_count": 8,
      "outputs": []
    },
    {
      "cell_type": "code",
      "metadata": {
        "id": "CSmRefzrlhT-"
      },
      "source": [
        "def fill_dataset(src_dataset, dest_dataset, face_index, limit_low, limit_upper): \n",
        "#fill_dataset('Terravic_Shuffled','test', 1, limit_validation + 127, limit_validation + limit_test + 127) \n",
        "  if face_index < 10:\n",
        "    src_path = src_dataset+'/face0{}/'.format(face_index)\n",
        "    dest_path = dest_dataset+'/face0{}/'.format(face_index)\n",
        "  else:\n",
        "    src_path = src_dataset+'/face{}/'.format(face_index)\n",
        "    dest_path = dest_dataset+'/face{}/'.format(face_index)\n",
        "\n",
        "  lst = sorted(os.listdir(src_path))\n",
        "        \n",
        "  for file_name in lst[limit_low:limit_upper]: #lst[177,227]\n",
        "    if limit_low < limit_upper:\n",
        "      img_original = imageio.imread(src_path + file_name)\n",
        "      if limit_low < 10:\n",
        "          imageio.imwrite(dest_path + '000{}.jpg'.format(limit_low), img_original)\n",
        "      elif limit_low >= 10 and limit_low < 100:\n",
        "          imageio.imwrite(dest_path + '00{}.jpg'.format(limit_low), img_original)\n",
        "      else: \n",
        "          imageio.imwrite(dest_path + '0{}.jpg'.format(limit_low), img_original)\n",
        "              \n",
        "      limit_low = limit_low + 1"
      ],
      "execution_count": 10,
      "outputs": []
    },
    {
      "cell_type": "markdown",
      "metadata": {
        "id": "1GxpOXUDOCWj"
      },
      "source": [
        "**Asignación de imágenes a cada conjunto**"
      ]
    },
    {
      "cell_type": "code",
      "metadata": {
        "colab": {
          "base_uri": "https://localhost:8080/"
        },
        "id": "NXEj5jLD0wqn",
        "outputId": "96284ab5-8afe-4aeb-e671-6e0e1c9a48c4"
      },
      "source": [
        "for i in range (1, 19):\n",
        "  if i < 10:\n",
        "    total = len(os.listdir('Terravic_Shuffled/face0{}'.format(i))) # person01 tiene 227, total = 227\n",
        "  else:\n",
        "    total = len(os.listdir('Terravic_Shuffled/face{}'.format(i)))\n",
        "  limit1 = total - 127 # limit1 = 1482 - 127 = 1355\n",
        "  if limit1 % 2 == 0:\n",
        "    limit_validation = int(limit1 / 2) #limit_validation = 50\n",
        "    limit_test = limit_validation ##limit_test = 50\n",
        "  else:\n",
        "    limit_validation = limit1 // 2 #-> limit_validation = 677\n",
        "    limit_test = (limit1 // 2) + 1 #-> limit_test = 678\n",
        "\n",
        "  fill_dataset('Terravic_Shuffled','train', i, 0, 127)\n",
        "  print(limit_validation + 127)\n",
        "  fill_dataset('Terravic_Shuffled','validation', i, 127, limit_validation + 127) \n",
        "  fill_dataset('Terravic_Shuffled','test', i, limit_validation + 127, limit_validation + limit_test + 127)"
      ],
      "execution_count": null,
      "outputs": [
        {
          "output_type": "stream",
          "text": [
            "177\n",
            "373\n",
            "359\n",
            "307\n",
            "712\n",
            "492\n",
            "622\n",
            "205\n",
            "280\n",
            "1153\n",
            "772\n",
            "804\n",
            "626\n",
            "869\n",
            "1379\n",
            "1171\n",
            "1333\n",
            "898\n"
          ],
          "name": "stdout"
        }
      ]
    },
    {
      "cell_type": "code",
      "metadata": {
        "id": "xKkLnurGluJN"
      },
      "source": [
        "#Face 1 (train, validation and test sets)\n",
        "fill_dataset('Terravic_Shuffled','train', 1, 0, 127)\n",
        "fill_dataset('Terravic_Shuffled','validation', 1, 127, 177)\n",
        "fill_dataset('Terravic_Shuffled','test', 1, 177, 227)\n",
        "\n",
        "#Face 2 (train and validation sets)\n",
        "fill_dataset('Terravic_Shuffled','train', 2, 0, 127)\n",
        "fill_dataset('Terravic_Shuffled','validation', 2, 127, 374)\n",
        "fill_dataset('Terravic_Shuffled','test', 2, 374, 620)\n",
        "\n",
        "#Face 3 (train and validation sets)\n",
        "fill_dataset('Terravic_Shuffled','train', 3, 0, 127)\n",
        "fill_dataset('Terravic_Shuffled','validation', 3, 127, 360)\n",
        "fill_dataset('Terravic_Shuffled','test', 3, 360, 592)\n",
        "\n",
        "#Face 4 (train and validation sets)\n",
        "fill_dataset('Terravic_Shuffled','train', 4, 0, 127)\n",
        "fill_dataset('Terravic_Shuffled','validation', 4, 127, 307)\n",
        "fill_dataset('Terravic_Shuffled','test', 4, 307, 487)\n",
        "\n",
        "#Face 5 (train and validation sets)\n",
        "fill_dataset('Terravic_Shuffled','train', 5, 0, 127)\n",
        "fill_dataset('Terravic_Shuffled','validation', 5, 127, 712)\n",
        "fill_dataset('Terravic_Shuffled','test', 5, 712, 1297)\n",
        "\n",
        "#Face 6 (train and validation sets)\n",
        "fill_dataset('Terravic_Shuffled','train', 6, 0, 127)\n",
        "fill_dataset('Terravic_Shuffled','validation', 6, 127, 492)\n",
        "fill_dataset('Terravic_Shuffled','test', 6, 492, 857)\n",
        "\n",
        "#Face 7 (train and validation sets)\n",
        "fill_dataset('Terravic_Shuffled','train', 7, 0, 127)\n",
        "fill_dataset('Terravic_Shuffled','validation', 7, 127, 622)\n",
        "fill_dataset('Terravic_Shuffled','test', 7, 622, 1117)\n",
        "\n",
        "#Face 8 (train and validation sets)\n",
        "fill_dataset('Terravic_Shuffled','train', 8, 0, 127)\n",
        "fill_dataset('Terravic_Shuffled','validation', 8, 127, 205)\n",
        "fill_dataset('Terravic_Shuffled','test', 8, 205, 283)\n",
        "\n",
        "#Face 9 (train and validation sets)\n",
        "fill_dataset('Terravic_Shuffled','train', 9, 0, 127)\n",
        "fill_dataset('Terravic_Shuffled','validation', 9, 127, 281)\n",
        "fill_dataset('Terravic_Shuffled','test', 9, 281, 434)\n",
        "\n",
        "#Face 10 (train and validation sets)\n",
        "fill_dataset('Terravic_Shuffled','train', 10, 0, 127)\n",
        "fill_dataset('Terravic_Shuffled','validation', 10, 127, 1153)\n",
        "fill_dataset('Terravic_Shuffled','test', 10, 1153, 2179)\n",
        "\n",
        "#Face 11 (train and validation sets)\n",
        "fill_dataset('Terravic_Shuffled','train', 11, 0, 127)\n",
        "fill_dataset('Terravic_Shuffled','validation', 11, 127, 772)\n",
        "fill_dataset('Terravic_Shuffled','test', 11, 772, 1417)\n",
        "\n",
        "#Face 12 (train and validation sets)\n",
        "fill_dataset('Terravic_Shuffled','train', 12, 0, 127)\n",
        "fill_dataset('Terravic_Shuffled','validation', 12, 127, 805)\n",
        "fill_dataset('Terravic_Shuffled','test', 12, 805, 1482)\n",
        "\n",
        "#Face 13 (train and validation sets)\n",
        "fill_dataset('Terravic_Shuffled','train', 13, 0, 127)\n",
        "fill_dataset('Terravic_Shuffled','validation', 13, 127, 626)\n",
        "fill_dataset('Terravic_Shuffled','test', 13, 626, 1125)\n",
        "\n",
        "#Face 14 (train and validation sets)\n",
        "fill_dataset('Terravic_Shuffled','train', 14, 0, 127)\n",
        "fill_dataset('Terravic_Shuffled','validation', 14, 127, 869)\n",
        "fill_dataset('Terravic_Shuffled','test', 14, 869, 1611)\n",
        "\n",
        "#Face 15 (train and validation sets)\n",
        "fill_dataset('Terravic_Shuffled','train', 15, 0, 127)\n",
        "fill_dataset('Terravic_Shuffled','validation', 15, 127, 1380)\n",
        "fill_dataset('Terravic_Shuffled','test', 15, 1380, 2632)\n",
        "\n",
        "#Face 16 (train and validation sets)\n",
        "fill_dataset('Terravic_Shuffled','train', 16, 0, 127)\n",
        "fill_dataset('Terravic_Shuffled','validation', 16, 127, 1171)\n",
        "fill_dataset('Terravic_Shuffled','test', 16, 1171, 2215)\n",
        "\n",
        "#Face 17 (train and validation sets)\n",
        "fill_dataset('Terravic_Shuffled','train', 17, 0, 127)\n",
        "fill_dataset('Terravic_Shuffled','validation', 17, 127, 1333)\n",
        "fill_dataset('Terravic_Shuffled','test', 17, 1333, 2539)\n",
        "\n",
        "#Face 18 (train and validation sets)\n",
        "fill_dataset('Terravic_Shuffled','train', 18, 0, 127)\n",
        "fill_dataset('Terravic_Shuffled','validation', 18, 127, 899)\n",
        "fill_dataset('Terravic_Shuffled','test', 18, 899, 1670)"
      ],
      "execution_count": 11,
      "outputs": []
    },
    {
      "cell_type": "code",
      "metadata": {
        "id": "ky7uBJckZIJO",
        "colab": {
          "base_uri": "https://localhost:8080/"
        },
        "outputId": "be38c059-97d7-49f6-8c83-624190637a08"
      },
      "source": [
        "#Comprobación\n",
        "import os\n",
        "for i in range(1, 19):\n",
        "  if i < 10:\n",
        "    print('total  images in train/face0{}:'.format(i), len(os.listdir('train/face0{}/'.format(i))))\n",
        "    print('total  images in validation/face0{}:'.format(i), len(os.listdir('validation/face0{}/'.format(i))))\n",
        "    print('total  images in test/face0{}:'.format(i), len(os.listdir('test/face0{}/'.format(i))))\n",
        "  else:\n",
        "    print('total  images in train/face{}:'.format(i), len(os.listdir('train/face{}/'.format(i))))\n",
        "    print('total  images in validation/face{}:'.format(i), len(os.listdir('validation/face{}/'.format(i))))\n",
        "    print('total  images in test/face{}:'.format(i), len(os.listdir('test/face{}/'.format(i))))"
      ],
      "execution_count": 12,
      "outputs": [
        {
          "output_type": "stream",
          "text": [
            "total  images in train/face01: 127\n",
            "total  images in validation/face01: 50\n",
            "total  images in test/face01: 50\n",
            "total  images in train/face02: 127\n",
            "total  images in validation/face02: 247\n",
            "total  images in test/face02: 246\n",
            "total  images in train/face03: 127\n",
            "total  images in validation/face03: 233\n",
            "total  images in test/face03: 232\n",
            "total  images in train/face04: 127\n",
            "total  images in validation/face04: 180\n",
            "total  images in test/face04: 180\n",
            "total  images in train/face05: 127\n",
            "total  images in validation/face05: 585\n",
            "total  images in test/face05: 585\n",
            "total  images in train/face06: 127\n",
            "total  images in validation/face06: 365\n",
            "total  images in test/face06: 365\n",
            "total  images in train/face07: 127\n",
            "total  images in validation/face07: 495\n",
            "total  images in test/face07: 495\n",
            "total  images in train/face08: 127\n",
            "total  images in validation/face08: 78\n",
            "total  images in test/face08: 78\n",
            "total  images in train/face09: 127\n",
            "total  images in validation/face09: 154\n",
            "total  images in test/face09: 153\n",
            "total  images in train/face10: 127\n",
            "total  images in validation/face10: 1026\n",
            "total  images in test/face10: 1026\n",
            "total  images in train/face11: 127\n",
            "total  images in validation/face11: 645\n",
            "total  images in test/face11: 645\n",
            "total  images in train/face12: 127\n",
            "total  images in validation/face12: 678\n",
            "total  images in test/face12: 677\n",
            "total  images in train/face13: 127\n",
            "total  images in validation/face13: 499\n",
            "total  images in test/face13: 499\n",
            "total  images in train/face14: 127\n",
            "total  images in validation/face14: 742\n",
            "total  images in test/face14: 742\n",
            "total  images in train/face15: 127\n",
            "total  images in validation/face15: 1253\n",
            "total  images in test/face15: 1252\n",
            "total  images in train/face16: 127\n",
            "total  images in validation/face16: 1044\n",
            "total  images in test/face16: 1044\n",
            "total  images in train/face17: 127\n",
            "total  images in validation/face17: 1206\n",
            "total  images in test/face17: 1206\n",
            "total  images in train/face18: 127\n",
            "total  images in validation/face18: 772\n",
            "total  images in test/face18: 771\n"
          ],
          "name": "stdout"
        }
      ]
    },
    {
      "cell_type": "markdown",
      "metadata": {
        "id": "fb5aCKv_QZR4"
      },
      "source": [
        "# **Sistema de reconocimiento facial**"
      ]
    },
    {
      "cell_type": "markdown",
      "metadata": {
        "id": "sDGU7sI6JlPY"
      },
      "source": [
        "**Referenciamos los conjuntos de entrenamiento, validación y prueba**"
      ]
    },
    {
      "cell_type": "code",
      "metadata": {
        "id": "aUZHNVy_RRs1"
      },
      "source": [
        "train_dir = os.path.join('train')\n",
        "validation_dir = os.path.join('validation')\n",
        "test_dir = os.path.join('test')"
      ],
      "execution_count": 13,
      "outputs": []
    },
    {
      "cell_type": "markdown",
      "metadata": {
        "id": "-7WWbw6JJp_G"
      },
      "source": [
        "**Carga de la arquitectura VGG16**"
      ]
    },
    {
      "cell_type": "code",
      "metadata": {
        "id": "xrqAdgeRQdM9",
        "colab": {
          "base_uri": "https://localhost:8080/"
        },
        "outputId": "4ee87ac3-b10a-4f6d-f035-9cead05c35a8"
      },
      "source": [
        "from tensorflow.keras.applications import VGG16\n",
        "\n",
        "conv_base = VGG16(weights='imagenet',\n",
        "                  include_top=False,\n",
        "                  input_shape=(72, 96, 3)) # input_shape = (largo, ancho, canales)\n",
        "\n",
        "conv_base.summary()"
      ],
      "execution_count": 14,
      "outputs": [
        {
          "output_type": "stream",
          "text": [
            "Downloading data from https://storage.googleapis.com/tensorflow/keras-applications/vgg16/vgg16_weights_tf_dim_ordering_tf_kernels_notop.h5\n",
            "58892288/58889256 [==============================] - 0s 0us/step\n",
            "Model: \"vgg16\"\n",
            "_________________________________________________________________\n",
            "Layer (type)                 Output Shape              Param #   \n",
            "=================================================================\n",
            "input_1 (InputLayer)         [(None, 72, 96, 3)]       0         \n",
            "_________________________________________________________________\n",
            "block1_conv1 (Conv2D)        (None, 72, 96, 64)        1792      \n",
            "_________________________________________________________________\n",
            "block1_conv2 (Conv2D)        (None, 72, 96, 64)        36928     \n",
            "_________________________________________________________________\n",
            "block1_pool (MaxPooling2D)   (None, 36, 48, 64)        0         \n",
            "_________________________________________________________________\n",
            "block2_conv1 (Conv2D)        (None, 36, 48, 128)       73856     \n",
            "_________________________________________________________________\n",
            "block2_conv2 (Conv2D)        (None, 36, 48, 128)       147584    \n",
            "_________________________________________________________________\n",
            "block2_pool (MaxPooling2D)   (None, 18, 24, 128)       0         \n",
            "_________________________________________________________________\n",
            "block3_conv1 (Conv2D)        (None, 18, 24, 256)       295168    \n",
            "_________________________________________________________________\n",
            "block3_conv2 (Conv2D)        (None, 18, 24, 256)       590080    \n",
            "_________________________________________________________________\n",
            "block3_conv3 (Conv2D)        (None, 18, 24, 256)       590080    \n",
            "_________________________________________________________________\n",
            "block3_pool (MaxPooling2D)   (None, 9, 12, 256)        0         \n",
            "_________________________________________________________________\n",
            "block4_conv1 (Conv2D)        (None, 9, 12, 512)        1180160   \n",
            "_________________________________________________________________\n",
            "block4_conv2 (Conv2D)        (None, 9, 12, 512)        2359808   \n",
            "_________________________________________________________________\n",
            "block4_conv3 (Conv2D)        (None, 9, 12, 512)        2359808   \n",
            "_________________________________________________________________\n",
            "block4_pool (MaxPooling2D)   (None, 4, 6, 512)         0         \n",
            "_________________________________________________________________\n",
            "block5_conv1 (Conv2D)        (None, 4, 6, 512)         2359808   \n",
            "_________________________________________________________________\n",
            "block5_conv2 (Conv2D)        (None, 4, 6, 512)         2359808   \n",
            "_________________________________________________________________\n",
            "block5_conv3 (Conv2D)        (None, 4, 6, 512)         2359808   \n",
            "_________________________________________________________________\n",
            "block5_pool (MaxPooling2D)   (None, 2, 3, 512)         0         \n",
            "=================================================================\n",
            "Total params: 14,714,688\n",
            "Trainable params: 14,714,688\n",
            "Non-trainable params: 0\n",
            "_________________________________________________________________\n"
          ],
          "name": "stdout"
        }
      ]
    },
    {
      "cell_type": "markdown",
      "metadata": {
        "id": "8Q6SaotDJvml"
      },
      "source": [
        "**Congelamos y descongelamos ciertas capas (Fine-tuning)**"
      ]
    },
    {
      "cell_type": "code",
      "metadata": {
        "id": "GToxLhHtQxSm",
        "colab": {
          "base_uri": "https://localhost:8080/"
        },
        "outputId": "87aeb692-dbba-4035-8231-71d98d36a750"
      },
      "source": [
        "for layer in conv_base.layers:\n",
        "    if layer.name[:6] == 'block5': \n",
        "      layer.trainable = True\n",
        "    else:\n",
        "      layer.trainable = False\n",
        "\n",
        "conv_base.summary()"
      ],
      "execution_count": 15,
      "outputs": [
        {
          "output_type": "stream",
          "text": [
            "Model: \"vgg16\"\n",
            "_________________________________________________________________\n",
            "Layer (type)                 Output Shape              Param #   \n",
            "=================================================================\n",
            "input_1 (InputLayer)         [(None, 72, 96, 3)]       0         \n",
            "_________________________________________________________________\n",
            "block1_conv1 (Conv2D)        (None, 72, 96, 64)        1792      \n",
            "_________________________________________________________________\n",
            "block1_conv2 (Conv2D)        (None, 72, 96, 64)        36928     \n",
            "_________________________________________________________________\n",
            "block1_pool (MaxPooling2D)   (None, 36, 48, 64)        0         \n",
            "_________________________________________________________________\n",
            "block2_conv1 (Conv2D)        (None, 36, 48, 128)       73856     \n",
            "_________________________________________________________________\n",
            "block2_conv2 (Conv2D)        (None, 36, 48, 128)       147584    \n",
            "_________________________________________________________________\n",
            "block2_pool (MaxPooling2D)   (None, 18, 24, 128)       0         \n",
            "_________________________________________________________________\n",
            "block3_conv1 (Conv2D)        (None, 18, 24, 256)       295168    \n",
            "_________________________________________________________________\n",
            "block3_conv2 (Conv2D)        (None, 18, 24, 256)       590080    \n",
            "_________________________________________________________________\n",
            "block3_conv3 (Conv2D)        (None, 18, 24, 256)       590080    \n",
            "_________________________________________________________________\n",
            "block3_pool (MaxPooling2D)   (None, 9, 12, 256)        0         \n",
            "_________________________________________________________________\n",
            "block4_conv1 (Conv2D)        (None, 9, 12, 512)        1180160   \n",
            "_________________________________________________________________\n",
            "block4_conv2 (Conv2D)        (None, 9, 12, 512)        2359808   \n",
            "_________________________________________________________________\n",
            "block4_conv3 (Conv2D)        (None, 9, 12, 512)        2359808   \n",
            "_________________________________________________________________\n",
            "block4_pool (MaxPooling2D)   (None, 4, 6, 512)         0         \n",
            "_________________________________________________________________\n",
            "block5_conv1 (Conv2D)        (None, 4, 6, 512)         2359808   \n",
            "_________________________________________________________________\n",
            "block5_conv2 (Conv2D)        (None, 4, 6, 512)         2359808   \n",
            "_________________________________________________________________\n",
            "block5_conv3 (Conv2D)        (None, 4, 6, 512)         2359808   \n",
            "_________________________________________________________________\n",
            "block5_pool (MaxPooling2D)   (None, 2, 3, 512)         0         \n",
            "=================================================================\n",
            "Total params: 14,714,688\n",
            "Trainable params: 7,079,424\n",
            "Non-trainable params: 7,635,264\n",
            "_________________________________________________________________\n"
          ],
          "name": "stdout"
        }
      ]
    },
    {
      "cell_type": "markdown",
      "metadata": {
        "id": "ysYRWbXVQ_lV"
      },
      "source": [
        "# **Definición de la arquitectura (incluyendo el módulo de transfer learning)**"
      ]
    },
    {
      "cell_type": "code",
      "metadata": {
        "id": "t2LGYLGqQ-x1",
        "colab": {
          "base_uri": "https://localhost:8080/"
        },
        "outputId": "02687b98-cfa8-4955-9636-dc4c18559b5d"
      },
      "source": [
        "from tensorflow.keras import layers\n",
        "from tensorflow.keras import models\n",
        "\n",
        "model = models.Sequential()\n",
        "model.add(conv_base)\n",
        "model.add(layers.MaxPooling2D((2, 2)))\n",
        "model.add(layers.BatchNormalization()) #Normalizar los pesos aprendidos hasta este punto\n",
        "model.add(layers.Flatten())\n",
        "model.add(layers.Dense(18, activation='softmax'))\n",
        "\n",
        "model.summary()"
      ],
      "execution_count": 20,
      "outputs": [
        {
          "output_type": "stream",
          "text": [
            "Model: \"sequential_1\"\n",
            "_________________________________________________________________\n",
            "Layer (type)                 Output Shape              Param #   \n",
            "=================================================================\n",
            "vgg16 (Functional)           (None, 2, 3, 512)         14714688  \n",
            "_________________________________________________________________\n",
            "max_pooling2d_1 (MaxPooling2 (None, 1, 1, 512)         0         \n",
            "_________________________________________________________________\n",
            "batch_normalization_1 (Batch (None, 1, 1, 512)         2048      \n",
            "_________________________________________________________________\n",
            "flatten_1 (Flatten)          (None, 512)               0         \n",
            "_________________________________________________________________\n",
            "dense_1 (Dense)              (None, 18)                9234      \n",
            "=================================================================\n",
            "Total params: 14,725,970\n",
            "Trainable params: 7,089,682\n",
            "Non-trainable params: 7,636,288\n",
            "_________________________________________________________________\n"
          ],
          "name": "stdout"
        }
      ]
    },
    {
      "cell_type": "markdown",
      "metadata": {
        "id": "9BHBw-s_KD-N"
      },
      "source": [
        "# **Compilación**"
      ]
    },
    {
      "cell_type": "code",
      "metadata": {
        "id": "jOjtTtIBRill"
      },
      "source": [
        "from tensorflow.keras import optimizers\n",
        "model.compile(loss='categorical_crossentropy',\n",
        "              optimizer=optimizers.RMSprop(lr=1e-4),\n",
        "              metrics=['acc']) #'acc' -> accuracy -> precisión"
      ],
      "execution_count": 21,
      "outputs": []
    },
    {
      "cell_type": "markdown",
      "metadata": {
        "id": "HLFUQRRtKH8F"
      },
      "source": [
        "# **Definición de los generadores**"
      ]
    },
    {
      "cell_type": "code",
      "metadata": {
        "id": "LUp2jo6lRqSG",
        "colab": {
          "base_uri": "https://localhost:8080/"
        },
        "outputId": "2ebc4753-15a6-4542-b25c-e59c1887a1a7"
      },
      "source": [
        "#Using ImageDataGenerator to read images from directories\n",
        "from tensorflow.keras.preprocessing.image import ImageDataGenerator\n",
        "\n",
        "train_datagen = ImageDataGenerator(rescale=1./255)\n",
        "\n",
        "test_datagen = ImageDataGenerator(rescale=1./255)\n",
        "\n",
        "train_generator = train_datagen.flow_from_directory(\n",
        "        train_dir, # Target directory\n",
        "        target_size=(72, 96), # All images are resized from 240x320 to 72x96\n",
        "        batch_size= 9, \n",
        "        color_mode='rgb',\n",
        "        class_mode='categorical')\n",
        "\n",
        "validation_generator = test_datagen.flow_from_directory(\n",
        "        validation_dir,\n",
        "        target_size=(72, 96),\n",
        "        batch_size=1,\n",
        "        color_mode='rgb',\n",
        "        class_mode='categorical')"
      ],
      "execution_count": 22,
      "outputs": [
        {
          "output_type": "stream",
          "text": [
            "Found 2286 images belonging to 18 classes.\n",
            "Found 10252 images belonging to 18 classes.\n"
          ],
          "name": "stdout"
        }
      ]
    },
    {
      "cell_type": "markdown",
      "metadata": {
        "id": "R-bRqMJZKLS9"
      },
      "source": [
        "# **Entrenamiento**"
      ]
    },
    {
      "cell_type": "code",
      "metadata": {
        "id": "cIbSj6NJR35o",
        "colab": {
          "base_uri": "https://localhost:8080/",
          "height": 547
        },
        "outputId": "697ed828-6018-47ab-b4c8-d0a514583cf4"
      },
      "source": [
        "#Training and validation stages\n",
        "history = model.fit(\n",
        "      train_generator,\n",
        "      steps_per_epoch=254, #70\n",
        "      epochs= 10,\n",
        "      validation_data=validation_generator,\n",
        "      validation_steps=10252)"
      ],
      "execution_count": 23,
      "outputs": [
        {
          "output_type": "stream",
          "text": [
            "Epoch 1/10\n",
            "254/254 [==============================] - 58s 229ms/step - loss: 0.0776 - acc: 0.9847 - val_loss: 4.2827e-04 - val_acc: 1.0000\n",
            "Epoch 2/10\n",
            "254/254 [==============================] - 58s 228ms/step - loss: 0.0016 - acc: 1.0000 - val_loss: 0.0016 - val_acc: 1.0000\n",
            "Epoch 3/10\n",
            "254/254 [==============================] - 58s 227ms/step - loss: 5.1276e-05 - acc: 1.0000 - val_loss: 5.8622e-06 - val_acc: 1.0000\n",
            "Epoch 4/10\n",
            "254/254 [==============================] - 58s 227ms/step - loss: 1.6254e-04 - acc: 1.0000 - val_loss: 2.5424e-06 - val_acc: 1.0000\n",
            "Epoch 5/10\n",
            "252/254 [============================>.] - ETA: 0s - loss: 5.1764e-05 - acc: 1.0000"
          ],
          "name": "stdout"
        },
        {
          "output_type": "error",
          "ename": "KeyboardInterrupt",
          "evalue": "ignored",
          "traceback": [
            "\u001b[0;31m---------------------------------------------------------------------------\u001b[0m",
            "\u001b[0;31mKeyboardInterrupt\u001b[0m                         Traceback (most recent call last)",
            "\u001b[0;32m<ipython-input-23-9e26e98044ae>\u001b[0m in \u001b[0;36m<module>\u001b[0;34m()\u001b[0m\n\u001b[1;32m      5\u001b[0m       \u001b[0mepochs\u001b[0m\u001b[0;34m=\u001b[0m \u001b[0;36m10\u001b[0m\u001b[0;34m,\u001b[0m\u001b[0;34m\u001b[0m\u001b[0;34m\u001b[0m\u001b[0m\n\u001b[1;32m      6\u001b[0m       \u001b[0mvalidation_data\u001b[0m\u001b[0;34m=\u001b[0m\u001b[0mvalidation_generator\u001b[0m\u001b[0;34m,\u001b[0m\u001b[0;34m\u001b[0m\u001b[0;34m\u001b[0m\u001b[0m\n\u001b[0;32m----> 7\u001b[0;31m       validation_steps=10252)\n\u001b[0m",
            "\u001b[0;32m/usr/local/lib/python3.6/dist-packages/tensorflow/python/keras/engine/training.py\u001b[0m in \u001b[0;36m_method_wrapper\u001b[0;34m(self, *args, **kwargs)\u001b[0m\n\u001b[1;32m    106\u001b[0m   \u001b[0;32mdef\u001b[0m \u001b[0m_method_wrapper\u001b[0m\u001b[0;34m(\u001b[0m\u001b[0mself\u001b[0m\u001b[0;34m,\u001b[0m \u001b[0;34m*\u001b[0m\u001b[0margs\u001b[0m\u001b[0;34m,\u001b[0m \u001b[0;34m**\u001b[0m\u001b[0mkwargs\u001b[0m\u001b[0;34m)\u001b[0m\u001b[0;34m:\u001b[0m\u001b[0;34m\u001b[0m\u001b[0;34m\u001b[0m\u001b[0m\n\u001b[1;32m    107\u001b[0m     \u001b[0;32mif\u001b[0m \u001b[0;32mnot\u001b[0m \u001b[0mself\u001b[0m\u001b[0;34m.\u001b[0m\u001b[0m_in_multi_worker_mode\u001b[0m\u001b[0;34m(\u001b[0m\u001b[0;34m)\u001b[0m\u001b[0;34m:\u001b[0m  \u001b[0;31m# pylint: disable=protected-access\u001b[0m\u001b[0;34m\u001b[0m\u001b[0;34m\u001b[0m\u001b[0m\n\u001b[0;32m--> 108\u001b[0;31m       \u001b[0;32mreturn\u001b[0m \u001b[0mmethod\u001b[0m\u001b[0;34m(\u001b[0m\u001b[0mself\u001b[0m\u001b[0;34m,\u001b[0m \u001b[0;34m*\u001b[0m\u001b[0margs\u001b[0m\u001b[0;34m,\u001b[0m \u001b[0;34m**\u001b[0m\u001b[0mkwargs\u001b[0m\u001b[0;34m)\u001b[0m\u001b[0;34m\u001b[0m\u001b[0;34m\u001b[0m\u001b[0m\n\u001b[0m\u001b[1;32m    109\u001b[0m \u001b[0;34m\u001b[0m\u001b[0m\n\u001b[1;32m    110\u001b[0m     \u001b[0;31m# Running inside `run_distribute_coordinator` already.\u001b[0m\u001b[0;34m\u001b[0m\u001b[0;34m\u001b[0m\u001b[0;34m\u001b[0m\u001b[0m\n",
            "\u001b[0;32m/usr/local/lib/python3.6/dist-packages/tensorflow/python/keras/engine/training.py\u001b[0m in \u001b[0;36mfit\u001b[0;34m(self, x, y, batch_size, epochs, verbose, callbacks, validation_split, validation_data, shuffle, class_weight, sample_weight, initial_epoch, steps_per_epoch, validation_steps, validation_batch_size, validation_freq, max_queue_size, workers, use_multiprocessing)\u001b[0m\n\u001b[1;32m   1131\u001b[0m               \u001b[0mworkers\u001b[0m\u001b[0;34m=\u001b[0m\u001b[0mworkers\u001b[0m\u001b[0;34m,\u001b[0m\u001b[0;34m\u001b[0m\u001b[0;34m\u001b[0m\u001b[0m\n\u001b[1;32m   1132\u001b[0m               \u001b[0muse_multiprocessing\u001b[0m\u001b[0;34m=\u001b[0m\u001b[0muse_multiprocessing\u001b[0m\u001b[0;34m,\u001b[0m\u001b[0;34m\u001b[0m\u001b[0;34m\u001b[0m\u001b[0m\n\u001b[0;32m-> 1133\u001b[0;31m               return_dict=True)\n\u001b[0m\u001b[1;32m   1134\u001b[0m           \u001b[0mval_logs\u001b[0m \u001b[0;34m=\u001b[0m \u001b[0;34m{\u001b[0m\u001b[0;34m'val_'\u001b[0m \u001b[0;34m+\u001b[0m \u001b[0mname\u001b[0m\u001b[0;34m:\u001b[0m \u001b[0mval\u001b[0m \u001b[0;32mfor\u001b[0m \u001b[0mname\u001b[0m\u001b[0;34m,\u001b[0m \u001b[0mval\u001b[0m \u001b[0;32min\u001b[0m \u001b[0mval_logs\u001b[0m\u001b[0;34m.\u001b[0m\u001b[0mitems\u001b[0m\u001b[0;34m(\u001b[0m\u001b[0;34m)\u001b[0m\u001b[0;34m}\u001b[0m\u001b[0;34m\u001b[0m\u001b[0;34m\u001b[0m\u001b[0m\n\u001b[1;32m   1135\u001b[0m           \u001b[0mepoch_logs\u001b[0m\u001b[0;34m.\u001b[0m\u001b[0mupdate\u001b[0m\u001b[0;34m(\u001b[0m\u001b[0mval_logs\u001b[0m\u001b[0;34m)\u001b[0m\u001b[0;34m\u001b[0m\u001b[0;34m\u001b[0m\u001b[0m\n",
            "\u001b[0;32m/usr/local/lib/python3.6/dist-packages/tensorflow/python/keras/engine/training.py\u001b[0m in \u001b[0;36m_method_wrapper\u001b[0;34m(self, *args, **kwargs)\u001b[0m\n\u001b[1;32m    106\u001b[0m   \u001b[0;32mdef\u001b[0m \u001b[0m_method_wrapper\u001b[0m\u001b[0;34m(\u001b[0m\u001b[0mself\u001b[0m\u001b[0;34m,\u001b[0m \u001b[0;34m*\u001b[0m\u001b[0margs\u001b[0m\u001b[0;34m,\u001b[0m \u001b[0;34m**\u001b[0m\u001b[0mkwargs\u001b[0m\u001b[0;34m)\u001b[0m\u001b[0;34m:\u001b[0m\u001b[0;34m\u001b[0m\u001b[0;34m\u001b[0m\u001b[0m\n\u001b[1;32m    107\u001b[0m     \u001b[0;32mif\u001b[0m \u001b[0;32mnot\u001b[0m \u001b[0mself\u001b[0m\u001b[0;34m.\u001b[0m\u001b[0m_in_multi_worker_mode\u001b[0m\u001b[0;34m(\u001b[0m\u001b[0;34m)\u001b[0m\u001b[0;34m:\u001b[0m  \u001b[0;31m# pylint: disable=protected-access\u001b[0m\u001b[0;34m\u001b[0m\u001b[0;34m\u001b[0m\u001b[0m\n\u001b[0;32m--> 108\u001b[0;31m       \u001b[0;32mreturn\u001b[0m \u001b[0mmethod\u001b[0m\u001b[0;34m(\u001b[0m\u001b[0mself\u001b[0m\u001b[0;34m,\u001b[0m \u001b[0;34m*\u001b[0m\u001b[0margs\u001b[0m\u001b[0;34m,\u001b[0m \u001b[0;34m**\u001b[0m\u001b[0mkwargs\u001b[0m\u001b[0;34m)\u001b[0m\u001b[0;34m\u001b[0m\u001b[0;34m\u001b[0m\u001b[0m\n\u001b[0m\u001b[1;32m    109\u001b[0m \u001b[0;34m\u001b[0m\u001b[0m\n\u001b[1;32m    110\u001b[0m     \u001b[0;31m# Running inside `run_distribute_coordinator` already.\u001b[0m\u001b[0;34m\u001b[0m\u001b[0;34m\u001b[0m\u001b[0;34m\u001b[0m\u001b[0m\n",
            "\u001b[0;32m/usr/local/lib/python3.6/dist-packages/tensorflow/python/keras/engine/training.py\u001b[0m in \u001b[0;36mevaluate\u001b[0;34m(self, x, y, batch_size, verbose, sample_weight, steps, callbacks, max_queue_size, workers, use_multiprocessing, return_dict)\u001b[0m\n\u001b[1;32m   1377\u001b[0m             \u001b[0;32mwith\u001b[0m \u001b[0mtrace\u001b[0m\u001b[0;34m.\u001b[0m\u001b[0mTrace\u001b[0m\u001b[0;34m(\u001b[0m\u001b[0;34m'TraceContext'\u001b[0m\u001b[0;34m,\u001b[0m \u001b[0mgraph_type\u001b[0m\u001b[0;34m=\u001b[0m\u001b[0;34m'test'\u001b[0m\u001b[0;34m,\u001b[0m \u001b[0mstep_num\u001b[0m\u001b[0;34m=\u001b[0m\u001b[0mstep\u001b[0m\u001b[0;34m)\u001b[0m\u001b[0;34m:\u001b[0m\u001b[0;34m\u001b[0m\u001b[0;34m\u001b[0m\u001b[0m\n\u001b[1;32m   1378\u001b[0m               \u001b[0mcallbacks\u001b[0m\u001b[0;34m.\u001b[0m\u001b[0mon_test_batch_begin\u001b[0m\u001b[0;34m(\u001b[0m\u001b[0mstep\u001b[0m\u001b[0;34m)\u001b[0m\u001b[0;34m\u001b[0m\u001b[0;34m\u001b[0m\u001b[0m\n\u001b[0;32m-> 1379\u001b[0;31m               \u001b[0mtmp_logs\u001b[0m \u001b[0;34m=\u001b[0m \u001b[0mtest_function\u001b[0m\u001b[0;34m(\u001b[0m\u001b[0miterator\u001b[0m\u001b[0;34m)\u001b[0m\u001b[0;34m\u001b[0m\u001b[0;34m\u001b[0m\u001b[0m\n\u001b[0m\u001b[1;32m   1380\u001b[0m               \u001b[0;32mif\u001b[0m \u001b[0mdata_handler\u001b[0m\u001b[0;34m.\u001b[0m\u001b[0mshould_sync\u001b[0m\u001b[0;34m:\u001b[0m\u001b[0;34m\u001b[0m\u001b[0;34m\u001b[0m\u001b[0m\n\u001b[1;32m   1381\u001b[0m                 \u001b[0mcontext\u001b[0m\u001b[0;34m.\u001b[0m\u001b[0masync_wait\u001b[0m\u001b[0;34m(\u001b[0m\u001b[0;34m)\u001b[0m\u001b[0;34m\u001b[0m\u001b[0;34m\u001b[0m\u001b[0m\n",
            "\u001b[0;32m/usr/local/lib/python3.6/dist-packages/tensorflow/python/eager/def_function.py\u001b[0m in \u001b[0;36m__call__\u001b[0;34m(self, *args, **kwds)\u001b[0m\n\u001b[1;32m    778\u001b[0m       \u001b[0;32melse\u001b[0m\u001b[0;34m:\u001b[0m\u001b[0;34m\u001b[0m\u001b[0;34m\u001b[0m\u001b[0m\n\u001b[1;32m    779\u001b[0m         \u001b[0mcompiler\u001b[0m \u001b[0;34m=\u001b[0m \u001b[0;34m\"nonXla\"\u001b[0m\u001b[0;34m\u001b[0m\u001b[0;34m\u001b[0m\u001b[0m\n\u001b[0;32m--> 780\u001b[0;31m         \u001b[0mresult\u001b[0m \u001b[0;34m=\u001b[0m \u001b[0mself\u001b[0m\u001b[0;34m.\u001b[0m\u001b[0m_call\u001b[0m\u001b[0;34m(\u001b[0m\u001b[0;34m*\u001b[0m\u001b[0margs\u001b[0m\u001b[0;34m,\u001b[0m \u001b[0;34m**\u001b[0m\u001b[0mkwds\u001b[0m\u001b[0;34m)\u001b[0m\u001b[0;34m\u001b[0m\u001b[0;34m\u001b[0m\u001b[0m\n\u001b[0m\u001b[1;32m    781\u001b[0m \u001b[0;34m\u001b[0m\u001b[0m\n\u001b[1;32m    782\u001b[0m       \u001b[0mnew_tracing_count\u001b[0m \u001b[0;34m=\u001b[0m \u001b[0mself\u001b[0m\u001b[0;34m.\u001b[0m\u001b[0m_get_tracing_count\u001b[0m\u001b[0;34m(\u001b[0m\u001b[0;34m)\u001b[0m\u001b[0;34m\u001b[0m\u001b[0;34m\u001b[0m\u001b[0m\n",
            "\u001b[0;32m/usr/local/lib/python3.6/dist-packages/tensorflow/python/eager/def_function.py\u001b[0m in \u001b[0;36m_call\u001b[0;34m(self, *args, **kwds)\u001b[0m\n\u001b[1;32m    812\u001b[0m       \u001b[0;31m# In this case we have not created variables on the first call. So we can\u001b[0m\u001b[0;34m\u001b[0m\u001b[0;34m\u001b[0m\u001b[0;34m\u001b[0m\u001b[0m\n\u001b[1;32m    813\u001b[0m       \u001b[0;31m# run the first trace but we should fail if variables are created.\u001b[0m\u001b[0;34m\u001b[0m\u001b[0;34m\u001b[0m\u001b[0;34m\u001b[0m\u001b[0m\n\u001b[0;32m--> 814\u001b[0;31m       \u001b[0mresults\u001b[0m \u001b[0;34m=\u001b[0m \u001b[0mself\u001b[0m\u001b[0;34m.\u001b[0m\u001b[0m_stateful_fn\u001b[0m\u001b[0;34m(\u001b[0m\u001b[0;34m*\u001b[0m\u001b[0margs\u001b[0m\u001b[0;34m,\u001b[0m \u001b[0;34m**\u001b[0m\u001b[0mkwds\u001b[0m\u001b[0;34m)\u001b[0m\u001b[0;34m\u001b[0m\u001b[0;34m\u001b[0m\u001b[0m\n\u001b[0m\u001b[1;32m    815\u001b[0m       \u001b[0;32mif\u001b[0m \u001b[0mself\u001b[0m\u001b[0;34m.\u001b[0m\u001b[0m_created_variables\u001b[0m\u001b[0;34m:\u001b[0m\u001b[0;34m\u001b[0m\u001b[0;34m\u001b[0m\u001b[0m\n\u001b[1;32m    816\u001b[0m         raise ValueError(\"Creating variables on a non-first call to a function\"\n",
            "\u001b[0;32m/usr/local/lib/python3.6/dist-packages/tensorflow/python/eager/function.py\u001b[0m in \u001b[0;36m__call__\u001b[0;34m(self, *args, **kwargs)\u001b[0m\n\u001b[1;32m   2827\u001b[0m     \u001b[0;32mwith\u001b[0m \u001b[0mself\u001b[0m\u001b[0;34m.\u001b[0m\u001b[0m_lock\u001b[0m\u001b[0;34m:\u001b[0m\u001b[0;34m\u001b[0m\u001b[0;34m\u001b[0m\u001b[0m\n\u001b[1;32m   2828\u001b[0m       \u001b[0mgraph_function\u001b[0m\u001b[0;34m,\u001b[0m \u001b[0margs\u001b[0m\u001b[0;34m,\u001b[0m \u001b[0mkwargs\u001b[0m \u001b[0;34m=\u001b[0m \u001b[0mself\u001b[0m\u001b[0;34m.\u001b[0m\u001b[0m_maybe_define_function\u001b[0m\u001b[0;34m(\u001b[0m\u001b[0margs\u001b[0m\u001b[0;34m,\u001b[0m \u001b[0mkwargs\u001b[0m\u001b[0;34m)\u001b[0m\u001b[0;34m\u001b[0m\u001b[0;34m\u001b[0m\u001b[0m\n\u001b[0;32m-> 2829\u001b[0;31m     \u001b[0;32mreturn\u001b[0m \u001b[0mgraph_function\u001b[0m\u001b[0;34m.\u001b[0m\u001b[0m_filtered_call\u001b[0m\u001b[0;34m(\u001b[0m\u001b[0margs\u001b[0m\u001b[0;34m,\u001b[0m \u001b[0mkwargs\u001b[0m\u001b[0;34m)\u001b[0m  \u001b[0;31m# pylint: disable=protected-access\u001b[0m\u001b[0;34m\u001b[0m\u001b[0;34m\u001b[0m\u001b[0m\n\u001b[0m\u001b[1;32m   2830\u001b[0m \u001b[0;34m\u001b[0m\u001b[0m\n\u001b[1;32m   2831\u001b[0m   \u001b[0;34m@\u001b[0m\u001b[0mproperty\u001b[0m\u001b[0;34m\u001b[0m\u001b[0;34m\u001b[0m\u001b[0m\n",
            "\u001b[0;32m/usr/local/lib/python3.6/dist-packages/tensorflow/python/eager/function.py\u001b[0m in \u001b[0;36m_filtered_call\u001b[0;34m(self, args, kwargs, cancellation_manager)\u001b[0m\n\u001b[1;32m   1846\u001b[0m                            resource_variable_ops.BaseResourceVariable))],\n\u001b[1;32m   1847\u001b[0m         \u001b[0mcaptured_inputs\u001b[0m\u001b[0;34m=\u001b[0m\u001b[0mself\u001b[0m\u001b[0;34m.\u001b[0m\u001b[0mcaptured_inputs\u001b[0m\u001b[0;34m,\u001b[0m\u001b[0;34m\u001b[0m\u001b[0;34m\u001b[0m\u001b[0m\n\u001b[0;32m-> 1848\u001b[0;31m         cancellation_manager=cancellation_manager)\n\u001b[0m\u001b[1;32m   1849\u001b[0m \u001b[0;34m\u001b[0m\u001b[0m\n\u001b[1;32m   1850\u001b[0m   \u001b[0;32mdef\u001b[0m \u001b[0m_call_flat\u001b[0m\u001b[0;34m(\u001b[0m\u001b[0mself\u001b[0m\u001b[0;34m,\u001b[0m \u001b[0margs\u001b[0m\u001b[0;34m,\u001b[0m \u001b[0mcaptured_inputs\u001b[0m\u001b[0;34m,\u001b[0m \u001b[0mcancellation_manager\u001b[0m\u001b[0;34m=\u001b[0m\u001b[0;32mNone\u001b[0m\u001b[0;34m)\u001b[0m\u001b[0;34m:\u001b[0m\u001b[0;34m\u001b[0m\u001b[0;34m\u001b[0m\u001b[0m\n",
            "\u001b[0;32m/usr/local/lib/python3.6/dist-packages/tensorflow/python/eager/function.py\u001b[0m in \u001b[0;36m_call_flat\u001b[0;34m(self, args, captured_inputs, cancellation_manager)\u001b[0m\n\u001b[1;32m   1922\u001b[0m       \u001b[0;31m# No tape is watching; skip to running the function.\u001b[0m\u001b[0;34m\u001b[0m\u001b[0;34m\u001b[0m\u001b[0;34m\u001b[0m\u001b[0m\n\u001b[1;32m   1923\u001b[0m       return self._build_call_outputs(self._inference_function.call(\n\u001b[0;32m-> 1924\u001b[0;31m           ctx, args, cancellation_manager=cancellation_manager))\n\u001b[0m\u001b[1;32m   1925\u001b[0m     forward_backward = self._select_forward_and_backward_functions(\n\u001b[1;32m   1926\u001b[0m         \u001b[0margs\u001b[0m\u001b[0;34m,\u001b[0m\u001b[0;34m\u001b[0m\u001b[0;34m\u001b[0m\u001b[0m\n",
            "\u001b[0;32m/usr/local/lib/python3.6/dist-packages/tensorflow/python/eager/function.py\u001b[0m in \u001b[0;36mcall\u001b[0;34m(self, ctx, args, cancellation_manager)\u001b[0m\n\u001b[1;32m    548\u001b[0m               \u001b[0minputs\u001b[0m\u001b[0;34m=\u001b[0m\u001b[0margs\u001b[0m\u001b[0;34m,\u001b[0m\u001b[0;34m\u001b[0m\u001b[0;34m\u001b[0m\u001b[0m\n\u001b[1;32m    549\u001b[0m               \u001b[0mattrs\u001b[0m\u001b[0;34m=\u001b[0m\u001b[0mattrs\u001b[0m\u001b[0;34m,\u001b[0m\u001b[0;34m\u001b[0m\u001b[0;34m\u001b[0m\u001b[0m\n\u001b[0;32m--> 550\u001b[0;31m               ctx=ctx)\n\u001b[0m\u001b[1;32m    551\u001b[0m         \u001b[0;32melse\u001b[0m\u001b[0;34m:\u001b[0m\u001b[0;34m\u001b[0m\u001b[0;34m\u001b[0m\u001b[0m\n\u001b[1;32m    552\u001b[0m           outputs = execute.execute_with_cancellation(\n",
            "\u001b[0;32m/usr/local/lib/python3.6/dist-packages/tensorflow/python/eager/execute.py\u001b[0m in \u001b[0;36mquick_execute\u001b[0;34m(op_name, num_outputs, inputs, attrs, ctx, name)\u001b[0m\n\u001b[1;32m     58\u001b[0m     \u001b[0mctx\u001b[0m\u001b[0;34m.\u001b[0m\u001b[0mensure_initialized\u001b[0m\u001b[0;34m(\u001b[0m\u001b[0;34m)\u001b[0m\u001b[0;34m\u001b[0m\u001b[0;34m\u001b[0m\u001b[0m\n\u001b[1;32m     59\u001b[0m     tensors = pywrap_tfe.TFE_Py_Execute(ctx._handle, device_name, op_name,\n\u001b[0;32m---> 60\u001b[0;31m                                         inputs, attrs, num_outputs)\n\u001b[0m\u001b[1;32m     61\u001b[0m   \u001b[0;32mexcept\u001b[0m \u001b[0mcore\u001b[0m\u001b[0;34m.\u001b[0m\u001b[0m_NotOkStatusException\u001b[0m \u001b[0;32mas\u001b[0m \u001b[0me\u001b[0m\u001b[0;34m:\u001b[0m\u001b[0;34m\u001b[0m\u001b[0;34m\u001b[0m\u001b[0m\n\u001b[1;32m     62\u001b[0m     \u001b[0;32mif\u001b[0m \u001b[0mname\u001b[0m \u001b[0;32mis\u001b[0m \u001b[0;32mnot\u001b[0m \u001b[0;32mNone\u001b[0m\u001b[0;34m:\u001b[0m\u001b[0;34m\u001b[0m\u001b[0;34m\u001b[0m\u001b[0m\n",
            "\u001b[0;31mKeyboardInterrupt\u001b[0m: "
          ]
        }
      ]
    },
    {
      "cell_type": "markdown",
      "metadata": {
        "id": "f4AIfeaS8xcN"
      },
      "source": [
        "# **Curvas de precisión y pérdida**"
      ]
    },
    {
      "cell_type": "code",
      "metadata": {
        "id": "nOyTdAbv8xcP",
        "colab": {
          "base_uri": "https://localhost:8080/",
          "height": 231
        },
        "outputId": "ec9efe08-8959-4d10-c4a2-d3be1328a56c"
      },
      "source": [
        "import matplotlib.pyplot as plt\n",
        "\n",
        "acc = history.history['acc']\n",
        "val_acc = history.history['val_acc']\n",
        "max_val_acc = max(val_acc)\n",
        "max_val_acc_epoch= val_acc.index(max(val_acc)) + 1\n",
        "loss = history.history['loss']\n",
        "val_loss = history.history['val_loss']\n",
        "min_val_loss = min(val_loss)\n",
        "min_val_loss_epoch= val_loss.index(min(val_loss)) + 1\n",
        "\n",
        "epochs = range(len(acc))\n",
        "\n",
        "plt.plot(epochs, acc, 'go', label='Precisión en el entrenamiento')\n",
        "plt.plot(epochs, val_acc, 'r', label='Precisión en la validación')\n",
        "plt.plot(max_val_acc_epoch, max_val_acc, 'bo', label='Maximum accuracy')\n",
        "plt.title('Precisión durante el entrenamiento y la validación')\n",
        "plt.legend()\n",
        "print(\"Best accuracy epoch : % d, Value : % .1f\" %(max_val_acc_epoch, max_val_acc)) \n",
        "plt.figure()\n",
        "\n",
        "plt.plot(epochs, loss, 'go', label='Pérdida en el entrenamiento')\n",
        "plt.plot(epochs, val_loss, 'r', label='Pérdida en la validación')\n",
        "plt.plot(min_val_loss_epoch, min_val_loss, 'bo', label='Minimum loss')\n",
        "plt.title('Pérdida durante el entrenamiento y la validación')\n",
        "plt.legend()\n",
        "print(\"Best loss epoch : % d, Value : % .10f\" %(min_val_loss_epoch, min_val_loss))\n",
        "\n",
        "plt.show()"
      ],
      "execution_count": null,
      "outputs": [
        {
          "output_type": "error",
          "ename": "NameError",
          "evalue": "ignored",
          "traceback": [
            "\u001b[0;31m---------------------------------------------------------------------------\u001b[0m",
            "\u001b[0;31mNameError\u001b[0m                                 Traceback (most recent call last)",
            "\u001b[0;32m<ipython-input-30-58243a6e143d>\u001b[0m in \u001b[0;36m<module>\u001b[0;34m()\u001b[0m\n\u001b[1;32m      1\u001b[0m \u001b[0;32mimport\u001b[0m \u001b[0mmatplotlib\u001b[0m\u001b[0;34m.\u001b[0m\u001b[0mpyplot\u001b[0m \u001b[0;32mas\u001b[0m \u001b[0mplt\u001b[0m\u001b[0;34m\u001b[0m\u001b[0;34m\u001b[0m\u001b[0m\n\u001b[1;32m      2\u001b[0m \u001b[0;34m\u001b[0m\u001b[0m\n\u001b[0;32m----> 3\u001b[0;31m \u001b[0macc\u001b[0m \u001b[0;34m=\u001b[0m \u001b[0mhistory\u001b[0m\u001b[0;34m.\u001b[0m\u001b[0mhistory\u001b[0m\u001b[0;34m[\u001b[0m\u001b[0;34m'acc'\u001b[0m\u001b[0;34m]\u001b[0m\u001b[0;34m\u001b[0m\u001b[0;34m\u001b[0m\u001b[0m\n\u001b[0m\u001b[1;32m      4\u001b[0m \u001b[0mval_acc\u001b[0m \u001b[0;34m=\u001b[0m \u001b[0mhistory\u001b[0m\u001b[0;34m.\u001b[0m\u001b[0mhistory\u001b[0m\u001b[0;34m[\u001b[0m\u001b[0;34m'val_acc'\u001b[0m\u001b[0;34m]\u001b[0m\u001b[0;34m\u001b[0m\u001b[0;34m\u001b[0m\u001b[0m\n\u001b[1;32m      5\u001b[0m \u001b[0mmax_val_acc\u001b[0m \u001b[0;34m=\u001b[0m \u001b[0mmax\u001b[0m\u001b[0;34m(\u001b[0m\u001b[0mval_acc\u001b[0m\u001b[0;34m)\u001b[0m\u001b[0;34m\u001b[0m\u001b[0;34m\u001b[0m\u001b[0m\n",
            "\u001b[0;31mNameError\u001b[0m: name 'history' is not defined"
          ]
        }
      ]
    },
    {
      "cell_type": "markdown",
      "metadata": {
        "id": "8Zd-LQyEeHzV"
      },
      "source": [
        "# **Re-entrenamiento del modelo**"
      ]
    },
    {
      "cell_type": "code",
      "metadata": {
        "id": "qPaLLNt0eT1y"
      },
      "source": [
        "from tensorflow.keras import layers\n",
        "from tensorflow.keras import models\n",
        "\n",
        "model = models.Sequential()\n",
        "model.add(conv_base)\n",
        "model.add(layers.MaxPooling2D((2, 2)))\n",
        "model.add(layers.BatchNormalization())\n",
        "model.add(layers.Flatten())\n",
        "model.add(layers.Dense(18, activation='softmax'))\n",
        "\n",
        "from keras import optimizers\n",
        "model.compile(loss='categorical_crossentropy',\n",
        "              optimizer=optimizers.RMSprop(lr=1e-4),\n",
        "              metrics=['acc'])"
      ],
      "execution_count": null,
      "outputs": []
    },
    {
      "cell_type": "code",
      "metadata": {
        "id": "2NxtTV9Lfa8N",
        "colab": {
          "base_uri": "https://localhost:8080/"
        },
        "outputId": "e8f8f8b7-6e37-40e4-9a8d-6f33a87ceb58"
      },
      "source": [
        "#Training and validation stages\n",
        "history = model.fit(\n",
        "      train_generator,\n",
        "      steps_per_epoch=254, #70\n",
        "      epochs= 3)"
      ],
      "execution_count": null,
      "outputs": [
        {
          "output_type": "stream",
          "text": [
            "Epoch 1/3\n",
            "254/254 [==============================] - 5s 21ms/step - loss: 0.0568 - acc: 0.9891\n",
            "Epoch 2/3\n",
            "254/254 [==============================] - 5s 21ms/step - loss: 4.2741e-05 - acc: 1.0000\n",
            "Epoch 3/3\n",
            "254/254 [==============================] - 5s 21ms/step - loss: 1.8280e-05 - acc: 1.0000\n"
          ],
          "name": "stdout"
        }
      ]
    },
    {
      "cell_type": "code",
      "metadata": {
        "id": "3VQF2x6pzLh2"
      },
      "source": [
        "#Guardamos el modelo\n",
        "model.save('/content/drive/My Drive/Terravic_Facial_IR_Database/face_recognition_model1.h5')"
      ],
      "execution_count": null,
      "outputs": []
    },
    {
      "cell_type": "code",
      "metadata": {
        "id": "5lHMJ-n2zXGT"
      },
      "source": [
        "#Cargamos el modelo\n",
        "import tensorflow as tf\n",
        "model = tf.keras.models.load_model('/content/drive/My Drive/Terravic_Facial_IR_Database/face_recognition_model1.h5', compile=False)"
      ],
      "execution_count": null,
      "outputs": []
    },
    {
      "cell_type": "markdown",
      "metadata": {
        "id": "NgeW-BUuKQwl"
      },
      "source": [
        "# **Evaluación del modelo final**"
      ]
    },
    {
      "cell_type": "code",
      "metadata": {
        "id": "kl4H8Zy5edcB",
        "colab": {
          "base_uri": "https://localhost:8080/"
        },
        "outputId": "8043c023-9492-4d82-a525-65b68198a41d"
      },
      "source": [
        "#Test stage\n",
        "test_generator = test_datagen.flow_from_directory(\n",
        "        test_dir,\n",
        "        target_size=(72, 96),\n",
        "        batch_size=1,\n",
        "        color_mode='rgb',\n",
        "        class_mode='categorical')"
      ],
      "execution_count": null,
      "outputs": [
        {
          "output_type": "stream",
          "text": [
            "Found 10246 images belonging to 18 classes.\n"
          ],
          "name": "stdout"
        }
      ]
    },
    {
      "cell_type": "code",
      "metadata": {
        "colab": {
          "base_uri": "https://localhost:8080/"
        },
        "id": "zLMb3p4FdBcM",
        "outputId": "7b1867dc-fdf2-4938-c8c4-a2a8857b92b5"
      },
      "source": [
        "test_loss, test_acc = model.evaluate(test_generator, steps=10252)\n",
        "print('Recognition rate: ', test_acc)"
      ],
      "execution_count": null,
      "outputs": [
        {
          "output_type": "stream",
          "text": [
            "10237/10252 [============================>.] - ETA: 0s - loss: 4.9650e-07 - acc: 1.0000WARNING:tensorflow:Your input ran out of data; interrupting training. Make sure that your dataset or generator can generate at least `steps_per_epoch * epochs` batches (in this case, 10252 batches). You may need to use the repeat() function when building your dataset.\n",
            "10246/10252 [============================>.] - 53s 5ms/step - loss: 4.9609e-07 - acc: 1.0000\n",
            "Recognition rate:  1.0\n"
          ],
          "name": "stdout"
        }
      ]
    },
    {
      "cell_type": "code",
      "metadata": {
        "colab": {
          "base_uri": "https://localhost:8080/"
        },
        "id": "aOdpKOiedg83",
        "outputId": "e1c6d83a-17cb-4625-ec99-83f58d1fb600"
      },
      "source": [
        "print('Recognition rate: ', test_loss)"
      ],
      "execution_count": null,
      "outputs": [
        {
          "output_type": "stream",
          "text": [
            "Recognition rate:  4.960852493240964e-07\n"
          ],
          "name": "stdout"
        }
      ]
    },
    {
      "cell_type": "markdown",
      "metadata": {
        "id": "0B741ANM4J1d"
      },
      "source": [
        "# **Predicciones**"
      ]
    },
    {
      "cell_type": "markdown",
      "metadata": {
        "id": "n3e_8d9L2mYD"
      },
      "source": [
        "**Particular**"
      ]
    },
    {
      "cell_type": "code",
      "metadata": {
        "id": "r1VfdtbNncQr"
      },
      "source": [
        "from PIL import Image\n",
        "\n",
        "width = 96\n",
        "height = 72\n",
        "image_face = Image.open('test/face17/01349.jpg')\n",
        "image_face = image_face.resize((width, height), Image.ANTIALIAS)\n",
        "image_face = np.array(image_face) #La imagen se convierte en un arreglo\n",
        "image_face = image_face / 255.0"
      ],
      "execution_count": null,
      "outputs": []
    },
    {
      "cell_type": "code",
      "metadata": {
        "colab": {
          "base_uri": "https://localhost:8080/"
        },
        "id": "OJHLuNQSgTo2",
        "outputId": "6fcb87a4-772b-4dd5-9934-f6fcd7fe61b6"
      },
      "source": [
        "image_face = np.expand_dims(image_face, axis = 0)\n",
        "image_face = np.expand_dims(image_face, axis = -1) # image_face: (1, 72, 96, 1) #Tensor\n",
        "image_face = np.stack((image_face[:,:,:,0], image_face[:,:,:,0], image_face[:,:,:,0]), axis=3) # image_face: (1, 72, 96, 3)\n",
        "print(image_face.shape)\n",
        "prediction = model.predict(image_face)\n",
        "print('La imagen pertenece a la persona', np.argmax(prediction)+1)"
      ],
      "execution_count": null,
      "outputs": [
        {
          "output_type": "stream",
          "text": [
            "(1, 72, 96, 3)\n",
            "La imagen pertenece a la persona 17\n"
          ],
          "name": "stdout"
        }
      ]
    },
    {
      "cell_type": "markdown",
      "metadata": {
        "id": "c-xRUS-v2oKr"
      },
      "source": [
        "**General**"
      ]
    },
    {
      "cell_type": "code",
      "metadata": {
        "id": "7CUpXKwO1WY7",
        "colab": {
          "base_uri": "https://localhost:8080/",
          "height": 374
        },
        "outputId": "b8ca3261-480f-4db2-fe51-d72bdaa8b42e"
      },
      "source": [
        "predictions = []\n",
        "labels = []\n",
        "for individual in range(1,19):\n",
        "  if (individual) < 10:\n",
        "    person = 'face0{}/'.format(individual)\n",
        "  elif (individual) >= 10:\n",
        "    person = 'face{}/'.format(individual)\n",
        "  for index in range(len(os.listdir('train/'+person)) + len(os.listdir('validation/'+person)), len(os.listdir('train/'+person)) + len(os.listdir('validation/'+person)) + len(os.listdir('test/'+person))):\n",
        "    width = 96\n",
        "    height = 72\n",
        "    if index < 100:\n",
        "      image_face = Image.open('test/'+person+'00{}.jpg'.format(index))\n",
        "    else:\n",
        "      image_face = Image.open('test/'+person+'0{}.jpg'.format(index))\n",
        "    image_face = image_face.resize((width, height), Image.ANTIALIAS)\n",
        "    image_face = np.array(image_face)\n",
        "    image_face = image_face / 255.0\n",
        "    image_face = np.expand_dims(image_face, axis = 0)\n",
        "    image_face = np.expand_dims(image_face, axis = -1)\n",
        "    image_face = np.stack((image_face[:,:,:,0], image_face[:,:,:,0], image_face[:,:,:,0]), axis=3)\n",
        "    prediction = model.predict(image_face)\n",
        "    predictions.append(np.argmax(prediction)+1)\n",
        "    labels.append(individual)"
      ],
      "execution_count": null,
      "outputs": [
        {
          "output_type": "error",
          "ename": "KeyboardInterrupt",
          "evalue": "ignored",
          "traceback": [
            "\u001b[0;31m---------------------------------------------------------------------------\u001b[0m",
            "\u001b[0;31mKeyboardInterrupt\u001b[0m                         Traceback (most recent call last)",
            "\u001b[0;32m<ipython-input-46-0f5f67b98d97>\u001b[0m in \u001b[0;36m<module>\u001b[0;34m()\u001b[0m\n\u001b[1;32m     19\u001b[0m     \u001b[0mimage_face\u001b[0m \u001b[0;34m=\u001b[0m \u001b[0mnp\u001b[0m\u001b[0;34m.\u001b[0m\u001b[0mexpand_dims\u001b[0m\u001b[0;34m(\u001b[0m\u001b[0mimage_face\u001b[0m\u001b[0;34m,\u001b[0m \u001b[0maxis\u001b[0m \u001b[0;34m=\u001b[0m \u001b[0;34m-\u001b[0m\u001b[0;36m1\u001b[0m\u001b[0;34m)\u001b[0m\u001b[0;34m\u001b[0m\u001b[0;34m\u001b[0m\u001b[0m\n\u001b[1;32m     20\u001b[0m     \u001b[0mimage_face\u001b[0m \u001b[0;34m=\u001b[0m \u001b[0mnp\u001b[0m\u001b[0;34m.\u001b[0m\u001b[0mstack\u001b[0m\u001b[0;34m(\u001b[0m\u001b[0;34m(\u001b[0m\u001b[0mimage_face\u001b[0m\u001b[0;34m[\u001b[0m\u001b[0;34m:\u001b[0m\u001b[0;34m,\u001b[0m\u001b[0;34m:\u001b[0m\u001b[0;34m,\u001b[0m\u001b[0;34m:\u001b[0m\u001b[0;34m,\u001b[0m\u001b[0;36m0\u001b[0m\u001b[0;34m]\u001b[0m\u001b[0;34m,\u001b[0m \u001b[0mimage_face\u001b[0m\u001b[0;34m[\u001b[0m\u001b[0;34m:\u001b[0m\u001b[0;34m,\u001b[0m\u001b[0;34m:\u001b[0m\u001b[0;34m,\u001b[0m\u001b[0;34m:\u001b[0m\u001b[0;34m,\u001b[0m\u001b[0;36m0\u001b[0m\u001b[0;34m]\u001b[0m\u001b[0;34m,\u001b[0m \u001b[0mimage_face\u001b[0m\u001b[0;34m[\u001b[0m\u001b[0;34m:\u001b[0m\u001b[0;34m,\u001b[0m\u001b[0;34m:\u001b[0m\u001b[0;34m,\u001b[0m\u001b[0;34m:\u001b[0m\u001b[0;34m,\u001b[0m\u001b[0;36m0\u001b[0m\u001b[0;34m]\u001b[0m\u001b[0;34m)\u001b[0m\u001b[0;34m,\u001b[0m \u001b[0maxis\u001b[0m\u001b[0;34m=\u001b[0m\u001b[0;36m3\u001b[0m\u001b[0;34m)\u001b[0m\u001b[0;34m\u001b[0m\u001b[0;34m\u001b[0m\u001b[0m\n\u001b[0;32m---> 21\u001b[0;31m     \u001b[0mprediction\u001b[0m \u001b[0;34m=\u001b[0m \u001b[0mmodel\u001b[0m\u001b[0;34m.\u001b[0m\u001b[0mpredict\u001b[0m\u001b[0;34m(\u001b[0m\u001b[0mimage_face\u001b[0m\u001b[0;34m)\u001b[0m\u001b[0;34m\u001b[0m\u001b[0;34m\u001b[0m\u001b[0m\n\u001b[0m\u001b[1;32m     22\u001b[0m     \u001b[0mpredictions\u001b[0m\u001b[0;34m.\u001b[0m\u001b[0mappend\u001b[0m\u001b[0;34m(\u001b[0m\u001b[0mnp\u001b[0m\u001b[0;34m.\u001b[0m\u001b[0margmax\u001b[0m\u001b[0;34m(\u001b[0m\u001b[0mprediction\u001b[0m\u001b[0;34m)\u001b[0m\u001b[0;34m+\u001b[0m\u001b[0;36m1\u001b[0m\u001b[0;34m)\u001b[0m\u001b[0;34m\u001b[0m\u001b[0;34m\u001b[0m\u001b[0m\n\u001b[1;32m     23\u001b[0m     \u001b[0mlabels\u001b[0m\u001b[0;34m.\u001b[0m\u001b[0mappend\u001b[0m\u001b[0;34m(\u001b[0m\u001b[0mindividual\u001b[0m\u001b[0;34m)\u001b[0m\u001b[0;34m\u001b[0m\u001b[0;34m\u001b[0m\u001b[0m\n",
            "\u001b[0;32m/usr/local/lib/python3.6/dist-packages/tensorflow/python/keras/engine/training.py\u001b[0m in \u001b[0;36m_method_wrapper\u001b[0;34m(self, *args, **kwargs)\u001b[0m\n\u001b[1;32m    128\u001b[0m       raise ValueError('{} is not supported in multi-worker mode.'.format(\n\u001b[1;32m    129\u001b[0m           method.__name__))\n\u001b[0;32m--> 130\u001b[0;31m     \u001b[0;32mreturn\u001b[0m \u001b[0mmethod\u001b[0m\u001b[0;34m(\u001b[0m\u001b[0mself\u001b[0m\u001b[0;34m,\u001b[0m \u001b[0;34m*\u001b[0m\u001b[0margs\u001b[0m\u001b[0;34m,\u001b[0m \u001b[0;34m**\u001b[0m\u001b[0mkwargs\u001b[0m\u001b[0;34m)\u001b[0m\u001b[0;34m\u001b[0m\u001b[0;34m\u001b[0m\u001b[0m\n\u001b[0m\u001b[1;32m    131\u001b[0m \u001b[0;34m\u001b[0m\u001b[0m\n\u001b[1;32m    132\u001b[0m   return tf_decorator.make_decorator(\n",
            "\u001b[0;32m/usr/local/lib/python3.6/dist-packages/tensorflow/python/keras/engine/training.py\u001b[0m in \u001b[0;36mpredict\u001b[0;34m(self, x, batch_size, verbose, steps, callbacks, max_queue_size, workers, use_multiprocessing)\u001b[0m\n\u001b[1;32m   1593\u001b[0m       \u001b[0mself\u001b[0m\u001b[0;34m.\u001b[0m\u001b[0m_predict_counter\u001b[0m\u001b[0;34m.\u001b[0m\u001b[0massign\u001b[0m\u001b[0;34m(\u001b[0m\u001b[0;36m0\u001b[0m\u001b[0;34m)\u001b[0m\u001b[0;34m\u001b[0m\u001b[0;34m\u001b[0m\u001b[0m\n\u001b[1;32m   1594\u001b[0m       \u001b[0mcallbacks\u001b[0m\u001b[0;34m.\u001b[0m\u001b[0mon_predict_begin\u001b[0m\u001b[0;34m(\u001b[0m\u001b[0;34m)\u001b[0m\u001b[0;34m\u001b[0m\u001b[0;34m\u001b[0m\u001b[0m\n\u001b[0;32m-> 1595\u001b[0;31m       \u001b[0;32mfor\u001b[0m \u001b[0m_\u001b[0m\u001b[0;34m,\u001b[0m \u001b[0miterator\u001b[0m \u001b[0;32min\u001b[0m \u001b[0mdata_handler\u001b[0m\u001b[0;34m.\u001b[0m\u001b[0menumerate_epochs\u001b[0m\u001b[0;34m(\u001b[0m\u001b[0;34m)\u001b[0m\u001b[0;34m:\u001b[0m  \u001b[0;31m# Single epoch.\u001b[0m\u001b[0;34m\u001b[0m\u001b[0;34m\u001b[0m\u001b[0m\n\u001b[0m\u001b[1;32m   1596\u001b[0m         \u001b[0;32mwith\u001b[0m \u001b[0mdata_handler\u001b[0m\u001b[0;34m.\u001b[0m\u001b[0mcatch_stop_iteration\u001b[0m\u001b[0;34m(\u001b[0m\u001b[0;34m)\u001b[0m\u001b[0;34m:\u001b[0m\u001b[0;34m\u001b[0m\u001b[0;34m\u001b[0m\u001b[0m\n\u001b[1;32m   1597\u001b[0m           \u001b[0;32mfor\u001b[0m \u001b[0mstep\u001b[0m \u001b[0;32min\u001b[0m \u001b[0mdata_handler\u001b[0m\u001b[0;34m.\u001b[0m\u001b[0msteps\u001b[0m\u001b[0;34m(\u001b[0m\u001b[0;34m)\u001b[0m\u001b[0;34m:\u001b[0m\u001b[0;34m\u001b[0m\u001b[0;34m\u001b[0m\u001b[0m\n",
            "\u001b[0;32m/usr/local/lib/python3.6/dist-packages/tensorflow/python/keras/engine/data_adapter.py\u001b[0m in \u001b[0;36menumerate_epochs\u001b[0;34m(self)\u001b[0m\n\u001b[1;32m   1136\u001b[0m     \u001b[0;34m\"\"\"Yields `(epoch, tf.data.Iterator)`.\"\"\"\u001b[0m\u001b[0;34m\u001b[0m\u001b[0;34m\u001b[0m\u001b[0m\n\u001b[1;32m   1137\u001b[0m     \u001b[0;32mwith\u001b[0m \u001b[0mself\u001b[0m\u001b[0;34m.\u001b[0m\u001b[0m_truncate_execution_to_epoch\u001b[0m\u001b[0;34m(\u001b[0m\u001b[0;34m)\u001b[0m\u001b[0;34m:\u001b[0m\u001b[0;34m\u001b[0m\u001b[0;34m\u001b[0m\u001b[0m\n\u001b[0;32m-> 1138\u001b[0;31m       \u001b[0mdata_iterator\u001b[0m \u001b[0;34m=\u001b[0m \u001b[0miter\u001b[0m\u001b[0;34m(\u001b[0m\u001b[0mself\u001b[0m\u001b[0;34m.\u001b[0m\u001b[0m_dataset\u001b[0m\u001b[0;34m)\u001b[0m\u001b[0;34m\u001b[0m\u001b[0;34m\u001b[0m\u001b[0m\n\u001b[0m\u001b[1;32m   1139\u001b[0m       \u001b[0;32mfor\u001b[0m \u001b[0mepoch\u001b[0m \u001b[0;32min\u001b[0m \u001b[0mrange\u001b[0m\u001b[0;34m(\u001b[0m\u001b[0mself\u001b[0m\u001b[0;34m.\u001b[0m\u001b[0m_initial_epoch\u001b[0m\u001b[0;34m,\u001b[0m \u001b[0mself\u001b[0m\u001b[0;34m.\u001b[0m\u001b[0m_epochs\u001b[0m\u001b[0;34m)\u001b[0m\u001b[0;34m:\u001b[0m\u001b[0;34m\u001b[0m\u001b[0;34m\u001b[0m\u001b[0m\n\u001b[1;32m   1140\u001b[0m         \u001b[0;32mif\u001b[0m \u001b[0mself\u001b[0m\u001b[0;34m.\u001b[0m\u001b[0m_insufficient_data\u001b[0m\u001b[0;34m:\u001b[0m  \u001b[0;31m# Set by `catch_stop_iteration`.\u001b[0m\u001b[0;34m\u001b[0m\u001b[0;34m\u001b[0m\u001b[0m\n",
            "\u001b[0;32m/usr/local/lib/python3.6/dist-packages/tensorflow/python/data/ops/dataset_ops.py\u001b[0m in \u001b[0;36m__iter__\u001b[0;34m(self)\u001b[0m\n\u001b[1;32m    413\u001b[0m     \"\"\"\n\u001b[1;32m    414\u001b[0m     \u001b[0;32mif\u001b[0m \u001b[0mcontext\u001b[0m\u001b[0;34m.\u001b[0m\u001b[0mexecuting_eagerly\u001b[0m\u001b[0;34m(\u001b[0m\u001b[0;34m)\u001b[0m \u001b[0;32mor\u001b[0m \u001b[0mops\u001b[0m\u001b[0;34m.\u001b[0m\u001b[0minside_function\u001b[0m\u001b[0;34m(\u001b[0m\u001b[0;34m)\u001b[0m\u001b[0;34m:\u001b[0m\u001b[0;34m\u001b[0m\u001b[0;34m\u001b[0m\u001b[0m\n\u001b[0;32m--> 415\u001b[0;31m       \u001b[0;32mreturn\u001b[0m \u001b[0miterator_ops\u001b[0m\u001b[0;34m.\u001b[0m\u001b[0mOwnedIterator\u001b[0m\u001b[0;34m(\u001b[0m\u001b[0mself\u001b[0m\u001b[0;34m)\u001b[0m\u001b[0;34m\u001b[0m\u001b[0;34m\u001b[0m\u001b[0m\n\u001b[0m\u001b[1;32m    416\u001b[0m     \u001b[0;32melse\u001b[0m\u001b[0;34m:\u001b[0m\u001b[0;34m\u001b[0m\u001b[0;34m\u001b[0m\u001b[0m\n\u001b[1;32m    417\u001b[0m       raise RuntimeError(\"__iter__() is only supported inside of tf.function \"\n",
            "\u001b[0;32m/usr/local/lib/python3.6/dist-packages/tensorflow/python/data/ops/iterator_ops.py\u001b[0m in \u001b[0;36m__init__\u001b[0;34m(self, dataset, components, element_spec, job_token)\u001b[0m\n\u001b[1;32m    694\u001b[0m           context.context().device_spec.device_type != \"CPU\"):\n\u001b[1;32m    695\u001b[0m         \u001b[0;32mwith\u001b[0m \u001b[0mops\u001b[0m\u001b[0;34m.\u001b[0m\u001b[0mdevice\u001b[0m\u001b[0;34m(\u001b[0m\u001b[0;34m\"/cpu:0\"\u001b[0m\u001b[0;34m)\u001b[0m\u001b[0;34m:\u001b[0m\u001b[0;34m\u001b[0m\u001b[0;34m\u001b[0m\u001b[0m\n\u001b[0;32m--> 696\u001b[0;31m           \u001b[0mself\u001b[0m\u001b[0;34m.\u001b[0m\u001b[0m_create_iterator\u001b[0m\u001b[0;34m(\u001b[0m\u001b[0mdataset\u001b[0m\u001b[0;34m)\u001b[0m\u001b[0;34m\u001b[0m\u001b[0;34m\u001b[0m\u001b[0m\n\u001b[0m\u001b[1;32m    697\u001b[0m       \u001b[0;32melse\u001b[0m\u001b[0;34m:\u001b[0m\u001b[0;34m\u001b[0m\u001b[0;34m\u001b[0m\u001b[0m\n\u001b[1;32m    698\u001b[0m         \u001b[0mself\u001b[0m\u001b[0;34m.\u001b[0m\u001b[0m_create_iterator\u001b[0m\u001b[0;34m(\u001b[0m\u001b[0mdataset\u001b[0m\u001b[0;34m)\u001b[0m\u001b[0;34m\u001b[0m\u001b[0;34m\u001b[0m\u001b[0m\n",
            "\u001b[0;32m/usr/local/lib/python3.6/dist-packages/tensorflow/python/data/ops/iterator_ops.py\u001b[0m in \u001b[0;36m_create_iterator\u001b[0;34m(self, dataset)\u001b[0m\n\u001b[1;32m    720\u001b[0m               output_shapes=self._flat_output_shapes))\n\u001b[1;32m    721\u001b[0m       \u001b[0;32mif\u001b[0m \u001b[0mself\u001b[0m\u001b[0;34m.\u001b[0m\u001b[0m_job_token\u001b[0m \u001b[0;32mis\u001b[0m \u001b[0;32mNone\u001b[0m\u001b[0;34m:\u001b[0m\u001b[0;34m\u001b[0m\u001b[0;34m\u001b[0m\u001b[0m\n\u001b[0;32m--> 722\u001b[0;31m         \u001b[0mgen_dataset_ops\u001b[0m\u001b[0;34m.\u001b[0m\u001b[0mmake_iterator\u001b[0m\u001b[0;34m(\u001b[0m\u001b[0mds_variant\u001b[0m\u001b[0;34m,\u001b[0m \u001b[0mself\u001b[0m\u001b[0;34m.\u001b[0m\u001b[0m_iterator_resource\u001b[0m\u001b[0;34m)\u001b[0m\u001b[0;34m\u001b[0m\u001b[0;34m\u001b[0m\u001b[0m\n\u001b[0m\u001b[1;32m    723\u001b[0m       \u001b[0;32melse\u001b[0m\u001b[0;34m:\u001b[0m\u001b[0;34m\u001b[0m\u001b[0;34m\u001b[0m\u001b[0m\n\u001b[1;32m    724\u001b[0m         gen_experimental_dataset_ops.make_data_service_iterator(\n",
            "\u001b[0;32m/usr/local/lib/python3.6/dist-packages/tensorflow/python/ops/gen_dataset_ops.py\u001b[0m in \u001b[0;36mmake_iterator\u001b[0;34m(dataset, iterator, name)\u001b[0m\n\u001b[1;32m   3005\u001b[0m       _result = pywrap_tfe.TFE_Py_FastPathExecute(\n\u001b[1;32m   3006\u001b[0m         \u001b[0m_ctx\u001b[0m\u001b[0;34m.\u001b[0m\u001b[0m_context_handle\u001b[0m\u001b[0;34m,\u001b[0m \u001b[0mtld\u001b[0m\u001b[0;34m.\u001b[0m\u001b[0mdevice_name\u001b[0m\u001b[0;34m,\u001b[0m \u001b[0;34m\"MakeIterator\"\u001b[0m\u001b[0;34m,\u001b[0m \u001b[0mname\u001b[0m\u001b[0;34m,\u001b[0m\u001b[0;34m\u001b[0m\u001b[0;34m\u001b[0m\u001b[0m\n\u001b[0;32m-> 3007\u001b[0;31m         tld.op_callbacks, dataset, iterator)\n\u001b[0m\u001b[1;32m   3008\u001b[0m       \u001b[0;32mreturn\u001b[0m \u001b[0m_result\u001b[0m\u001b[0;34m\u001b[0m\u001b[0;34m\u001b[0m\u001b[0m\n\u001b[1;32m   3009\u001b[0m     \u001b[0;32mexcept\u001b[0m \u001b[0m_core\u001b[0m\u001b[0;34m.\u001b[0m\u001b[0m_NotOkStatusException\u001b[0m \u001b[0;32mas\u001b[0m \u001b[0me\u001b[0m\u001b[0;34m:\u001b[0m\u001b[0;34m\u001b[0m\u001b[0;34m\u001b[0m\u001b[0m\n",
            "\u001b[0;31mKeyboardInterrupt\u001b[0m: "
          ]
        }
      ]
    },
    {
      "cell_type": "code",
      "metadata": {
        "id": "Mul7jpwtu5bf"
      },
      "source": [
        "predictions = []\n",
        "labels = []\n",
        "for individual in range(1,19):\n",
        "  if (individual) < 10:\n",
        "    face = 'face0{}/'.format(individual)\n",
        "  elif (individual) >= 10:\n",
        "    face = 'face{}/'.format(individual)\n",
        "  for index in range(len(os.listdir('train/'+face)) + len(os.listdir('validation/'+face)), len(os.listdir('train/'+face)) + len(os.listdir('validation/'+face)) + len(os.listdir('test/'+face))):\n",
        "    width = 96\n",
        "    height = 72\n",
        "    if index < 100:\n",
        "      image_face = Image.open('test/'+face+'00{}.jpg'.format(index))\n",
        "    else:\n",
        "      image_face = Image.open('test/'+face+'0{}.jpg'.format(index))\n",
        "    image_face = image_face.resize((width, height), Image.ANTIALIAS)\n",
        "    image_face = np.array(image_face)\n",
        "    image_face = image_face / 255.0\n",
        "    image_face = np.expand_dims(image_face, axis = 0)\n",
        "    image_face = np.expand_dims(image_face, axis = -1)\n",
        "    image_face = np.stack((image_face[:,:,:,0], image_face[:,:,:,0], image_face[:,:,:,0]), axis=3)\n",
        "    prediction = model.predict(image_face)\n",
        "    predictions.append(np.argmax(prediction)+1)\n",
        "    labels.append(individual)"
      ],
      "execution_count": null,
      "outputs": []
    },
    {
      "cell_type": "markdown",
      "metadata": {
        "id": "RhcsxDg8_m3I"
      },
      "source": [
        "# **Evaluación del desempeño mediante matriz de confusión y F1**"
      ]
    },
    {
      "cell_type": "markdown",
      "metadata": {
        "id": "Wcdn1KOH_YDn"
      },
      "source": [
        "**Matriz de confusión**"
      ]
    },
    {
      "cell_type": "code",
      "metadata": {
        "id": "pRRuGE8l_aCi",
        "colab": {
          "base_uri": "https://localhost:8080/"
        },
        "outputId": "9ba4c97b-80e1-44ac-f061-117b4a8e0db2"
      },
      "source": [
        "from sklearn.metrics import confusion_matrix\n",
        "mcm = confusion_matrix(labels, predictions)\n",
        "print(mcm)"
      ],
      "execution_count": null,
      "outputs": [
        {
          "output_type": "stream",
          "text": [
            "[[  50    0    0    0    0    0    0    0    0    0    0    0    0    0\n",
            "     0    0    0    0]\n",
            " [   0  247    0    0    0    0    0    0    0    0    0    0    0    0\n",
            "     0    0    0    0]\n",
            " [   0    0  233    0    0    0    0    0    0    0    0    0    0    0\n",
            "     0    0    0    0]\n",
            " [   0    0    0  180    0    0    0    0    0    0    0    0    0    0\n",
            "     0    0    0    0]\n",
            " [   0    0    0    0  585    0    0    0    0    0    0    0    0    0\n",
            "     0    0    0    0]\n",
            " [   0    0    0    0    0  365    0    0    0    0    0    0    0    0\n",
            "     0    0    0    0]\n",
            " [   0    0    0    0    0    0  495    0    0    0    0    0    0    0\n",
            "     0    0    0    0]\n",
            " [   0    0    0    0    0    0    0   78    0    0    0    0    0    0\n",
            "     0    0    0    0]\n",
            " [   0    0    0    0    0    0    0    0  154    0    0    0    0    0\n",
            "     0    0    0    0]\n",
            " [   0    0    0    0    0    0    0    0    0 1026    0    0    0    0\n",
            "     0    0    0    0]\n",
            " [   0    0    0    0    0    0    0    0    0    0  645    0    0    0\n",
            "     0    0    0    0]\n",
            " [   0    0    0    0    0    0    0    0    0    0    0  678    0    0\n",
            "     0    0    0    0]\n",
            " [   0    0    0    0    0    0    0    0    0    0    0    0  499    0\n",
            "     0    0    0    0]\n",
            " [   0    0    0    0    0    0    0    0    0    0    0    0    0  742\n",
            "     0    0    0    0]\n",
            " [   0    0    0    0    0    0    0    0    0    0    0    0    0    0\n",
            "  1253    0    0    0]\n",
            " [   0    0    0    0    0    0    0    0    0    0    0    0    0    0\n",
            "     0 1044    0    0]\n",
            " [   0    0    0    0    0    0    0    0    0    0    0    0    0    0\n",
            "     0    0 1206    0]\n",
            " [   0    0    0    0    0    0    0    0    0    0    0    0    0    0\n",
            "     0    0    0  772]]\n"
          ],
          "name": "stdout"
        }
      ]
    },
    {
      "cell_type": "markdown",
      "metadata": {
        "id": "xfvhAlBdms5K"
      },
      "source": [
        "**Individuo 1 vs Todos los demás** "
      ]
    },
    {
      "cell_type": "code",
      "metadata": {
        "id": "HVtEkxKBnE-O",
        "colab": {
          "base_uri": "https://localhost:8080/",
          "height": 370
        },
        "outputId": "45bca120-617f-416b-9b86-a9ad0076f4b1"
      },
      "source": [
        "import matplotlib.pyplot as plt\n",
        "import seaborn as sns\n",
        "\n",
        "fig, ax = plt.subplots(figsize=(5, 5))\n",
        "ax.matshow(mcm, cmap=plt.cm.Blues, alpha=0.5)\n",
        "for i in range(mcm.shape[0]):\n",
        "  for j in range(mcm.shape[1]):\n",
        "      ax.text(x=j, y=i, s=mcm[i, j], va='center', ha='center')\n",
        "\n",
        "plt.title(\"Matriz de confusión\",fontsize=15)\n",
        "#plt.title('f model: T= %d' % (t))\n",
        "plt.xlabel('Predicciones')\n",
        "plt.ylabel('Valores verdaderos o etiquetas')\n",
        "\n",
        "plt.tight_layout()\n",
        "plt.show()"
      ],
      "execution_count": null,
      "outputs": [
        {
          "output_type": "display_data",
          "data": {
            "image/png": "[encoded data removed]",
            "text/plain": [
              "<Figure size 360x360 with 1 Axes>"
            ]
          },
          "metadata": {
            "tags": [],
            "needs_background": "light"
          }
        }
      ]
    },
    {
      "cell_type": "markdown",
      "metadata": {
        "id": "M89n5NZ6_Mi2"
      },
      "source": [
        "**Calculamos la métrica F1**"
      ]
    },
    {
      "cell_type": "code",
      "metadata": {
        "id": "0P48jAGh9iD1",
        "colab": {
          "base_uri": "https://localhost:8080/"
        },
        "outputId": "4a7de3fa-645e-4b3a-9f57-3ca68d1f907d"
      },
      "source": [
        "from sklearn.metrics import precision_score\n",
        "from sklearn.metrics import recall_score, f1_score\n",
        "\n",
        "print('Precision: %.7f' % precision_score(y_true=labels, y_pred=predictions, average='macro'))\n",
        "print('Recall: %.7f' % recall_score(y_true=labels, y_pred=predictions, average='macro'))\n",
        "print('F1: %.7f' % f1_score(y_true=labels, y_pred=predictions, average='macro'))"
      ],
      "execution_count": null,
      "outputs": [
        {
          "output_type": "stream",
          "text": [
            "Precision: 1.0000000\n",
            "Recall: 1.0000000\n",
            "F1: 1.0000000\n"
          ],
          "name": "stdout"
        }
      ]
    }
  ]
}