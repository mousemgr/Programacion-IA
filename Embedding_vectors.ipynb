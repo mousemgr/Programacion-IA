{
  "nbformat": 4,
  "nbformat_minor": 0,
  "metadata": {
    "colab": {
      "name": "Embedding_vectors.ipynb",
      "provenance": [],
      "collapsed_sections": []
    },
    "kernelspec": {
      "name": "python3",
      "display_name": "Python 3"
    }
  },
  "cells": [
    {
      "cell_type": "code",
      "metadata": {
        "id": "U4uoWEjXeUul"
      },
      "source": [
        "from google.colab import drive\r\n",
        "drive.mount('/content/drive')"
      ],
      "execution_count": null,
      "outputs": []
    },
    {
      "cell_type": "code",
      "metadata": {
        "id": "M_3p2pLi72OC",
        "colab": {
          "base_uri": "https://localhost:8080/"
        },
        "outputId": "63bead61-9c05-4664-a9c7-5750788ee6a1"
      },
      "source": [
        "from tensorflow.keras.datasets import imdb\n",
        "from tensorflow.keras import preprocessing\n",
        "\n",
        "# Utilizaremos las 10,000 palabras más usuales.\n",
        "max_features = 10000\n",
        "\n",
        "# Por cada crítica, consideraremos sólo las 20 primeras palabras dentro de las 10,000 más usuales.\n",
        "maxlen = 20\n",
        "\n",
        "# Cargamos los datos como listas de enteros.\n",
        "(x_train, y_train), (x_test, y_test) = imdb.load_data(num_words=max_features)\n",
        "\n",
        "# Convertimos nuestras listas de enteros en tensores 2D de dimensiones (número de críticas, maxlen)\n",
        "x_train = preprocessing.sequence.pad_sequences(x_train, maxlen=maxlen)\n",
        "x_test = preprocessing.sequence.pad_sequences(x_test, maxlen=maxlen)"
      ],
      "execution_count": null,
      "outputs": [
        {
          "output_type": "stream",
          "text": [
            "Downloading data from https://storage.googleapis.com/tensorflow/tf-keras-datasets/imdb.npz\n",
            "17465344/17464789 [==============================] - 0s 0us/step\n"
          ],
          "name": "stdout"
        }
      ]
    },
    {
      "cell_type": "code",
      "metadata": {
        "colab": {
          "base_uri": "https://localhost:8080/"
        },
        "id": "c6wWr2gYpBAC",
        "outputId": "69145961-83f6-4091-9c37-abe6581e8827"
      },
      "source": [
        "x_train.shape"
      ],
      "execution_count": null,
      "outputs": [
        {
          "output_type": "execute_result",
          "data": {
            "text/plain": [
              "(25000, 20)"
            ]
          },
          "metadata": {
            "tags": []
          },
          "execution_count": 2
        }
      ]
    },
    {
      "cell_type": "code",
      "metadata": {
        "id": "BJv4N6hZ80cN",
        "colab": {
          "base_uri": "https://localhost:8080/"
        },
        "outputId": "e49e1971-9c73-4166-885b-6a10a416c404"
      },
      "source": [
        "from tensorflow.keras.models import Sequential\n",
        "from tensorflow.keras.layers import Flatten, Dense\n",
        "from tensorflow.keras.layers import Embedding\n",
        "from tensorflow.keras.callbacks import EarlyStopping\n",
        "from tensorflow.keras.callbacks import ModelCheckpoint\n",
        "\n",
        "model = Sequential()\n",
        "# Definimos las características de la capa Embedding.\n",
        "# El primer argumento se refiere al tamaño del vocabulario.\n",
        "# El segundo argumento está asociado con las dimensiones que tendrá cada word embedding\n",
        "# Y el tercer argumento, nos va a servir para aplanar los tensores que se vayan generando.\n",
        "model.add(Embedding(10000, 8, input_length=maxlen))\n",
        "# Luego de la capa Embedding, las dimensiones de las activaciones serán (tamaño del vocabulario, maxlen, 8)\n",
        "\n",
        "# Procedemos a aplanar el tensor 3D de word embeddings a un tensor 2D con dimensiones (tamaño del vocabulario, maxlen * 8)\n",
        "model.add(Flatten())\n",
        "\n",
        "# Agregamos el clasificador\n",
        "model.add(Dense(1, activation='sigmoid'))\n",
        "#Compilación\n",
        "model.compile(optimizer='rmsprop', loss='binary_crossentropy', metrics=['acc'])\n",
        "#Resumen de la arquitectura\n",
        "model.summary()\n",
        "\n",
        "#Definimos los callbacks\n",
        "es = EarlyStopping(monitor= 'val_loss', mode='min', patience = 7, verbose=1)\n",
        "mc = ModelCheckpoint('/content/model_embedding_imdb.h5', monitor='val_loss', mode='min', verbose=1, save_best_only=True)\n",
        "\n",
        "\n",
        "#Entrenamiento\n",
        "history = model.fit(x_train, y_train,\n",
        "                    epochs=10,\n",
        "                    batch_size=32,\n",
        "                    validation_split=0.2)"
      ],
      "execution_count": null,
      "outputs": [
        {
          "output_type": "stream",
          "text": [
            "Model: \"sequential_1\"\n",
            "_________________________________________________________________\n",
            "Layer (type)                 Output Shape              Param #   \n",
            "=================================================================\n",
            "embedding (Embedding)        (None, 20, 8)             80000     \n",
            "_________________________________________________________________\n",
            "flatten (Flatten)            (None, 160)               0         \n",
            "_________________________________________________________________\n",
            "dense (Dense)                (None, 1)                 161       \n",
            "=================================================================\n",
            "Total params: 80,161\n",
            "Trainable params: 80,161\n",
            "Non-trainable params: 0\n",
            "_________________________________________________________________\n",
            "Epoch 1/10\n",
            "625/625 [==============================] - 1s 2ms/step - loss: 0.6738 - acc: 0.6118 - val_loss: 0.6306 - val_acc: 0.6900\n",
            "Epoch 2/10\n",
            "625/625 [==============================] - 1s 2ms/step - loss: 0.5520 - acc: 0.7485 - val_loss: 0.5319 - val_acc: 0.7264\n",
            "Epoch 3/10\n",
            "625/625 [==============================] - 1s 1ms/step - loss: 0.4651 - acc: 0.7869 - val_loss: 0.5046 - val_acc: 0.7446\n",
            "Epoch 4/10\n",
            "625/625 [==============================] - 1s 1ms/step - loss: 0.4222 - acc: 0.8106 - val_loss: 0.4949 - val_acc: 0.7560\n",
            "Epoch 5/10\n",
            "625/625 [==============================] - 1s 1ms/step - loss: 0.3927 - acc: 0.8264 - val_loss: 0.4951 - val_acc: 0.7566\n",
            "Epoch 6/10\n",
            "625/625 [==============================] - 1s 1ms/step - loss: 0.3686 - acc: 0.8414 - val_loss: 0.4968 - val_acc: 0.7554\n",
            "Epoch 7/10\n",
            "625/625 [==============================] - 1s 2ms/step - loss: 0.3469 - acc: 0.8535 - val_loss: 0.5030 - val_acc: 0.7528\n",
            "Epoch 8/10\n",
            "625/625 [==============================] - 1s 2ms/step - loss: 0.3274 - acc: 0.8630 - val_loss: 0.5107 - val_acc: 0.7524\n",
            "Epoch 9/10\n",
            "625/625 [==============================] - 1s 2ms/step - loss: 0.3091 - acc: 0.8735 - val_loss: 0.5200 - val_acc: 0.7518\n",
            "Epoch 10/10\n",
            "625/625 [==============================] - 1s 1ms/step - loss: 0.2916 - acc: 0.8832 - val_loss: 0.5298 - val_acc: 0.7480\n"
          ],
          "name": "stdout"
        }
      ]
    },
    {
      "cell_type": "code",
      "metadata": {
        "id": "QMIBgs9Id0Td"
      },
      "source": [
        "!cp '/content/model_embedding_imdb.h5'  '/content/drive/My Drive/Natural_Language_Processing/Models/model_embedding_imdb.h5'"
      ],
      "execution_count": null,
      "outputs": []
    }
  ]
}